{
 "cells": [
  {
   "cell_type": "code",
   "execution_count": 1,
   "id": "5240b998",
   "metadata": {},
   "outputs": [],
   "source": [
    "import numpy as np\n",
    "import pandas as pd"
   ]
  },
  {
   "cell_type": "code",
   "execution_count": 2,
   "id": "a0457114",
   "metadata": {},
   "outputs": [],
   "source": [
    "labeling_gte9_dl_path = '/Users/salmadanu/Desktop/Skripsi/skripsi-env/narasipal/dl_models/labeling_gte9_dl.xlsx'\n",
    "df_labeling_gte9_dl = pd.read_excel(labeling_gte9_dl_path)\n",
    "\n",
    "merged_raw_path = '/Users/salmadanu/Desktop/Skripsi/skripsi-env/narasipal/cleaning/merged_raw.xlsx'\n",
    "df_merged_raw = pd.read_excel(merged_raw_path)"
   ]
  },
  {
   "cell_type": "code",
   "execution_count": 3,
   "id": "2e338da1",
   "metadata": {},
   "outputs": [],
   "source": [
    "# Strip whitespace from both DataFrames\n",
    "df_labeling_gte9_dl['judul_berita'] = df_labeling_gte9_dl['judul_berita'].str.strip()\n",
    "df_merged_raw['judul_berita'] = df_merged_raw['judul_berita'].str.strip()"
   ]
  },
  {
   "cell_type": "code",
   "execution_count": 4,
   "id": "0d9ed430",
   "metadata": {},
   "outputs": [],
   "source": [
    "import re\n",
    "\n",
    "df_labeling_gte9_dl['judul_berita'] = df_labeling_gte9_dl['judul_berita'].str.replace(r'\\s+', ' ', regex=True)\n",
    "df_merged_raw['judul_berita'] = df_merged_raw['judul_berita'].str.replace(r'\\s+', ' ', regex=True)"
   ]
  },
  {
   "cell_type": "markdown",
   "id": "bc3b672f",
   "metadata": {},
   "source": [
    "# Run from here"
   ]
  },
  {
   "cell_type": "code",
   "execution_count": 5,
   "id": "a1d46cef",
   "metadata": {},
   "outputs": [],
   "source": [
    "import unicodedata\n",
    "import re\n",
    "\n",
    "def normalize_title(title):\n",
    "    if isinstance(title, str):\n",
    "        # Normalize unicode and whitespace\n",
    "        title = unicodedata.normalize(\"NFKC\", title)\n",
    "        title = title.replace('\\xa0', ' ')\n",
    "        title = re.sub(r'\\s+', ' ', title)\n",
    "        title = re.sub(r'[\\u200B-\\u200D\\uFEFF]', '', title)\n",
    "        title = title.strip()\n",
    "        # Remove common prefixes (e.g., \"VIDEO:\", \"[HOAKS]\", etc.)\n",
    "        title = re.sub(\n",
    "            r'^(?i)(video[:\\s-]*|[\\[\\(]?(hoaks|klarifikasi|infografik|full|populer(?:\\s+\\w+)?|eksklusif|[a-z]*grafik|update|live|info)[\\]\\)]?[:\\s-]*|[a-z]*grafik[:\\s-]*)',\n",
    "            '',\n",
    "            title\n",
    "        )\n",
    "\n",
    "        # Remove any remaining leading non-alphanumeric characters\n",
    "        title = re.sub(r'^[^\\w]*', '', title)\n",
    "\n",
    "    return title\n"
   ]
  },
  {
   "cell_type": "code",
   "execution_count": 6,
   "id": "299d2e1f",
   "metadata": {},
   "outputs": [
    {
     "name": "stderr",
     "output_type": "stream",
     "text": [
      "/var/folders/yz/d10v6srd14b8wkvpxfd2br140000gp/T/ipykernel_26184/624159780.py:13: DeprecationWarning: Flags not at the start of the expression '^(?i)(video[:\\\\s-]*|[' (truncated)\n",
      "  title = re.sub(\n"
     ]
    }
   ],
   "source": [
    "df_labeling_gte9_dl['judul_berita_clean'] = df_labeling_gte9_dl['judul_berita'].apply(normalize_title)\n",
    "df_merged_raw['judul_berita_clean'] = df_merged_raw['judul_berita'].apply(normalize_title)"
   ]
  },
  {
   "cell_type": "code",
   "execution_count": 7,
   "id": "1a0f88be",
   "metadata": {},
   "outputs": [],
   "source": [
    "df_labeled_final = pd.merge(\n",
    "    df_merged_raw,\n",
    "    df_labeling_gte9_dl[['judul_berita_clean', 'frame_labels']],\n",
    "    on='judul_berita_clean',\n",
    "    how='inner'\n",
    ")\n",
    "\n",
    "df_labeled_final = df_labeled_final[['judul_berita_clean', 'sumber_berita', 'frame_labels']]\n",
    "df_labeled_final.drop_duplicates(inplace=True)"
   ]
  },
  {
   "cell_type": "code",
   "execution_count": 8,
   "id": "df633455",
   "metadata": {},
   "outputs": [],
   "source": [
    "df_labeled_final.to_excel('/Users/salmadanu/Desktop/Skripsi/skripsi-env/narasipal/labeling/v5_df_labeled_final.xlsx', index=True)"
   ]
  },
  {
   "cell_type": "code",
   "execution_count": 9,
   "id": "934a5cdc",
   "metadata": {},
   "outputs": [
    {
     "name": "stdout",
     "output_type": "stream",
     "text": [
      "Unmatched judul_berita_clean count: 0\n"
     ]
    }
   ],
   "source": [
    "# Clean both first (as shown above)\n",
    "\n",
    "# Left join to see what didn't match from labeling data\n",
    "unmatched = df_labeling_gte9_dl[~df_labeling_gte9_dl['judul_berita_clean'].isin(df_merged_raw['judul_berita_clean'])]\n",
    "\n",
    "print(\"Unmatched judul_berita_clean count:\", len(unmatched))"
   ]
  },
  {
   "cell_type": "code",
   "execution_count": 10,
   "id": "a803284d",
   "metadata": {},
   "outputs": [],
   "source": [
    "# Create sets for fast comparison\n",
    "set_label = set(df_labeling_gte9_dl['judul_berita_clean'])\n",
    "set_raw = set(df_merged_raw['judul_berita_clean'])\n",
    "\n",
    "# What's in df_labeling_gte9_dl but not in df_merged_raw\n",
    "unmatched_titles = list(set_label - set_raw)"
   ]
  },
  {
   "cell_type": "code",
   "execution_count": 11,
   "id": "cbf92f65",
   "metadata": {},
   "outputs": [
    {
     "data": {
      "text/plain": [
       "[]"
      ]
     },
     "execution_count": 11,
     "metadata": {},
     "output_type": "execute_result"
    }
   ],
   "source": [
    "unmatched_titles"
   ]
  },
  {
   "cell_type": "code",
   "execution_count": 12,
   "id": "02c5b8a9",
   "metadata": {},
   "outputs": [],
   "source": [
    "from rapidfuzz import process, fuzz\n",
    "\n",
    "# Clean titles again if needed\n",
    "cleaned_raw_titles = df_merged_raw['judul_berita_clean'].tolist()\n",
    "\n",
    "# Get top fuzzy matches for each unmatched title\n",
    "for title in unmatched_titles[:46]:  # sample first 10\n",
    "    match, score, idx = process.extractOne(title, cleaned_raw_titles, scorer=fuzz.ratio)\n",
    "    print(f\"\\n🔎 {title}\\n→ Closest match: {match} (score: {score})\")"
   ]
  },
  {
   "cell_type": "code",
   "execution_count": 13,
   "id": "5ade75d1",
   "metadata": {},
   "outputs": [
    {
     "data": {
      "text/plain": [
       "judul_berita_clean\n",
       "Momen Warga Israel Disandera Hamas saat Hadiri Festival Musik            4\n",
       "Zulhas: Jokowi Minta AS Bantu Hentikan Serangan Israel ke Palestina      2\n",
       "4 Warga Palestina Tewas Ditembak Tentara Israel di Tepi Barat            2\n",
       "Hamas: Keputusan Hentikan Perang Gaza Ada di Tangan AS                   2\n",
       "Jokowi Instruksikan Prabowo Kirim Nakes dan Bangun RS di Gaza            2\n",
       "Indonesia Dorong Pemberian Hak Istimewa ke Palestina di Sidang PBB       2\n",
       "Serangan Israel Tewaskan Eks Menteri Agama Palestina Youssef Salama      2\n",
       "Momen Prabowo Jabat Erat Tangan Presiden Palestina Mahmoud Abbas         2\n",
       "Momen Prabowo Cium Bendera Palestina Saat Kampanye di Batam              2\n",
       "Israel Izinkan Muslim Palestina Ibadah di Masjid Al-Aqsa saat Ramadan    2\n",
       "Name: count, dtype: int64"
      ]
     },
     "execution_count": 13,
     "metadata": {},
     "output_type": "execute_result"
    }
   ],
   "source": [
    "# Step 1: Check for duplicates in your merge key\n",
    "df_labeling_gte9_dl['judul_berita_clean'].duplicated().sum()\n",
    "df_merged_raw['judul_berita_clean'].duplicated().sum()  # or whatever df you're merging on\n",
    "\n",
    "# Step 2: Try a groupby to find which key caused multiple matches\n",
    "df_labeled_final['judul_berita_clean'].value_counts().head(10)"
   ]
  },
  {
   "cell_type": "code",
   "execution_count": null,
   "id": "a40955d4",
   "metadata": {},
   "outputs": [],
   "source": []
  }
 ],
 "metadata": {
  "kernelspec": {
   "display_name": "venv",
   "language": "python",
   "name": "python3"
  },
  "language_info": {
   "codemirror_mode": {
    "name": "ipython",
    "version": 3
   },
   "file_extension": ".py",
   "mimetype": "text/x-python",
   "name": "python",
   "nbconvert_exporter": "python",
   "pygments_lexer": "ipython3",
   "version": "3.9.7"
  }
 },
 "nbformat": 4,
 "nbformat_minor": 5
}
