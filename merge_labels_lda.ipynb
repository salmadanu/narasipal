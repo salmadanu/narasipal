{
 "cells": [
  {
   "cell_type": "code",
   "execution_count": 1,
   "id": "1f44a0aa",
   "metadata": {},
   "outputs": [],
   "source": [
    "import numpy as np\n",
    "import pandas as pd"
   ]
  },
  {
   "cell_type": "code",
   "execution_count": 2,
   "id": "3d8d9d68",
   "metadata": {},
   "outputs": [],
   "source": [
    "labeling_gte9_dl_path = '/Users/salmadanu/Desktop/Skripsi/skripsi-env/narasipal/dl_models/labeling_gte9_dl.xlsx'\n",
    "df_labeling_gte9_dl = pd.read_excel(labeling_gte9_dl_path)\n",
    "\n",
    "random_gte_dl_path = '/Users/salmadanu/Desktop/Skripsi/skripsi-env/narasipal/dl_models/random_gte9_dl.xlsx'\n",
    "df_random_gte_dl = pd.read_excel(random_gte_dl_path)"
   ]
  },
  {
   "cell_type": "code",
   "execution_count": 3,
   "id": "3a5db291",
   "metadata": {},
   "outputs": [
    {
     "data": {
      "application/vnd.microsoft.datawrangler.viewer.v0+json": {
       "columns": [
        {
         "name": "index",
         "rawType": "int64",
         "type": "integer"
        },
        {
         "name": "judul_berita",
         "rawType": "object",
         "type": "string"
        },
        {
         "name": "frame_labels",
         "rawType": "int64",
         "type": "integer"
        },
        {
         "name": "frame_labels_lda",
         "rawType": "int64",
         "type": "integer"
        }
       ],
       "conversionMethod": "pd.DataFrame",
       "ref": "17825d08-af70-4b02-826c-1ea8ce4b9f5d",
       "rows": [
        [
         "0",
         "Pasukan Israel Gerebek Rumah Warga Di Tepi Barat, 2 Warga Tewas",
         "3",
         "0"
        ],
        [
         "1",
         "15 Tewas dalam Serangan Udara Israel di Kamp Pengungsi Gaza",
         "3",
         "0"
        ],
        [
         "2",
         "Video Evakuasi Warga Palestina dari Gaza Utara, Bukan Rafah",
         "0",
         "0"
        ],
        [
         "3",
         "Israel dan Hamas Buka Ruang untuk Berunding soal Perang di Gaza",
         "5",
         "1"
        ],
        [
         "4",
         "Detik-detik Diklaim Brigade Al Qassam Pakai RPG Bidik Tentara Israel",
         "4",
         "0"
        ],
        [
         "5",
         "UNRWA Terpaksa Hentikan Operasi Kemanusiaan di Gaza Gegara Tak Ada BBM",
         "0",
         "0"
        ],
        [
         "6",
         "Kondisi Bayi di RS Al-Shifa Gaza Setelah Dikeluarkan dari Inkubator",
         "0",
         "0"
        ],
        [
         "7",
         "Negara Arab Tak Mau Warga Palestina Mengungsi Meski Digempur Israel",
         "5",
         "1"
        ],
        [
         "8",
         "Israel Usir Ribuan Warga Gaza Palestina Usai Tembakan Serangan Roket ke Khan Younis",
         "0",
         "0"
        ],
        [
         "9",
         "Cerita Warga Bandung hingga Makassar Datang ke Monas Demi Aksi Bela Palestina",
         "2",
         "0"
        ],
        [
         "10",
         "Uni Eropa Kecam Serangan Terbaru Israel terhadap Sekolah di Gaza",
         "7",
         "2"
        ],
        [
         "11",
         "Israel Menggila Lagi, Incar Komandan Hamas-Bantai Puluhan Warga Gaza",
         "3",
         "4"
        ],
        [
         "12",
         "Tolak Ikut Agresi Gaza, Remaja Israel Dijebloskan 30 Hari di Penjara",
         "5",
         "0"
        ],
        [
         "13",
         "Tentara Israel Bunuh 6 Warga Palestina di Tepi Barat",
         "3",
         "0"
        ],
        [
         "14",
         "11 Kondisi Sebenarnya Perekonomian Israel Akibat Perangi Gaza yang Ditutup-tutupi",
         "5",
         "2"
        ],
        [
         "15",
         "Hamas Minta JK Turut Serta dalam Upaya Damai di Palestina",
         "2",
         "0"
        ],
        [
         "16",
         "Mantan Bos Shin Bet: Rakyat Palestina Punya Hak untuk Mempertahankan Tanah Mereka",
         "5",
         "0"
        ],
        [
         "17",
         "Serangan Israel ke Gaza Saat Ramadhan Tewaskan Pemain Timnas Palestina",
         "3",
         "3"
        ],
        [
         "18",
         "DPR Buka Kemungkinan Kirim Bantuan untuk Gaza Lewat UNRWA",
         "2",
         "0"
        ],
        [
         "19",
         "Serangan Udara Israel ke Rafah, 22 Warga Palestina Tewas",
         "3",
         "2"
        ],
        [
         "20",
         "\"Sambut\" Netanyahu, Massa Kibarkan Bendera Palestina dan Bakar Boneka PM Israel",
         "6",
         "0"
        ],
        [
         "21",
         "Potensi Perang Israel Vs Hizbullah, AS Buru-buru Serukan Diplomasi",
         "1",
         "1"
        ],
        [
         "22",
         "Utusan Biden Temui Presiden Palestina Usai dari Israel, Mau Apa?",
         "1",
         "0"
        ],
        [
         "23",
         "Prabowo Berikan Beasiswa untuk 22 Pelajar Palestina di Unhan RI",
         "2",
         "2"
        ],
        [
         "24",
         "Coret Bella Hadid karena Desakan Israel, Seruan Boikot terhadap Adidas Menguat",
         "6",
         "0"
        ],
        [
         "25",
         "Netanyahu Akui Salah dalam Serangan ke Rafah, Hamas Minta AS Tanggung Jawab",
         "4",
         "4"
        ],
        [
         "26",
         "Lewat TNI AL, Pemkab Banyuwangi Salurkan Bantuan Kemanusiaan untuk Warga Palestina",
         "0",
         "0"
        ],
        [
         "27",
         "Melihat Kondisi Kehidupan Warga Palestina yang Tinggal di Tenda-Tenda Pengungsian yang Dikelola PBB",
         "0",
         "0"
        ],
        [
         "28",
         "3 WNI Terjebak di Gaza, Menlu: Sulit Dievakuasi karena Isu Administrasi",
         "0",
         "2"
        ],
        [
         "29",
         "Iran Siap Serang AS jika Terus Terlibat di Konflik Palestina",
         "1",
         "1"
        ],
        [
         "30",
         "Hamas Sebut Gaza Akan Dikontrol Palestina usai Agresi Israel Rampung",
         "4",
         "4"
        ],
        [
         "31",
         "Serukan Gencatan Senjata, Presiden Majelis Umum PBB Ingin Pembantaian di Gaza Berakhir",
         "7",
         "0"
        ],
        [
         "32",
         "Upayakan Pembebasan Sandera, Pentagon: Menhan AS Akan Bertemu Menhan Israel Pekan Depan",
         "1",
         "1"
        ],
        [
         "33",
         "UNESCO Diminta Lindungi Situs Bersejarah Gaza dari Serangan Israel",
         "6",
         "0"
        ],
        [
         "34",
         "Potret Aksi Bela Palestina di Jakarta, Lawan Agresi Israel",
         "2",
         "1"
        ],
        [
         "35",
         "Google Pecat Pegawai Pro Palestina yang Protes di Forum Ini!",
         "6",
         "0"
        ],
        [
         "36",
         "Menlu AS Bakal ke Israel dan Tepi Barat di Tengah Gencatan Senjata",
         "1",
         "2"
        ],
        [
         "37",
         "Brutal! Serangan Israel Tewaskan 3 Jurnalis di Lebanon Selatan",
         "3",
         "2"
        ],
        [
         "38",
         "Terjebak di Gaza, Ibu Mertua PM Skotlandia Memohon Pertolongan",
         "0",
         "0"
        ],
        [
         "39",
         "Potret Warga Palestina Kekurangan Air di Tengah Konflik Hamas-Israel",
         "0",
         "0"
        ],
        [
         "40",
         "Kamp Jabaliya Gaza Jadi Target Serangan, Rumah Sakit Indonesia Jadi Rujukan Banyak Korban",
         "0",
         "0"
        ],
        [
         "41",
         "Latar di Balik Viralnya Emoji Semangka untuk Dukung Palestina",
         "6",
         "2"
        ],
        [
         "42",
         "WhatsApp Dituduh Bocorkan Informasi Warga Palestina ke Israel, Ini Faktanya",
         "6",
         "0"
        ],
        [
         "43",
         "Zionis Israel Kembali Serang Kamp Pengungsi di Gaza, 11 Orang Tewas",
         "3",
         "3"
        ],
        [
         "44",
         "Jubir Israel Minta Warga Lebanon Menjauh Dari Lokasi Hizbullah",
         "5",
         "0"
        ],
        [
         "45",
         "Israel Membela Diri di Pengadilan Dunia, Sebut Perang Gaza Ingin Lindungi Rakyat Palestina",
         "5",
         "0"
        ],
        [
         "46",
         "Temui Raja Yordania, Prabowo: Indonesia Terus Pantau Perkembangan Memburuk di Gaza",
         "7",
         "2"
        ],
        [
         "47",
         "Sumpah Serapah Erdogan ke Netanyahu, dari Vampir sampai Kutukan Firaun dan Hitler",
         "5",
         "2"
        ],
        [
         "48",
         "Mengenal UNRWA, Lembaga yang Memberikan Bantuan untuk Pengungsi Palestina",
         "0",
         "1"
        ],
        [
         "49",
         "Kenapa Jalur Gaza Jadi Zona Pertempuran Israel - Palestina?",
         "1",
         "2"
        ]
       ],
       "shape": {
        "columns": 3,
        "rows": 8912
       }
      },
      "text/html": [
       "<div>\n",
       "<style scoped>\n",
       "    .dataframe tbody tr th:only-of-type {\n",
       "        vertical-align: middle;\n",
       "    }\n",
       "\n",
       "    .dataframe tbody tr th {\n",
       "        vertical-align: top;\n",
       "    }\n",
       "\n",
       "    .dataframe thead th {\n",
       "        text-align: right;\n",
       "    }\n",
       "</style>\n",
       "<table border=\"1\" class=\"dataframe\">\n",
       "  <thead>\n",
       "    <tr style=\"text-align: right;\">\n",
       "      <th></th>\n",
       "      <th>judul_berita</th>\n",
       "      <th>frame_labels</th>\n",
       "      <th>frame_labels_lda</th>\n",
       "    </tr>\n",
       "  </thead>\n",
       "  <tbody>\n",
       "    <tr>\n",
       "      <th>0</th>\n",
       "      <td>Pasukan Israel Gerebek Rumah Warga Di Tepi Bar...</td>\n",
       "      <td>3</td>\n",
       "      <td>0</td>\n",
       "    </tr>\n",
       "    <tr>\n",
       "      <th>1</th>\n",
       "      <td>15 Tewas dalam Serangan Udara Israel di Kamp P...</td>\n",
       "      <td>3</td>\n",
       "      <td>0</td>\n",
       "    </tr>\n",
       "    <tr>\n",
       "      <th>2</th>\n",
       "      <td>Video Evakuasi Warga Palestina dari Gaza Utara...</td>\n",
       "      <td>0</td>\n",
       "      <td>0</td>\n",
       "    </tr>\n",
       "    <tr>\n",
       "      <th>3</th>\n",
       "      <td>Israel dan Hamas Buka Ruang untuk Berunding so...</td>\n",
       "      <td>5</td>\n",
       "      <td>1</td>\n",
       "    </tr>\n",
       "    <tr>\n",
       "      <th>4</th>\n",
       "      <td>Detik-detik Diklaim Brigade Al Qassam Pakai RP...</td>\n",
       "      <td>4</td>\n",
       "      <td>0</td>\n",
       "    </tr>\n",
       "    <tr>\n",
       "      <th>...</th>\n",
       "      <td>...</td>\n",
       "      <td>...</td>\n",
       "      <td>...</td>\n",
       "    </tr>\n",
       "    <tr>\n",
       "      <th>8907</th>\n",
       "      <td>Penampakan Gaza Sebelum dan Sesudah Diserang I...</td>\n",
       "      <td>0</td>\n",
       "      <td>2</td>\n",
       "    </tr>\n",
       "    <tr>\n",
       "      <th>8908</th>\n",
       "      <td>Terima Kunjungan Dubes Palestina, Prabowo Baha...</td>\n",
       "      <td>2</td>\n",
       "      <td>0</td>\n",
       "    </tr>\n",
       "    <tr>\n",
       "      <th>8909</th>\n",
       "      <td>Pembunuhan 100 Lebih Warga Palestina yang Menu...</td>\n",
       "      <td>3</td>\n",
       "      <td>0</td>\n",
       "    </tr>\n",
       "    <tr>\n",
       "      <th>8910</th>\n",
       "      <td>Iran Ultimatum Israel Jika Berani Invasi Jalur...</td>\n",
       "      <td>5</td>\n",
       "      <td>1</td>\n",
       "    </tr>\n",
       "    <tr>\n",
       "      <th>8911</th>\n",
       "      <td>Pemakaman Massal 88 Jasad WN Palestina Korban ...</td>\n",
       "      <td>0</td>\n",
       "      <td>0</td>\n",
       "    </tr>\n",
       "  </tbody>\n",
       "</table>\n",
       "<p>8912 rows × 3 columns</p>\n",
       "</div>"
      ],
      "text/plain": [
       "                                           judul_berita  frame_labels  \\\n",
       "0     Pasukan Israel Gerebek Rumah Warga Di Tepi Bar...             3   \n",
       "1     15 Tewas dalam Serangan Udara Israel di Kamp P...             3   \n",
       "2     Video Evakuasi Warga Palestina dari Gaza Utara...             0   \n",
       "3     Israel dan Hamas Buka Ruang untuk Berunding so...             5   \n",
       "4     Detik-detik Diklaim Brigade Al Qassam Pakai RP...             4   \n",
       "...                                                 ...           ...   \n",
       "8907  Penampakan Gaza Sebelum dan Sesudah Diserang I...             0   \n",
       "8908  Terima Kunjungan Dubes Palestina, Prabowo Baha...             2   \n",
       "8909  Pembunuhan 100 Lebih Warga Palestina yang Menu...             3   \n",
       "8910  Iran Ultimatum Israel Jika Berani Invasi Jalur...             5   \n",
       "8911  Pemakaman Massal 88 Jasad WN Palestina Korban ...             0   \n",
       "\n",
       "      frame_labels_lda  \n",
       "0                    0  \n",
       "1                    0  \n",
       "2                    0  \n",
       "3                    1  \n",
       "4                    0  \n",
       "...                ...  \n",
       "8907                 2  \n",
       "8908                 0  \n",
       "8909                 0  \n",
       "8910                 1  \n",
       "8911                 0  \n",
       "\n",
       "[8912 rows x 3 columns]"
      ]
     },
     "execution_count": 3,
     "metadata": {},
     "output_type": "execute_result"
    }
   ],
   "source": [
    "df_lda_labeled = pd.merge(\n",
    "    df_labeling_gte9_dl,\n",
    "    df_random_gte_dl,\n",
    "    on='judul_berita',\n",
    "    how='inner'\n",
    ")\n",
    "\n",
    "df_lda_labeled"
   ]
  },
  {
   "cell_type": "code",
   "execution_count": 4,
   "id": "411a1541",
   "metadata": {},
   "outputs": [
    {
     "data": {
      "application/vnd.microsoft.datawrangler.viewer.v0+json": {
       "columns": [
        {
         "name": "index",
         "rawType": "int64",
         "type": "integer"
        },
        {
         "name": "judul_berita",
         "rawType": "object",
         "type": "string"
        },
        {
         "name": "frame_labels_lda",
         "rawType": "int64",
         "type": "integer"
        }
       ],
       "conversionMethod": "pd.DataFrame",
       "ref": "3b7923ba-c3b2-4142-ba17-1f2a6107ddf2",
       "rows": [
        [
         "0",
         "Pasukan Israel Gerebek Rumah Warga Di Tepi Barat, 2 Warga Tewas",
         "0"
        ],
        [
         "1",
         "15 Tewas dalam Serangan Udara Israel di Kamp Pengungsi Gaza",
         "0"
        ],
        [
         "2",
         "Video Evakuasi Warga Palestina dari Gaza Utara, Bukan Rafah",
         "0"
        ],
        [
         "3",
         "Israel dan Hamas Buka Ruang untuk Berunding soal Perang di Gaza",
         "1"
        ],
        [
         "4",
         "Detik-detik Diklaim Brigade Al Qassam Pakai RPG Bidik Tentara Israel",
         "0"
        ],
        [
         "5",
         "UNRWA Terpaksa Hentikan Operasi Kemanusiaan di Gaza Gegara Tak Ada BBM",
         "0"
        ],
        [
         "6",
         "Kondisi Bayi di RS Al-Shifa Gaza Setelah Dikeluarkan dari Inkubator",
         "0"
        ],
        [
         "7",
         "Negara Arab Tak Mau Warga Palestina Mengungsi Meski Digempur Israel",
         "1"
        ],
        [
         "8",
         "Israel Usir Ribuan Warga Gaza Palestina Usai Tembakan Serangan Roket ke Khan Younis",
         "0"
        ],
        [
         "9",
         "Cerita Warga Bandung hingga Makassar Datang ke Monas Demi Aksi Bela Palestina",
         "0"
        ],
        [
         "10",
         "Uni Eropa Kecam Serangan Terbaru Israel terhadap Sekolah di Gaza",
         "2"
        ],
        [
         "11",
         "Israel Menggila Lagi, Incar Komandan Hamas-Bantai Puluhan Warga Gaza",
         "4"
        ],
        [
         "12",
         "Tolak Ikut Agresi Gaza, Remaja Israel Dijebloskan 30 Hari di Penjara",
         "0"
        ],
        [
         "13",
         "Tentara Israel Bunuh 6 Warga Palestina di Tepi Barat",
         "0"
        ],
        [
         "14",
         "11 Kondisi Sebenarnya Perekonomian Israel Akibat Perangi Gaza yang Ditutup-tutupi",
         "2"
        ],
        [
         "15",
         "Hamas Minta JK Turut Serta dalam Upaya Damai di Palestina",
         "0"
        ],
        [
         "16",
         "Mantan Bos Shin Bet: Rakyat Palestina Punya Hak untuk Mempertahankan Tanah Mereka",
         "0"
        ],
        [
         "17",
         "Serangan Israel ke Gaza Saat Ramadhan Tewaskan Pemain Timnas Palestina",
         "3"
        ],
        [
         "18",
         "DPR Buka Kemungkinan Kirim Bantuan untuk Gaza Lewat UNRWA",
         "0"
        ],
        [
         "19",
         "Serangan Udara Israel ke Rafah, 22 Warga Palestina Tewas",
         "2"
        ],
        [
         "20",
         "\"Sambut\" Netanyahu, Massa Kibarkan Bendera Palestina dan Bakar Boneka PM Israel",
         "0"
        ],
        [
         "21",
         "Potensi Perang Israel Vs Hizbullah, AS Buru-buru Serukan Diplomasi",
         "1"
        ],
        [
         "22",
         "Utusan Biden Temui Presiden Palestina Usai dari Israel, Mau Apa?",
         "0"
        ],
        [
         "23",
         "Prabowo Berikan Beasiswa untuk 22 Pelajar Palestina di Unhan RI",
         "2"
        ],
        [
         "24",
         "Coret Bella Hadid karena Desakan Israel, Seruan Boikot terhadap Adidas Menguat",
         "0"
        ],
        [
         "25",
         "Netanyahu Akui Salah dalam Serangan ke Rafah, Hamas Minta AS Tanggung Jawab",
         "4"
        ],
        [
         "26",
         "Lewat TNI AL, Pemkab Banyuwangi Salurkan Bantuan Kemanusiaan untuk Warga Palestina",
         "0"
        ],
        [
         "27",
         "Melihat Kondisi Kehidupan Warga Palestina yang Tinggal di Tenda-Tenda Pengungsian yang Dikelola PBB",
         "0"
        ],
        [
         "28",
         "3 WNI Terjebak di Gaza, Menlu: Sulit Dievakuasi karena Isu Administrasi",
         "2"
        ],
        [
         "29",
         "Iran Siap Serang AS jika Terus Terlibat di Konflik Palestina",
         "1"
        ],
        [
         "30",
         "Hamas Sebut Gaza Akan Dikontrol Palestina usai Agresi Israel Rampung",
         "4"
        ],
        [
         "31",
         "Serukan Gencatan Senjata, Presiden Majelis Umum PBB Ingin Pembantaian di Gaza Berakhir",
         "0"
        ],
        [
         "32",
         "Upayakan Pembebasan Sandera, Pentagon: Menhan AS Akan Bertemu Menhan Israel Pekan Depan",
         "1"
        ],
        [
         "33",
         "UNESCO Diminta Lindungi Situs Bersejarah Gaza dari Serangan Israel",
         "0"
        ],
        [
         "34",
         "Potret Aksi Bela Palestina di Jakarta, Lawan Agresi Israel",
         "1"
        ],
        [
         "35",
         "Google Pecat Pegawai Pro Palestina yang Protes di Forum Ini!",
         "0"
        ],
        [
         "36",
         "Menlu AS Bakal ke Israel dan Tepi Barat di Tengah Gencatan Senjata",
         "2"
        ],
        [
         "37",
         "Brutal! Serangan Israel Tewaskan 3 Jurnalis di Lebanon Selatan",
         "2"
        ],
        [
         "38",
         "Terjebak di Gaza, Ibu Mertua PM Skotlandia Memohon Pertolongan",
         "0"
        ],
        [
         "39",
         "Potret Warga Palestina Kekurangan Air di Tengah Konflik Hamas-Israel",
         "0"
        ],
        [
         "40",
         "Kamp Jabaliya Gaza Jadi Target Serangan, Rumah Sakit Indonesia Jadi Rujukan Banyak Korban",
         "0"
        ],
        [
         "41",
         "Latar di Balik Viralnya Emoji Semangka untuk Dukung Palestina",
         "2"
        ],
        [
         "42",
         "WhatsApp Dituduh Bocorkan Informasi Warga Palestina ke Israel, Ini Faktanya",
         "0"
        ],
        [
         "43",
         "Zionis Israel Kembali Serang Kamp Pengungsi di Gaza, 11 Orang Tewas",
         "3"
        ],
        [
         "44",
         "Jubir Israel Minta Warga Lebanon Menjauh Dari Lokasi Hizbullah",
         "0"
        ],
        [
         "45",
         "Israel Membela Diri di Pengadilan Dunia, Sebut Perang Gaza Ingin Lindungi Rakyat Palestina",
         "0"
        ],
        [
         "46",
         "Temui Raja Yordania, Prabowo: Indonesia Terus Pantau Perkembangan Memburuk di Gaza",
         "2"
        ],
        [
         "47",
         "Sumpah Serapah Erdogan ke Netanyahu, dari Vampir sampai Kutukan Firaun dan Hitler",
         "2"
        ],
        [
         "48",
         "Mengenal UNRWA, Lembaga yang Memberikan Bantuan untuk Pengungsi Palestina",
         "1"
        ],
        [
         "49",
         "Kenapa Jalur Gaza Jadi Zona Pertempuran Israel - Palestina?",
         "2"
        ]
       ],
       "shape": {
        "columns": 2,
        "rows": 8912
       }
      },
      "text/html": [
       "<div>\n",
       "<style scoped>\n",
       "    .dataframe tbody tr th:only-of-type {\n",
       "        vertical-align: middle;\n",
       "    }\n",
       "\n",
       "    .dataframe tbody tr th {\n",
       "        vertical-align: top;\n",
       "    }\n",
       "\n",
       "    .dataframe thead th {\n",
       "        text-align: right;\n",
       "    }\n",
       "</style>\n",
       "<table border=\"1\" class=\"dataframe\">\n",
       "  <thead>\n",
       "    <tr style=\"text-align: right;\">\n",
       "      <th></th>\n",
       "      <th>judul_berita</th>\n",
       "      <th>frame_labels_lda</th>\n",
       "    </tr>\n",
       "  </thead>\n",
       "  <tbody>\n",
       "    <tr>\n",
       "      <th>0</th>\n",
       "      <td>Pasukan Israel Gerebek Rumah Warga Di Tepi Bar...</td>\n",
       "      <td>0</td>\n",
       "    </tr>\n",
       "    <tr>\n",
       "      <th>1</th>\n",
       "      <td>15 Tewas dalam Serangan Udara Israel di Kamp P...</td>\n",
       "      <td>0</td>\n",
       "    </tr>\n",
       "    <tr>\n",
       "      <th>2</th>\n",
       "      <td>Video Evakuasi Warga Palestina dari Gaza Utara...</td>\n",
       "      <td>0</td>\n",
       "    </tr>\n",
       "    <tr>\n",
       "      <th>3</th>\n",
       "      <td>Israel dan Hamas Buka Ruang untuk Berunding so...</td>\n",
       "      <td>1</td>\n",
       "    </tr>\n",
       "    <tr>\n",
       "      <th>4</th>\n",
       "      <td>Detik-detik Diklaim Brigade Al Qassam Pakai RP...</td>\n",
       "      <td>0</td>\n",
       "    </tr>\n",
       "    <tr>\n",
       "      <th>...</th>\n",
       "      <td>...</td>\n",
       "      <td>...</td>\n",
       "    </tr>\n",
       "    <tr>\n",
       "      <th>8907</th>\n",
       "      <td>Penampakan Gaza Sebelum dan Sesudah Diserang I...</td>\n",
       "      <td>2</td>\n",
       "    </tr>\n",
       "    <tr>\n",
       "      <th>8908</th>\n",
       "      <td>Terima Kunjungan Dubes Palestina, Prabowo Baha...</td>\n",
       "      <td>0</td>\n",
       "    </tr>\n",
       "    <tr>\n",
       "      <th>8909</th>\n",
       "      <td>Pembunuhan 100 Lebih Warga Palestina yang Menu...</td>\n",
       "      <td>0</td>\n",
       "    </tr>\n",
       "    <tr>\n",
       "      <th>8910</th>\n",
       "      <td>Iran Ultimatum Israel Jika Berani Invasi Jalur...</td>\n",
       "      <td>1</td>\n",
       "    </tr>\n",
       "    <tr>\n",
       "      <th>8911</th>\n",
       "      <td>Pemakaman Massal 88 Jasad WN Palestina Korban ...</td>\n",
       "      <td>0</td>\n",
       "    </tr>\n",
       "  </tbody>\n",
       "</table>\n",
       "<p>8912 rows × 2 columns</p>\n",
       "</div>"
      ],
      "text/plain": [
       "                                           judul_berita  frame_labels_lda\n",
       "0     Pasukan Israel Gerebek Rumah Warga Di Tepi Bar...                 0\n",
       "1     15 Tewas dalam Serangan Udara Israel di Kamp P...                 0\n",
       "2     Video Evakuasi Warga Palestina dari Gaza Utara...                 0\n",
       "3     Israel dan Hamas Buka Ruang untuk Berunding so...                 1\n",
       "4     Detik-detik Diklaim Brigade Al Qassam Pakai RP...                 0\n",
       "...                                                 ...               ...\n",
       "8907  Penampakan Gaza Sebelum dan Sesudah Diserang I...                 2\n",
       "8908  Terima Kunjungan Dubes Palestina, Prabowo Baha...                 0\n",
       "8909  Pembunuhan 100 Lebih Warga Palestina yang Menu...                 0\n",
       "8910  Iran Ultimatum Israel Jika Berani Invasi Jalur...                 1\n",
       "8911  Pemakaman Massal 88 Jasad WN Palestina Korban ...                 0\n",
       "\n",
       "[8912 rows x 2 columns]"
      ]
     },
     "execution_count": 4,
     "metadata": {},
     "output_type": "execute_result"
    }
   ],
   "source": [
    "df_lda_labeled_final = df_lda_labeled[['judul_berita','frame_labels_lda']]\n",
    "df_lda_labeled_final"
   ]
  },
  {
   "cell_type": "code",
   "execution_count": 5,
   "id": "b6b42160",
   "metadata": {},
   "outputs": [],
   "source": [
    "df_lda_labeled_final.to_excel('/Users/salmadanu/Desktop/Skripsi/skripsi-env/narasipal/dl_models/lda_labeled_final.xlsx', index=True)"
   ]
  }
 ],
 "metadata": {
  "kernelspec": {
   "display_name": "venv",
   "language": "python",
   "name": "python3"
  },
  "language_info": {
   "codemirror_mode": {
    "name": "ipython",
    "version": 3
   },
   "file_extension": ".py",
   "mimetype": "text/x-python",
   "name": "python",
   "nbconvert_exporter": "python",
   "pygments_lexer": "ipython3",
   "version": "3.9.7"
  }
 },
 "nbformat": 4,
 "nbformat_minor": 5
}
