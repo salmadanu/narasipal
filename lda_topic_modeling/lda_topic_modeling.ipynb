{
 "cells": [
  {
   "cell_type": "markdown",
   "id": "42632e3e",
   "metadata": {},
   "source": [
    "# Narasipal Latent Dirichlet Allocation\n",
    "1. Installing libraries & packages\n",
    "2. Data preprocessing\n",
    "3. LDA model\n",
    "4. Model evaluation\n",
    "5. LDA Visualization\n"
   ]
  },
  {
   "cell_type": "markdown",
   "id": "663c007f",
   "metadata": {},
   "source": [
    "## 1. Installing libraries & packages"
   ]
  },
  {
   "cell_type": "markdown",
   "id": "0fc96944",
   "metadata": {},
   "source": [
    "```pip install -r requirements.txt```"
   ]
  },
  {
   "cell_type": "code",
   "execution_count": 1,
   "id": "9922de7a",
   "metadata": {},
   "outputs": [
    {
     "name": "stderr",
     "output_type": "stream",
     "text": [
      "/Users/salmadanu/Desktop/Skripsi/skripsi-env/skripsienv/lib/python3.9/site-packages/tqdm/auto.py:21: TqdmWarning: IProgress not found. Please update jupyter and ipywidgets. See https://ipywidgets.readthedocs.io/en/stable/user_install.html\n",
      "  from .autonotebook import tqdm as notebook_tqdm\n"
     ]
    }
   ],
   "source": [
    "import pandas as pd\n",
    "import numpy as np\n",
    "import nltk\n",
    "import spacy\n",
    "import gensim\n",
    "import Sastrawi\n",
    "import swifter\n",
    "import string\n",
    "import re"
   ]
  },
  {
   "cell_type": "markdown",
   "id": "5e9bb0b7",
   "metadata": {},
   "source": [
    "## 2. Data preprocessing"
   ]
  },
  {
   "cell_type": "markdown",
   "id": "da6df1a9",
   "metadata": {},
   "source": [
    "Dataset yang digunakan seterusnya adalah subset dari dataset awal dengan judul berita >= 9 kata.\n",
    "\n",
    "Filtering data tersebut dilakukan oleh Çano dan Morisio (2019), yang dalam penelitiannya terkait analisis sentimen menghilangkan ulasan dalam dataset dengan panjang di bawah lima token dengan alasan mengeliminasi input dan noise yang tidak berarti. "
   ]
  },
  {
   "cell_type": "code",
   "execution_count": 2,
   "id": "f6ab9f4f",
   "metadata": {},
   "outputs": [
    {
     "data": {
      "application/vnd.microsoft.datawrangler.viewer.v0+json": {
       "columns": [
        {
         "name": "index",
         "rawType": "int64",
         "type": "integer"
        },
        {
         "name": "judul_berita",
         "rawType": "object",
         "type": "string"
        }
       ],
       "ref": "af5e1117-e9bd-4780-b570-3c245fc8f216",
       "rows": [
        [
         "0",
         "Perang Hamas Vs Israel Pecah, Rusia Desak Semua Pihak Menahan Diri"
        ],
        [
         "1",
         "6 Fakta Dampak Hamas Vs Israel: 40 Orang Tewas-RS Indonesia Kena Serang"
        ],
        [
         "2",
         "198 Orang di Gaza Tewas Akibat Serangan Balik Israel, Ribuan Terluka"
        ],
        [
         "3",
         "KBRI Amman soal Hamas Vs Israel: Sejauh Ini Tak Ada WNI Jadi Korban"
        ],
        [
         "4",
         "Korban Serangan Hamas di Israel: Lebih dari 200 Orang Tewas-1.000 Terluka"
        ]
       ],
       "shape": {
        "columns": 1,
        "rows": 5
       }
      },
      "text/html": [
       "<div>\n",
       "<style scoped>\n",
       "    .dataframe tbody tr th:only-of-type {\n",
       "        vertical-align: middle;\n",
       "    }\n",
       "\n",
       "    .dataframe tbody tr th {\n",
       "        vertical-align: top;\n",
       "    }\n",
       "\n",
       "    .dataframe thead th {\n",
       "        text-align: right;\n",
       "    }\n",
       "</style>\n",
       "<table border=\"1\" class=\"dataframe\">\n",
       "  <thead>\n",
       "    <tr style=\"text-align: right;\">\n",
       "      <th></th>\n",
       "      <th>judul_berita</th>\n",
       "    </tr>\n",
       "  </thead>\n",
       "  <tbody>\n",
       "    <tr>\n",
       "      <th>0</th>\n",
       "      <td>Perang Hamas Vs Israel Pecah, Rusia Desak Semu...</td>\n",
       "    </tr>\n",
       "    <tr>\n",
       "      <th>1</th>\n",
       "      <td>6 Fakta Dampak Hamas Vs Israel: 40 Orang Tewas...</td>\n",
       "    </tr>\n",
       "    <tr>\n",
       "      <th>2</th>\n",
       "      <td>198 Orang di Gaza Tewas Akibat Serangan Balik ...</td>\n",
       "    </tr>\n",
       "    <tr>\n",
       "      <th>3</th>\n",
       "      <td>KBRI Amman soal Hamas Vs Israel: Sejauh Ini Ta...</td>\n",
       "    </tr>\n",
       "    <tr>\n",
       "      <th>4</th>\n",
       "      <td>Korban Serangan Hamas di Israel: Lebih dari 20...</td>\n",
       "    </tr>\n",
       "  </tbody>\n",
       "</table>\n",
       "</div>"
      ],
      "text/plain": [
       "                                        judul_berita\n",
       "0  Perang Hamas Vs Israel Pecah, Rusia Desak Semu...\n",
       "1  6 Fakta Dampak Hamas Vs Israel: 40 Orang Tewas...\n",
       "2  198 Orang di Gaza Tewas Akibat Serangan Balik ...\n",
       "3  KBRI Amman soal Hamas Vs Israel: Sejauh Ini Ta...\n",
       "4  Korban Serangan Hamas di Israel: Lebih dari 20..."
      ]
     },
     "execution_count": 2,
     "metadata": {},
     "output_type": "execute_result"
    }
   ],
   "source": [
    "df_titles = pd.read_excel('/Users/salmadanu/Desktop/Skripsi/skripsi-env/narasipal/lda_topic_modeling/dataset_gte9.xlsx')\n",
    "df_titles.head()"
   ]
  },
  {
   "cell_type": "markdown",
   "id": "c78059e0",
   "metadata": {},
   "source": [
    "### 1. Case folding & punctuation removal"
   ]
  },
  {
   "cell_type": "code",
   "execution_count": 3,
   "id": "28728965",
   "metadata": {},
   "outputs": [
    {
     "data": {
      "application/vnd.microsoft.datawrangler.viewer.v0+json": {
       "columns": [
        {
         "name": "index",
         "rawType": "int64",
         "type": "integer"
        },
        {
         "name": "judul_berita",
         "rawType": "object",
         "type": "string"
        },
        {
         "name": "textdata_cfpr",
         "rawType": "object",
         "type": "string"
        }
       ],
       "ref": "e12ef4a9-706b-431f-aa52-730f8b994a86",
       "rows": [
        [
         "0",
         "Perang Hamas Vs Israel Pecah, Rusia Desak Semua Pihak Menahan Diri",
         "perang hamas vs israel pecah rusia desak semua pihak menahan diri"
        ],
        [
         "1",
         "6 Fakta Dampak Hamas Vs Israel: 40 Orang Tewas-RS Indonesia Kena Serang",
         " fakta dampak hamas vs israel  orang tewas rs indonesia kena serang"
        ],
        [
         "2",
         "198 Orang di Gaza Tewas Akibat Serangan Balik Israel, Ribuan Terluka",
         " orang di gaza tewas akibat serangan balik israel ribuan terluka"
        ]
       ],
       "shape": {
        "columns": 2,
        "rows": 3
       }
      },
      "text/html": [
       "<div>\n",
       "<style scoped>\n",
       "    .dataframe tbody tr th:only-of-type {\n",
       "        vertical-align: middle;\n",
       "    }\n",
       "\n",
       "    .dataframe tbody tr th {\n",
       "        vertical-align: top;\n",
       "    }\n",
       "\n",
       "    .dataframe thead th {\n",
       "        text-align: right;\n",
       "    }\n",
       "</style>\n",
       "<table border=\"1\" class=\"dataframe\">\n",
       "  <thead>\n",
       "    <tr style=\"text-align: right;\">\n",
       "      <th></th>\n",
       "      <th>judul_berita</th>\n",
       "      <th>textdata_cfpr</th>\n",
       "    </tr>\n",
       "  </thead>\n",
       "  <tbody>\n",
       "    <tr>\n",
       "      <th>0</th>\n",
       "      <td>Perang Hamas Vs Israel Pecah, Rusia Desak Semu...</td>\n",
       "      <td>perang hamas vs israel pecah rusia desak semua...</td>\n",
       "    </tr>\n",
       "    <tr>\n",
       "      <th>1</th>\n",
       "      <td>6 Fakta Dampak Hamas Vs Israel: 40 Orang Tewas...</td>\n",
       "      <td>fakta dampak hamas vs israel  orang tewas rs ...</td>\n",
       "    </tr>\n",
       "    <tr>\n",
       "      <th>2</th>\n",
       "      <td>198 Orang di Gaza Tewas Akibat Serangan Balik ...</td>\n",
       "      <td>orang di gaza tewas akibat serangan balik isr...</td>\n",
       "    </tr>\n",
       "  </tbody>\n",
       "</table>\n",
       "</div>"
      ],
      "text/plain": [
       "                                        judul_berita  \\\n",
       "0  Perang Hamas Vs Israel Pecah, Rusia Desak Semu...   \n",
       "1  6 Fakta Dampak Hamas Vs Israel: 40 Orang Tewas...   \n",
       "2  198 Orang di Gaza Tewas Akibat Serangan Balik ...   \n",
       "\n",
       "                                       textdata_cfpr  \n",
       "0  perang hamas vs israel pecah rusia desak semua...  \n",
       "1   fakta dampak hamas vs israel  orang tewas rs ...  \n",
       "2   orang di gaza tewas akibat serangan balik isr...  "
      ]
     },
     "execution_count": 3,
     "metadata": {},
     "output_type": "execute_result"
    }
   ],
   "source": [
    "df_titles['textdata_cfpr'] = df_titles['judul_berita'].str.replace('-', ' ')\n",
    "df_titles['textdata_cfpr'] = df_titles['textdata_cfpr'].str.lower()\n",
    "df_titles['textdata_cfpr'] = df_titles['textdata_cfpr'].str.translate(str.maketrans('', '', string.punctuation))\n",
    "df_titles['textdata_cfpr'] = df_titles['textdata_cfpr'].str.replace(r'\\d+', '', regex=True)\n",
    "df_titles.head(3)"
   ]
  },
  {
   "cell_type": "markdown",
   "id": "77d2d9ec",
   "metadata": {},
   "source": [
    "### 2. Normalisasi"
   ]
  },
  {
   "cell_type": "code",
   "execution_count": 4,
   "id": "04e82a67",
   "metadata": {},
   "outputs": [
    {
     "data": {
      "application/vnd.microsoft.datawrangler.viewer.v0+json": {
       "columns": [
        {
         "name": "index",
         "rawType": "int64",
         "type": "integer"
        },
        {
         "name": "judul_berita",
         "rawType": "object",
         "type": "string"
        },
        {
         "name": "textdata_cfpr",
         "rawType": "object",
         "type": "string"
        },
        {
         "name": "textdata_normalized",
         "rawType": "object",
         "type": "string"
        }
       ],
       "ref": "d4ca02ba-d39d-4152-a2a6-33f176082f59",
       "rows": [
        [
         "0",
         "Perang Hamas Vs Israel Pecah, Rusia Desak Semua Pihak Menahan Diri",
         "perang hamas vs israel pecah rusia desak semua pihak menahan diri",
         "perang hamas vs israel pecah rusia desak semua pihak menahan diri"
        ],
        [
         "1",
         "6 Fakta Dampak Hamas Vs Israel: 40 Orang Tewas-RS Indonesia Kena Serang",
         " fakta dampak hamas vs israel  orang tewas rs indonesia kena serang",
         "fakta dampak hamas vs israel orang tewas rumah sakit indonesia kena serang"
        ],
        [
         "2",
         "198 Orang di Gaza Tewas Akibat Serangan Balik Israel, Ribuan Terluka",
         " orang di gaza tewas akibat serangan balik israel ribuan terluka",
         "orang di gaza tewas akibat serangan balik israel ribuan terluka"
        ]
       ],
       "shape": {
        "columns": 3,
        "rows": 3
       }
      },
      "text/html": [
       "<div>\n",
       "<style scoped>\n",
       "    .dataframe tbody tr th:only-of-type {\n",
       "        vertical-align: middle;\n",
       "    }\n",
       "\n",
       "    .dataframe tbody tr th {\n",
       "        vertical-align: top;\n",
       "    }\n",
       "\n",
       "    .dataframe thead th {\n",
       "        text-align: right;\n",
       "    }\n",
       "</style>\n",
       "<table border=\"1\" class=\"dataframe\">\n",
       "  <thead>\n",
       "    <tr style=\"text-align: right;\">\n",
       "      <th></th>\n",
       "      <th>judul_berita</th>\n",
       "      <th>textdata_cfpr</th>\n",
       "      <th>textdata_normalized</th>\n",
       "    </tr>\n",
       "  </thead>\n",
       "  <tbody>\n",
       "    <tr>\n",
       "      <th>0</th>\n",
       "      <td>Perang Hamas Vs Israel Pecah, Rusia Desak Semu...</td>\n",
       "      <td>perang hamas vs israel pecah rusia desak semua...</td>\n",
       "      <td>perang hamas vs israel pecah rusia desak semua...</td>\n",
       "    </tr>\n",
       "    <tr>\n",
       "      <th>1</th>\n",
       "      <td>6 Fakta Dampak Hamas Vs Israel: 40 Orang Tewas...</td>\n",
       "      <td>fakta dampak hamas vs israel  orang tewas rs ...</td>\n",
       "      <td>fakta dampak hamas vs israel orang tewas rumah...</td>\n",
       "    </tr>\n",
       "    <tr>\n",
       "      <th>2</th>\n",
       "      <td>198 Orang di Gaza Tewas Akibat Serangan Balik ...</td>\n",
       "      <td>orang di gaza tewas akibat serangan balik isr...</td>\n",
       "      <td>orang di gaza tewas akibat serangan balik isra...</td>\n",
       "    </tr>\n",
       "  </tbody>\n",
       "</table>\n",
       "</div>"
      ],
      "text/plain": [
       "                                        judul_berita  \\\n",
       "0  Perang Hamas Vs Israel Pecah, Rusia Desak Semu...   \n",
       "1  6 Fakta Dampak Hamas Vs Israel: 40 Orang Tewas...   \n",
       "2  198 Orang di Gaza Tewas Akibat Serangan Balik ...   \n",
       "\n",
       "                                       textdata_cfpr  \\\n",
       "0  perang hamas vs israel pecah rusia desak semua...   \n",
       "1   fakta dampak hamas vs israel  orang tewas rs ...   \n",
       "2   orang di gaza tewas akibat serangan balik isr...   \n",
       "\n",
       "                                 textdata_normalized  \n",
       "0  perang hamas vs israel pecah rusia desak semua...  \n",
       "1  fakta dampak hamas vs israel orang tewas rumah...  \n",
       "2  orang di gaza tewas akibat serangan balik isra...  "
      ]
     },
     "execution_count": 4,
     "metadata": {},
     "output_type": "execute_result"
    }
   ],
   "source": [
    "normalized_word = pd.read_excel('/Users/salmadanu/Desktop/Skripsi/skripsi-env/narasipal/lda_topic_modeling/normalisasi_lda.xlsx')\n",
    "\n",
    "normalized_word_dict = {}\n",
    "normalized_word_dict = {row[0].strip(): row[1] for _, row in normalized_word.iterrows()}\n",
    "\n",
    "for index, row in normalized_word.iterrows():\n",
    "    if row[0] not in normalized_word_dict:\n",
    "        normalized_word_dict[row[0]] = row[1]\n",
    "\n",
    "def normalized_term(title):\n",
    "    title = re.sub(r'\\b[Aa][Ss]\\b', 'amerika serikat', title)\n",
    "    title = re.sub(r'\\b[Rr][Ii]\\b', 'indonesia', title)\n",
    "\n",
    "    for term, replacement in normalized_word_dict.items():\n",
    "        title = re.sub(rf'\\b{re.escape(term)}\\b', f' {replacement} ', title)\n",
    "\n",
    "    return ' '.join(title.split())\n",
    "\n",
    "df_titles['textdata_normalized'] = df_titles['textdata_cfpr'].apply(normalized_term)\n",
    "df_titles.head(3)"
   ]
  },
  {
   "cell_type": "markdown",
   "id": "353b34e7",
   "metadata": {},
   "source": [
    "### 3. Tokenizing"
   ]
  },
  {
   "cell_type": "code",
   "execution_count": 5,
   "id": "856874db",
   "metadata": {},
   "outputs": [
    {
     "name": "stderr",
     "output_type": "stream",
     "text": [
      "[nltk_data] Downloading package punkt_tab to\n",
      "[nltk_data]     /Users/salmadanu/nltk_data...\n",
      "[nltk_data]   Package punkt_tab is already up-to-date!\n"
     ]
    },
    {
     "data": {
      "text/plain": [
       "True"
      ]
     },
     "execution_count": 5,
     "metadata": {},
     "output_type": "execute_result"
    }
   ],
   "source": [
    "from nltk.tokenize import word_tokenize\n",
    "nltk.download('punkt_tab')"
   ]
  },
  {
   "cell_type": "code",
   "execution_count": 6,
   "id": "55bd6ea6",
   "metadata": {},
   "outputs": [
    {
     "data": {
      "application/vnd.microsoft.datawrangler.viewer.v0+json": {
       "columns": [
        {
         "name": "index",
         "rawType": "int64",
         "type": "integer"
        },
        {
         "name": "judul_berita",
         "rawType": "object",
         "type": "string"
        },
        {
         "name": "textdata_cfpr",
         "rawType": "object",
         "type": "string"
        },
        {
         "name": "textdata_normalized",
         "rawType": "object",
         "type": "string"
        },
        {
         "name": "tokenized",
         "rawType": "object",
         "type": "unknown"
        }
       ],
       "ref": "b9ee3c3b-55dc-48c9-8be5-0f62fb3afc64",
       "rows": [
        [
         "0",
         "Perang Hamas Vs Israel Pecah, Rusia Desak Semua Pihak Menahan Diri",
         "perang hamas vs israel pecah rusia desak semua pihak menahan diri",
         "perang hamas vs israel pecah rusia desak semua pihak menahan diri",
         "['perang', 'hamas', 'vs', 'israel', 'pecah', 'rusia', 'desak', 'semua', 'pihak', 'menahan', 'diri']"
        ],
        [
         "1",
         "6 Fakta Dampak Hamas Vs Israel: 40 Orang Tewas-RS Indonesia Kena Serang",
         " fakta dampak hamas vs israel  orang tewas rs indonesia kena serang",
         "fakta dampak hamas vs israel orang tewas rumah sakit indonesia kena serang",
         "['fakta', 'dampak', 'hamas', 'vs', 'israel', 'orang', 'tewas', 'rumah', 'sakit', 'indonesia', 'kena', 'serang']"
        ],
        [
         "2",
         "198 Orang di Gaza Tewas Akibat Serangan Balik Israel, Ribuan Terluka",
         " orang di gaza tewas akibat serangan balik israel ribuan terluka",
         "orang di gaza tewas akibat serangan balik israel ribuan terluka",
         "['orang', 'di', 'gaza', 'tewas', 'akibat', 'serangan', 'balik', 'israel', 'ribuan', 'terluka']"
        ]
       ],
       "shape": {
        "columns": 4,
        "rows": 3
       }
      },
      "text/html": [
       "<div>\n",
       "<style scoped>\n",
       "    .dataframe tbody tr th:only-of-type {\n",
       "        vertical-align: middle;\n",
       "    }\n",
       "\n",
       "    .dataframe tbody tr th {\n",
       "        vertical-align: top;\n",
       "    }\n",
       "\n",
       "    .dataframe thead th {\n",
       "        text-align: right;\n",
       "    }\n",
       "</style>\n",
       "<table border=\"1\" class=\"dataframe\">\n",
       "  <thead>\n",
       "    <tr style=\"text-align: right;\">\n",
       "      <th></th>\n",
       "      <th>judul_berita</th>\n",
       "      <th>textdata_cfpr</th>\n",
       "      <th>textdata_normalized</th>\n",
       "      <th>tokenized</th>\n",
       "    </tr>\n",
       "  </thead>\n",
       "  <tbody>\n",
       "    <tr>\n",
       "      <th>0</th>\n",
       "      <td>Perang Hamas Vs Israel Pecah, Rusia Desak Semu...</td>\n",
       "      <td>perang hamas vs israel pecah rusia desak semua...</td>\n",
       "      <td>perang hamas vs israel pecah rusia desak semua...</td>\n",
       "      <td>[perang, hamas, vs, israel, pecah, rusia, desa...</td>\n",
       "    </tr>\n",
       "    <tr>\n",
       "      <th>1</th>\n",
       "      <td>6 Fakta Dampak Hamas Vs Israel: 40 Orang Tewas...</td>\n",
       "      <td>fakta dampak hamas vs israel  orang tewas rs ...</td>\n",
       "      <td>fakta dampak hamas vs israel orang tewas rumah...</td>\n",
       "      <td>[fakta, dampak, hamas, vs, israel, orang, tewa...</td>\n",
       "    </tr>\n",
       "    <tr>\n",
       "      <th>2</th>\n",
       "      <td>198 Orang di Gaza Tewas Akibat Serangan Balik ...</td>\n",
       "      <td>orang di gaza tewas akibat serangan balik isr...</td>\n",
       "      <td>orang di gaza tewas akibat serangan balik isra...</td>\n",
       "      <td>[orang, di, gaza, tewas, akibat, serangan, bal...</td>\n",
       "    </tr>\n",
       "  </tbody>\n",
       "</table>\n",
       "</div>"
      ],
      "text/plain": [
       "                                        judul_berita  \\\n",
       "0  Perang Hamas Vs Israel Pecah, Rusia Desak Semu...   \n",
       "1  6 Fakta Dampak Hamas Vs Israel: 40 Orang Tewas...   \n",
       "2  198 Orang di Gaza Tewas Akibat Serangan Balik ...   \n",
       "\n",
       "                                       textdata_cfpr  \\\n",
       "0  perang hamas vs israel pecah rusia desak semua...   \n",
       "1   fakta dampak hamas vs israel  orang tewas rs ...   \n",
       "2   orang di gaza tewas akibat serangan balik isr...   \n",
       "\n",
       "                                 textdata_normalized  \\\n",
       "0  perang hamas vs israel pecah rusia desak semua...   \n",
       "1  fakta dampak hamas vs israel orang tewas rumah...   \n",
       "2  orang di gaza tewas akibat serangan balik isra...   \n",
       "\n",
       "                                           tokenized  \n",
       "0  [perang, hamas, vs, israel, pecah, rusia, desa...  \n",
       "1  [fakta, dampak, hamas, vs, israel, orang, tewa...  \n",
       "2  [orang, di, gaza, tewas, akibat, serangan, bal...  "
      ]
     },
     "execution_count": 6,
     "metadata": {},
     "output_type": "execute_result"
    }
   ],
   "source": [
    "df_titles['tokenized'] = df_titles['textdata_normalized'].apply(lambda x: x.split())\n",
    "df_titles.head(3)"
   ]
  },
  {
   "cell_type": "markdown",
   "id": "7280a02e",
   "metadata": {},
   "source": [
    "### 4. Stopword removal"
   ]
  },
  {
   "cell_type": "code",
   "execution_count": 7,
   "id": "2e12bec8",
   "metadata": {},
   "outputs": [
    {
     "name": "stderr",
     "output_type": "stream",
     "text": [
      "[nltk_data] Downloading package stopwords to\n",
      "[nltk_data]     /Users/salmadanu/nltk_data...\n",
      "[nltk_data]   Package stopwords is already up-to-date!\n"
     ]
    },
    {
     "data": {
      "text/plain": [
       "True"
      ]
     },
     "execution_count": 7,
     "metadata": {},
     "output_type": "execute_result"
    }
   ],
   "source": [
    "nltk.download('stopwords')"
   ]
  },
  {
   "cell_type": "code",
   "execution_count": 8,
   "id": "94438cb2",
   "metadata": {},
   "outputs": [
    {
     "data": {
      "application/vnd.microsoft.datawrangler.viewer.v0+json": {
       "columns": [
        {
         "name": "index",
         "rawType": "int64",
         "type": "integer"
        },
        {
         "name": "judul_berita",
         "rawType": "object",
         "type": "string"
        },
        {
         "name": "textdata_cfpr",
         "rawType": "object",
         "type": "string"
        },
        {
         "name": "textdata_normalized",
         "rawType": "object",
         "type": "string"
        },
        {
         "name": "tokenized",
         "rawType": "object",
         "type": "unknown"
        },
        {
         "name": "textdata_nsw",
         "rawType": "object",
         "type": "unknown"
        }
       ],
       "ref": "d73bfe24-3bc4-4ba1-b2cd-966abbd92438",
       "rows": [
        [
         "0",
         "Perang Hamas Vs Israel Pecah, Rusia Desak Semua Pihak Menahan Diri",
         "perang hamas vs israel pecah rusia desak semua pihak menahan diri",
         "perang hamas vs israel pecah rusia desak semua pihak menahan diri",
         "['perang', 'hamas', 'vs', 'israel', 'pecah', 'rusia', 'desak', 'semua', 'pihak', 'menahan', 'diri']",
         "['perang', 'hamas', 'pecah', 'rusia', 'desak', 'menahan']"
        ],
        [
         "1",
         "6 Fakta Dampak Hamas Vs Israel: 40 Orang Tewas-RS Indonesia Kena Serang",
         " fakta dampak hamas vs israel  orang tewas rs indonesia kena serang",
         "fakta dampak hamas vs israel orang tewas rumah sakit indonesia kena serang",
         "['fakta', 'dampak', 'hamas', 'vs', 'israel', 'orang', 'tewas', 'rumah', 'sakit', 'indonesia', 'kena', 'serang']",
         "['fakta', 'dampak', 'hamas', 'orang', 'tewas', 'rumah', 'sakit', 'indonesia', 'kena', 'serang']"
        ],
        [
         "2",
         "198 Orang di Gaza Tewas Akibat Serangan Balik Israel, Ribuan Terluka",
         " orang di gaza tewas akibat serangan balik israel ribuan terluka",
         "orang di gaza tewas akibat serangan balik israel ribuan terluka",
         "['orang', 'di', 'gaza', 'tewas', 'akibat', 'serangan', 'balik', 'israel', 'ribuan', 'terluka']",
         "['orang', 'tewas', 'akibat', 'serangan', 'ribuan', 'terluka']"
        ]
       ],
       "shape": {
        "columns": 5,
        "rows": 3
       }
      },
      "text/html": [
       "<div>\n",
       "<style scoped>\n",
       "    .dataframe tbody tr th:only-of-type {\n",
       "        vertical-align: middle;\n",
       "    }\n",
       "\n",
       "    .dataframe tbody tr th {\n",
       "        vertical-align: top;\n",
       "    }\n",
       "\n",
       "    .dataframe thead th {\n",
       "        text-align: right;\n",
       "    }\n",
       "</style>\n",
       "<table border=\"1\" class=\"dataframe\">\n",
       "  <thead>\n",
       "    <tr style=\"text-align: right;\">\n",
       "      <th></th>\n",
       "      <th>judul_berita</th>\n",
       "      <th>textdata_cfpr</th>\n",
       "      <th>textdata_normalized</th>\n",
       "      <th>tokenized</th>\n",
       "      <th>textdata_nsw</th>\n",
       "    </tr>\n",
       "  </thead>\n",
       "  <tbody>\n",
       "    <tr>\n",
       "      <th>0</th>\n",
       "      <td>Perang Hamas Vs Israel Pecah, Rusia Desak Semu...</td>\n",
       "      <td>perang hamas vs israel pecah rusia desak semua...</td>\n",
       "      <td>perang hamas vs israel pecah rusia desak semua...</td>\n",
       "      <td>[perang, hamas, vs, israel, pecah, rusia, desa...</td>\n",
       "      <td>[perang, hamas, pecah, rusia, desak, menahan]</td>\n",
       "    </tr>\n",
       "    <tr>\n",
       "      <th>1</th>\n",
       "      <td>6 Fakta Dampak Hamas Vs Israel: 40 Orang Tewas...</td>\n",
       "      <td>fakta dampak hamas vs israel  orang tewas rs ...</td>\n",
       "      <td>fakta dampak hamas vs israel orang tewas rumah...</td>\n",
       "      <td>[fakta, dampak, hamas, vs, israel, orang, tewa...</td>\n",
       "      <td>[fakta, dampak, hamas, orang, tewas, rumah, sa...</td>\n",
       "    </tr>\n",
       "    <tr>\n",
       "      <th>2</th>\n",
       "      <td>198 Orang di Gaza Tewas Akibat Serangan Balik ...</td>\n",
       "      <td>orang di gaza tewas akibat serangan balik isr...</td>\n",
       "      <td>orang di gaza tewas akibat serangan balik isra...</td>\n",
       "      <td>[orang, di, gaza, tewas, akibat, serangan, bal...</td>\n",
       "      <td>[orang, tewas, akibat, serangan, ribuan, terluka]</td>\n",
       "    </tr>\n",
       "  </tbody>\n",
       "</table>\n",
       "</div>"
      ],
      "text/plain": [
       "                                        judul_berita  \\\n",
       "0  Perang Hamas Vs Israel Pecah, Rusia Desak Semu...   \n",
       "1  6 Fakta Dampak Hamas Vs Israel: 40 Orang Tewas...   \n",
       "2  198 Orang di Gaza Tewas Akibat Serangan Balik ...   \n",
       "\n",
       "                                       textdata_cfpr  \\\n",
       "0  perang hamas vs israel pecah rusia desak semua...   \n",
       "1   fakta dampak hamas vs israel  orang tewas rs ...   \n",
       "2   orang di gaza tewas akibat serangan balik isr...   \n",
       "\n",
       "                                 textdata_normalized  \\\n",
       "0  perang hamas vs israel pecah rusia desak semua...   \n",
       "1  fakta dampak hamas vs israel orang tewas rumah...   \n",
       "2  orang di gaza tewas akibat serangan balik isra...   \n",
       "\n",
       "                                           tokenized  \\\n",
       "0  [perang, hamas, vs, israel, pecah, rusia, desa...   \n",
       "1  [fakta, dampak, hamas, vs, israel, orang, tewa...   \n",
       "2  [orang, di, gaza, tewas, akibat, serangan, bal...   \n",
       "\n",
       "                                        textdata_nsw  \n",
       "0      [perang, hamas, pecah, rusia, desak, menahan]  \n",
       "1  [fakta, dampak, hamas, orang, tewas, rumah, sa...  \n",
       "2  [orang, tewas, akibat, serangan, ribuan, terluka]  "
      ]
     },
     "execution_count": 8,
     "metadata": {},
     "output_type": "execute_result"
    }
   ],
   "source": [
    "from nltk.corpus import stopwords\n",
    "\n",
    "list_stopwords = stopwords.words('indonesian')\n",
    "list_stopwords.extend(['bikin', 'masuk', 'gegara', 'update', 'puluhan', 'detik', 'potret', 'foto','ada apa', 'vs', 'versus', 'israel', 'gaza', 'palestina', 'monas'])\n",
    "list_stopwords = set(list_stopwords)\n",
    "list_stopwords.discard(\"luar\")\n",
    "\n",
    "def stopwords_removal(words):\n",
    "    return [word for word in words if word not in list_stopwords]\n",
    "\n",
    "# nsw = no stop words\n",
    "df_titles['textdata_nsw'] = df_titles['tokenized'].apply(stopwords_removal)\n",
    "df_titles.head(3)"
   ]
  },
  {
   "cell_type": "markdown",
   "id": "89b8e3f7",
   "metadata": {},
   "source": [
    "### 5. Bigram & trigram detection\n",
    "Parameters:\n",
    "- `min_count` : **FREQUENCY FILTER** Controls how many times a word pair must appear before being considered a bigram/trigram\n",
    "- `threshold` : **STRENGTH OF ASSOCIATION** How strongly words must be associated before forming a phrase. Based on Pointwise Mutual Information (PMI)"
   ]
  },
  {
   "cell_type": "code",
   "execution_count": 9,
   "id": "57b25396",
   "metadata": {},
   "outputs": [],
   "source": [
    "from gensim.models import Phrases\n",
    "from gensim.models.phrases import Phraser"
   ]
  },
  {
   "cell_type": "code",
   "execution_count": 10,
   "id": "7966f130",
   "metadata": {},
   "outputs": [
    {
     "data": {
      "application/vnd.microsoft.datawrangler.viewer.v0+json": {
       "columns": [
        {
         "name": "index",
         "rawType": "int64",
         "type": "integer"
        },
        {
         "name": "judul_berita",
         "rawType": "object",
         "type": "string"
        },
        {
         "name": "textdata_cfpr",
         "rawType": "object",
         "type": "string"
        },
        {
         "name": "textdata_normalized",
         "rawType": "object",
         "type": "string"
        },
        {
         "name": "tokenized",
         "rawType": "object",
         "type": "unknown"
        },
        {
         "name": "textdata_nsw",
         "rawType": "object",
         "type": "unknown"
        },
        {
         "name": "bigrams",
         "rawType": "object",
         "type": "unknown"
        },
        {
         "name": "trigrams",
         "rawType": "object",
         "type": "unknown"
        }
       ],
       "ref": "a76af13a-3b27-4b8a-a34d-025526e668a6",
       "rows": [
        [
         "0",
         "Perang Hamas Vs Israel Pecah, Rusia Desak Semua Pihak Menahan Diri",
         "perang hamas vs israel pecah rusia desak semua pihak menahan diri",
         "perang hamas vs israel pecah rusia desak semua pihak menahan diri",
         "['perang', 'hamas', 'vs', 'israel', 'pecah', 'rusia', 'desak', 'semua', 'pihak', 'menahan', 'diri']",
         "['perang', 'hamas', 'pecah', 'rusia', 'desak', 'menahan']",
         "['perang', 'hamas', 'pecah', 'rusia', 'desak', 'menahan']",
         "['perang', 'hamas', 'pecah', 'rusia', 'desak', 'menahan']"
        ],
        [
         "1",
         "6 Fakta Dampak Hamas Vs Israel: 40 Orang Tewas-RS Indonesia Kena Serang",
         " fakta dampak hamas vs israel  orang tewas rs indonesia kena serang",
         "fakta dampak hamas vs israel orang tewas rumah sakit indonesia kena serang",
         "['fakta', 'dampak', 'hamas', 'vs', 'israel', 'orang', 'tewas', 'rumah', 'sakit', 'indonesia', 'kena', 'serang']",
         "['fakta', 'dampak', 'hamas', 'orang', 'tewas', 'rumah', 'sakit', 'indonesia', 'kena', 'serang']",
         "['fakta', 'dampak', 'hamas', 'orang', 'tewas', 'rumah_sakit', 'indonesia', 'kena', 'serang']",
         "['fakta', 'dampak', 'hamas', 'orang_tewas', 'rumah_sakit_indonesia', 'kena', 'serang']"
        ],
        [
         "2",
         "198 Orang di Gaza Tewas Akibat Serangan Balik Israel, Ribuan Terluka",
         " orang di gaza tewas akibat serangan balik israel ribuan terluka",
         "orang di gaza tewas akibat serangan balik israel ribuan terluka",
         "['orang', 'di', 'gaza', 'tewas', 'akibat', 'serangan', 'balik', 'israel', 'ribuan', 'terluka']",
         "['orang', 'tewas', 'akibat', 'serangan', 'ribuan', 'terluka']",
         "['orang', 'tewas_akibat', 'serangan', 'ribuan', 'terluka']",
         "['orang_tewas_akibat', 'serangan', 'ribuan', 'terluka']"
        ]
       ],
       "shape": {
        "columns": 7,
        "rows": 3
       }
      },
      "text/html": [
       "<div>\n",
       "<style scoped>\n",
       "    .dataframe tbody tr th:only-of-type {\n",
       "        vertical-align: middle;\n",
       "    }\n",
       "\n",
       "    .dataframe tbody tr th {\n",
       "        vertical-align: top;\n",
       "    }\n",
       "\n",
       "    .dataframe thead th {\n",
       "        text-align: right;\n",
       "    }\n",
       "</style>\n",
       "<table border=\"1\" class=\"dataframe\">\n",
       "  <thead>\n",
       "    <tr style=\"text-align: right;\">\n",
       "      <th></th>\n",
       "      <th>judul_berita</th>\n",
       "      <th>textdata_cfpr</th>\n",
       "      <th>textdata_normalized</th>\n",
       "      <th>tokenized</th>\n",
       "      <th>textdata_nsw</th>\n",
       "      <th>bigrams</th>\n",
       "      <th>trigrams</th>\n",
       "    </tr>\n",
       "  </thead>\n",
       "  <tbody>\n",
       "    <tr>\n",
       "      <th>0</th>\n",
       "      <td>Perang Hamas Vs Israel Pecah, Rusia Desak Semu...</td>\n",
       "      <td>perang hamas vs israel pecah rusia desak semua...</td>\n",
       "      <td>perang hamas vs israel pecah rusia desak semua...</td>\n",
       "      <td>[perang, hamas, vs, israel, pecah, rusia, desa...</td>\n",
       "      <td>[perang, hamas, pecah, rusia, desak, menahan]</td>\n",
       "      <td>[perang, hamas, pecah, rusia, desak, menahan]</td>\n",
       "      <td>[perang, hamas, pecah, rusia, desak, menahan]</td>\n",
       "    </tr>\n",
       "    <tr>\n",
       "      <th>1</th>\n",
       "      <td>6 Fakta Dampak Hamas Vs Israel: 40 Orang Tewas...</td>\n",
       "      <td>fakta dampak hamas vs israel  orang tewas rs ...</td>\n",
       "      <td>fakta dampak hamas vs israel orang tewas rumah...</td>\n",
       "      <td>[fakta, dampak, hamas, vs, israel, orang, tewa...</td>\n",
       "      <td>[fakta, dampak, hamas, orang, tewas, rumah, sa...</td>\n",
       "      <td>[fakta, dampak, hamas, orang, tewas, rumah_sak...</td>\n",
       "      <td>[fakta, dampak, hamas, orang_tewas, rumah_saki...</td>\n",
       "    </tr>\n",
       "    <tr>\n",
       "      <th>2</th>\n",
       "      <td>198 Orang di Gaza Tewas Akibat Serangan Balik ...</td>\n",
       "      <td>orang di gaza tewas akibat serangan balik isr...</td>\n",
       "      <td>orang di gaza tewas akibat serangan balik isra...</td>\n",
       "      <td>[orang, di, gaza, tewas, akibat, serangan, bal...</td>\n",
       "      <td>[orang, tewas, akibat, serangan, ribuan, terluka]</td>\n",
       "      <td>[orang, tewas_akibat, serangan, ribuan, terluka]</td>\n",
       "      <td>[orang_tewas_akibat, serangan, ribuan, terluka]</td>\n",
       "    </tr>\n",
       "  </tbody>\n",
       "</table>\n",
       "</div>"
      ],
      "text/plain": [
       "                                        judul_berita  \\\n",
       "0  Perang Hamas Vs Israel Pecah, Rusia Desak Semu...   \n",
       "1  6 Fakta Dampak Hamas Vs Israel: 40 Orang Tewas...   \n",
       "2  198 Orang di Gaza Tewas Akibat Serangan Balik ...   \n",
       "\n",
       "                                       textdata_cfpr  \\\n",
       "0  perang hamas vs israel pecah rusia desak semua...   \n",
       "1   fakta dampak hamas vs israel  orang tewas rs ...   \n",
       "2   orang di gaza tewas akibat serangan balik isr...   \n",
       "\n",
       "                                 textdata_normalized  \\\n",
       "0  perang hamas vs israel pecah rusia desak semua...   \n",
       "1  fakta dampak hamas vs israel orang tewas rumah...   \n",
       "2  orang di gaza tewas akibat serangan balik isra...   \n",
       "\n",
       "                                           tokenized  \\\n",
       "0  [perang, hamas, vs, israel, pecah, rusia, desa...   \n",
       "1  [fakta, dampak, hamas, vs, israel, orang, tewa...   \n",
       "2  [orang, di, gaza, tewas, akibat, serangan, bal...   \n",
       "\n",
       "                                        textdata_nsw  \\\n",
       "0      [perang, hamas, pecah, rusia, desak, menahan]   \n",
       "1  [fakta, dampak, hamas, orang, tewas, rumah, sa...   \n",
       "2  [orang, tewas, akibat, serangan, ribuan, terluka]   \n",
       "\n",
       "                                             bigrams  \\\n",
       "0      [perang, hamas, pecah, rusia, desak, menahan]   \n",
       "1  [fakta, dampak, hamas, orang, tewas, rumah_sak...   \n",
       "2   [orang, tewas_akibat, serangan, ribuan, terluka]   \n",
       "\n",
       "                                            trigrams  \n",
       "0      [perang, hamas, pecah, rusia, desak, menahan]  \n",
       "1  [fakta, dampak, hamas, orang_tewas, rumah_saki...  \n",
       "2    [orang_tewas_akibat, serangan, ribuan, terluka]  "
      ]
     },
     "execution_count": 10,
     "metadata": {},
     "output_type": "execute_result"
    }
   ],
   "source": [
    "bigram_phraser = Phrases(df_titles[\"textdata_nsw\"], min_count=10, threshold=20)\n",
    "trigram_phraser = Phrases(bigram_phraser[df_titles[\"textdata_nsw\"]], min_count=5, threshold=10)\n",
    "\n",
    "df_titles[\"bigrams\"] = [bigram_phraser[doc] for doc in df_titles[\"textdata_nsw\"]]\n",
    "df_titles[\"trigrams\"] = [trigram_phraser[doc] for doc in df_titles[\"bigrams\"]]\n",
    "\n",
    "\n",
    "df_titles.head(3)"
   ]
  },
  {
   "cell_type": "markdown",
   "id": "6298baa4",
   "metadata": {},
   "source": [
    "### 6. Stemming\n",
    "`custom_words` ditambahkan untuk menyeragamkan bentuk kata serta menangani kata nama dengan imbuhan (\"hizbullah\", \"-lah\" bukan imbuhan, tetapi bagian dari nama)"
   ]
  },
  {
   "cell_type": "code",
   "execution_count": 11,
   "id": "8ec5235f",
   "metadata": {},
   "outputs": [],
   "source": [
    "from Sastrawi.Stemmer.StemmerFactory import StemmerFactory"
   ]
  },
  {
   "cell_type": "code",
   "execution_count": 12,
   "id": "94da3335",
   "metadata": {},
   "outputs": [
    {
     "data": {
      "application/vnd.microsoft.datawrangler.viewer.v0+json": {
       "columns": [
        {
         "name": "index",
         "rawType": "int64",
         "type": "integer"
        },
        {
         "name": "judul_berita",
         "rawType": "object",
         "type": "string"
        },
        {
         "name": "textdata_cfpr",
         "rawType": "object",
         "type": "string"
        },
        {
         "name": "textdata_normalized",
         "rawType": "object",
         "type": "string"
        },
        {
         "name": "tokenized",
         "rawType": "object",
         "type": "unknown"
        },
        {
         "name": "textdata_nsw",
         "rawType": "object",
         "type": "unknown"
        },
        {
         "name": "bigrams",
         "rawType": "object",
         "type": "unknown"
        },
        {
         "name": "trigrams",
         "rawType": "object",
         "type": "unknown"
        },
        {
         "name": "textdata_stemmed",
         "rawType": "object",
         "type": "unknown"
        }
       ],
       "ref": "0622857c-767b-40ad-98a2-78b217a9f62a",
       "rows": [
        [
         "0",
         "Perang Hamas Vs Israel Pecah, Rusia Desak Semua Pihak Menahan Diri",
         "perang hamas vs israel pecah rusia desak semua pihak menahan diri",
         "perang hamas vs israel pecah rusia desak semua pihak menahan diri",
         "['perang', 'hamas', 'vs', 'israel', 'pecah', 'rusia', 'desak', 'semua', 'pihak', 'menahan', 'diri']",
         "['perang', 'hamas', 'pecah', 'rusia', 'desak', 'menahan']",
         "['perang', 'hamas', 'pecah', 'rusia', 'desak', 'menahan']",
         "['perang', 'hamas', 'pecah', 'rusia', 'desak', 'menahan']",
         "['perang', 'hamas', 'pecah', 'rusia', 'desak', 'tahan']"
        ],
        [
         "1",
         "6 Fakta Dampak Hamas Vs Israel: 40 Orang Tewas-RS Indonesia Kena Serang",
         " fakta dampak hamas vs israel  orang tewas rs indonesia kena serang",
         "fakta dampak hamas vs israel orang tewas rumah sakit indonesia kena serang",
         "['fakta', 'dampak', 'hamas', 'vs', 'israel', 'orang', 'tewas', 'rumah', 'sakit', 'indonesia', 'kena', 'serang']",
         "['fakta', 'dampak', 'hamas', 'orang', 'tewas', 'rumah', 'sakit', 'indonesia', 'kena', 'serang']",
         "['fakta', 'dampak', 'hamas', 'orang', 'tewas', 'rumah_sakit', 'indonesia', 'kena', 'serang']",
         "['fakta', 'dampak', 'hamas', 'orang_tewas', 'rumah_sakit_indonesia', 'kena', 'serang']",
         "['fakta', 'dampak', 'hamas', 'orang tewas', 'rumah sakit indonesia', 'kena', 'serang']"
        ],
        [
         "2",
         "198 Orang di Gaza Tewas Akibat Serangan Balik Israel, Ribuan Terluka",
         " orang di gaza tewas akibat serangan balik israel ribuan terluka",
         "orang di gaza tewas akibat serangan balik israel ribuan terluka",
         "['orang', 'di', 'gaza', 'tewas', 'akibat', 'serangan', 'balik', 'israel', 'ribuan', 'terluka']",
         "['orang', 'tewas', 'akibat', 'serangan', 'ribuan', 'terluka']",
         "['orang', 'tewas_akibat', 'serangan', 'ribuan', 'terluka']",
         "['orang_tewas_akibat', 'serangan', 'ribuan', 'terluka']",
         "['orang tewas akibat', 'serang', 'ribu', 'luka']"
        ]
       ],
       "shape": {
        "columns": 8,
        "rows": 3
       }
      },
      "text/html": [
       "<div>\n",
       "<style scoped>\n",
       "    .dataframe tbody tr th:only-of-type {\n",
       "        vertical-align: middle;\n",
       "    }\n",
       "\n",
       "    .dataframe tbody tr th {\n",
       "        vertical-align: top;\n",
       "    }\n",
       "\n",
       "    .dataframe thead th {\n",
       "        text-align: right;\n",
       "    }\n",
       "</style>\n",
       "<table border=\"1\" class=\"dataframe\">\n",
       "  <thead>\n",
       "    <tr style=\"text-align: right;\">\n",
       "      <th></th>\n",
       "      <th>judul_berita</th>\n",
       "      <th>textdata_cfpr</th>\n",
       "      <th>textdata_normalized</th>\n",
       "      <th>tokenized</th>\n",
       "      <th>textdata_nsw</th>\n",
       "      <th>bigrams</th>\n",
       "      <th>trigrams</th>\n",
       "      <th>textdata_stemmed</th>\n",
       "    </tr>\n",
       "  </thead>\n",
       "  <tbody>\n",
       "    <tr>\n",
       "      <th>0</th>\n",
       "      <td>Perang Hamas Vs Israel Pecah, Rusia Desak Semu...</td>\n",
       "      <td>perang hamas vs israel pecah rusia desak semua...</td>\n",
       "      <td>perang hamas vs israel pecah rusia desak semua...</td>\n",
       "      <td>[perang, hamas, vs, israel, pecah, rusia, desa...</td>\n",
       "      <td>[perang, hamas, pecah, rusia, desak, menahan]</td>\n",
       "      <td>[perang, hamas, pecah, rusia, desak, menahan]</td>\n",
       "      <td>[perang, hamas, pecah, rusia, desak, menahan]</td>\n",
       "      <td>[perang, hamas, pecah, rusia, desak, tahan]</td>\n",
       "    </tr>\n",
       "    <tr>\n",
       "      <th>1</th>\n",
       "      <td>6 Fakta Dampak Hamas Vs Israel: 40 Orang Tewas...</td>\n",
       "      <td>fakta dampak hamas vs israel  orang tewas rs ...</td>\n",
       "      <td>fakta dampak hamas vs israel orang tewas rumah...</td>\n",
       "      <td>[fakta, dampak, hamas, vs, israel, orang, tewa...</td>\n",
       "      <td>[fakta, dampak, hamas, orang, tewas, rumah, sa...</td>\n",
       "      <td>[fakta, dampak, hamas, orang, tewas, rumah_sak...</td>\n",
       "      <td>[fakta, dampak, hamas, orang_tewas, rumah_saki...</td>\n",
       "      <td>[fakta, dampak, hamas, orang tewas, rumah saki...</td>\n",
       "    </tr>\n",
       "    <tr>\n",
       "      <th>2</th>\n",
       "      <td>198 Orang di Gaza Tewas Akibat Serangan Balik ...</td>\n",
       "      <td>orang di gaza tewas akibat serangan balik isr...</td>\n",
       "      <td>orang di gaza tewas akibat serangan balik isra...</td>\n",
       "      <td>[orang, di, gaza, tewas, akibat, serangan, bal...</td>\n",
       "      <td>[orang, tewas, akibat, serangan, ribuan, terluka]</td>\n",
       "      <td>[orang, tewas_akibat, serangan, ribuan, terluka]</td>\n",
       "      <td>[orang_tewas_akibat, serangan, ribuan, terluka]</td>\n",
       "      <td>[orang tewas akibat, serang, ribu, luka]</td>\n",
       "    </tr>\n",
       "  </tbody>\n",
       "</table>\n",
       "</div>"
      ],
      "text/plain": [
       "                                        judul_berita  \\\n",
       "0  Perang Hamas Vs Israel Pecah, Rusia Desak Semu...   \n",
       "1  6 Fakta Dampak Hamas Vs Israel: 40 Orang Tewas...   \n",
       "2  198 Orang di Gaza Tewas Akibat Serangan Balik ...   \n",
       "\n",
       "                                       textdata_cfpr  \\\n",
       "0  perang hamas vs israel pecah rusia desak semua...   \n",
       "1   fakta dampak hamas vs israel  orang tewas rs ...   \n",
       "2   orang di gaza tewas akibat serangan balik isr...   \n",
       "\n",
       "                                 textdata_normalized  \\\n",
       "0  perang hamas vs israel pecah rusia desak semua...   \n",
       "1  fakta dampak hamas vs israel orang tewas rumah...   \n",
       "2  orang di gaza tewas akibat serangan balik isra...   \n",
       "\n",
       "                                           tokenized  \\\n",
       "0  [perang, hamas, vs, israel, pecah, rusia, desa...   \n",
       "1  [fakta, dampak, hamas, vs, israel, orang, tewa...   \n",
       "2  [orang, di, gaza, tewas, akibat, serangan, bal...   \n",
       "\n",
       "                                        textdata_nsw  \\\n",
       "0      [perang, hamas, pecah, rusia, desak, menahan]   \n",
       "1  [fakta, dampak, hamas, orang, tewas, rumah, sa...   \n",
       "2  [orang, tewas, akibat, serangan, ribuan, terluka]   \n",
       "\n",
       "                                             bigrams  \\\n",
       "0      [perang, hamas, pecah, rusia, desak, menahan]   \n",
       "1  [fakta, dampak, hamas, orang, tewas, rumah_sak...   \n",
       "2   [orang, tewas_akibat, serangan, ribuan, terluka]   \n",
       "\n",
       "                                            trigrams  \\\n",
       "0      [perang, hamas, pecah, rusia, desak, menahan]   \n",
       "1  [fakta, dampak, hamas, orang_tewas, rumah_saki...   \n",
       "2    [orang_tewas_akibat, serangan, ribuan, terluka]   \n",
       "\n",
       "                                    textdata_stemmed  \n",
       "0        [perang, hamas, pecah, rusia, desak, tahan]  \n",
       "1  [fakta, dampak, hamas, orang tewas, rumah saki...  \n",
       "2           [orang tewas akibat, serang, ribu, luka]  "
      ]
     },
     "execution_count": 12,
     "metadata": {},
     "output_type": "execute_result"
    }
   ],
   "source": [
    "factory = StemmerFactory()\n",
    "stemmer = factory.create_stemmer()\n",
    "\n",
    "custom_words = {\n",
    "    \"pasukan\": \"pasukan\",\n",
    "    \"bantu\": \"bantuan\",\n",
    "    \"bantuan\": \"bantuan\",\n",
    "    \"hizbullah\": \"hizbullah\",\n",
    "    \"pengungsi\":\"pengungsi\",\n",
    "    \"pengungsian\":\"pengungsi\",\n",
    "    \"bombardir\": \"bom\",\n",
    "    \"akui\": \"akui\",\n",
    "    \"perang\":\"perang\",\n",
    "    \"perangi\":\"perang\",\n",
    "    \"serangan\":\"serang\",\n",
    "    \"diserang\":\"serang\",\n",
    "    \"serang\": \"serang\",\n",
    "    \"gencatan_senjata\":\"gencatan_senjata\"\n",
    "}\n",
    "\n",
    "def stem_words(words):\n",
    "    return [custom_words[word] if word in custom_words else stemmer.stem(word) for word in words]\n",
    "\n",
    "df_titles['textdata_stemmed'] = df_titles['trigrams'].apply(stem_words)\n",
    "df_titles.head(3)"
   ]
  },
  {
   "cell_type": "markdown",
   "id": "1928724b",
   "metadata": {},
   "source": [
    "### 7. TF-IDF"
   ]
  },
  {
   "cell_type": "code",
   "execution_count": 13,
   "id": "da5cef3b",
   "metadata": {},
   "outputs": [],
   "source": [
    "from sklearn.feature_extraction.text import TfidfVectorizer, TfidfTransformer\n",
    "from gensim import corpora\n",
    "from gensim.models import LdaModel"
   ]
  },
  {
   "cell_type": "code",
   "execution_count": 14,
   "id": "7dad430f",
   "metadata": {},
   "outputs": [],
   "source": [
    "# Convert list of textdata_stemmed into string format\n",
    "documents = df_titles['textdata_stemmed'].apply(lambda x: ' '.join(x)).tolist()\n",
    "\n",
    "# Step 1: Apply TF-IDF\n",
    "tfidf_vectorizer = TfidfVectorizer(\n",
    "    max_df=0.6,\n",
    "    min_df=20,\n",
    "    stop_words=None,\n",
    "    ngram_range=(1, 3)\n",
    ")\n",
    "\n",
    "tfidf_matrix = tfidf_vectorizer.fit_transform(documents)"
   ]
  },
  {
   "cell_type": "code",
   "execution_count": 15,
   "id": "b3ef06ee",
   "metadata": {},
   "outputs": [],
   "source": [
    "dictionary = corpora.Dictionary(df_titles['textdata_stemmed'])  # Tokenized texts\n",
    "dictionary.filter_extremes(no_below=20,\n",
    "                           no_above=0.6\n",
    "                           )\n",
    "\n",
    "corpus = [dictionary.doc2bow(text) for text in df_titles['textdata_stemmed']]"
   ]
  },
  {
   "cell_type": "markdown",
   "id": "0e30798b",
   "metadata": {},
   "source": [
    "### 8. Bag of Words (BoW)\n",
    "Convert back into BoW format to be made into word embeddings for LDA."
   ]
  },
  {
   "cell_type": "code",
   "execution_count": 16,
   "id": "40e68b2b",
   "metadata": {},
   "outputs": [],
   "source": [
    "from gensim.corpora import Dictionary"
   ]
  },
  {
   "cell_type": "code",
   "execution_count": 17,
   "id": "ce4f1831",
   "metadata": {},
   "outputs": [
    {
     "name": "stdout",
     "output_type": "stream",
     "text": [
      "Dictionary size: 903 unique tokens\n"
     ]
    }
   ],
   "source": [
    "dictionary.save(\"lda_dictionary.dict\")\n",
    "import pickle\n",
    "with open(\"lda_corpus.pkl\", \"wb\") as f:\n",
    "    pickle.dump(corpus, f)\n",
    "\n",
    "print(f\"Dictionary size: {len(dictionary)} unique tokens\")"
   ]
  },
  {
   "cell_type": "markdown",
   "id": "cbfaa550",
   "metadata": {},
   "source": [
    "## 3. LDA Model"
   ]
  },
  {
   "cell_type": "code",
   "execution_count": 18,
   "id": "f9cfbd85",
   "metadata": {},
   "outputs": [
    {
     "name": "stdout",
     "output_type": "stream",
     "text": [
      "Topic 0: 0.123*\"warga\" + 0.067*\"arab\" + 0.066*\"pbb\" + 0.051*\"biden\" + 0.047*\"negara\" + 0.030*\"rumah sakit\" + 0.027*\"senjata\" + 0.026*\"korban\" + 0.024*\"militer\" + 0.023*\"tentara\"\n",
      "Topic 1: 0.323*\"perang\" + 0.298*\"amerika serikat\" + 0.080*\"iran\" + 0.062*\"bantuan\" + 0.038*\"lawan\" + 0.035*\"bela\" + 0.032*\"orang\" + 0.031*\"gempur\" + 0.024*\"setop\" + 0.010*\"luka\"\n",
      "Topic 2: 0.176*\"indonesia\" + 0.091*\"dunia\" + 0.088*\"dukung\" + 0.084*\"rafah\" + 0.076*\"tepi barat\" + 0.044*\"kirim\" + 0.040*\"rudal\" + 0.037*\"kecam\" + 0.034*\"seru\" + 0.032*\"inggris\"\n",
      "Topic 3: 0.332*\"tewas\" + 0.120*\"orang tewas\" + 0.115*\"panas\" + 0.079*\"jalur\" + 0.058*\"ribu\" + 0.055*\"konflik\" + 0.049*\"aksi\" + 0.031*\"penuh\" + 0.029*\"imbas\" + 0.029*\"hilang\"\n",
      "Topic 4: 0.544*\"hamas\" + 0.435*\"serang\" + 0.014*\"buntut\" + 0.005*\"terbang\" + 0.000*\"ungkap\" + 0.000*\"peduli\" + 0.000*\"houthi yaman\" + 0.000*\"profil\" + 0.000*\"salur bantu\" + 0.000*\"besok\"\n",
      "Topic 5: 0.190*\"negara arab\" + 0.186*\"rumah sakit indonesia\" + 0.177*\"fakta\" + 0.152*\"temu\" + 0.122*\"kena\" + 0.069*\"dubes\" + 0.042*\"dampak\" + 0.029*\"wakil\" + 0.024*\"solidaritas\" + 0.000*\"salur\"\n"
     ]
    }
   ],
   "source": [
    "from gensim.models import LdaModel\n",
    "\n",
    "# Define number of topic\n",
    "num_topics = 6\n",
    "\n",
    "# Train LDA model\n",
    "lda_model = LdaModel(\n",
    "    corpus=corpus,\n",
    "    id2word=dictionary,\n",
    "    num_topics=num_topics,\n",
    "    random_state=42,\n",
    "    passes=10,\n",
    "    chunksize=100,\n",
    "    alpha=\"asymmetric\", # Sebaran topik untuk suatu dokumen tidak rata\n",
    "    eta=0.01, # Jumlah kata untuk mepresentasikan topik sedikit\n",
    ")\n",
    "\n",
    "# Print topics\n",
    "for idx, topic in lda_model.print_topics(-1):\n",
    "    print(f\"Topic {idx}: {topic}\")\n",
    "\n",
    "# Save model for later use\n",
    "lda_model.save(\"lda_model\")"
   ]
  },
  {
   "cell_type": "markdown",
   "id": "df463643",
   "metadata": {},
   "source": [
    "## 4. Model evaluation"
   ]
  },
  {
   "cell_type": "code",
   "execution_count": 19,
   "id": "1f01c58a",
   "metadata": {},
   "outputs": [
    {
     "name": "stdout",
     "output_type": "stream",
     "text": [
      "Coherence Score: 0.5088729864386473\n"
     ]
    }
   ],
   "source": [
    "from gensim.models import CoherenceModel\n",
    "\n",
    "texts = [[word for word in text if word in dictionary.token2id] for text in df_titles['textdata_stemmed']]  # Filter out removed words\n",
    "\n",
    "coherence_model_lda = CoherenceModel(\n",
    "    model=lda_model,\n",
    "    texts=texts,\n",
    "    dictionary=dictionary,\n",
    "    coherence=\"c_v\",\n",
    ")\n",
    "\n",
    "coherence_score = coherence_model_lda.get_coherence()\n",
    "print(f\"Coherence Score: {coherence_score}\")"
   ]
  },
  {
   "cell_type": "markdown",
   "id": "0516b576",
   "metadata": {},
   "source": [
    "## 5. LDA visualization"
   ]
  },
  {
   "cell_type": "code",
   "execution_count": 20,
   "id": "f68a7680",
   "metadata": {},
   "outputs": [],
   "source": [
    "import pyLDAvis\n",
    "import pyLDAvis.gensim_models as gensimvis"
   ]
  },
  {
   "cell_type": "code",
   "execution_count": 21,
   "id": "d789fe10",
   "metadata": {},
   "outputs": [
    {
     "data": {
      "text/html": [
       "\n",
       "<link rel=\"stylesheet\" type=\"text/css\" href=\"https://cdn.jsdelivr.net/gh/bmabey/pyLDAvis@3.4.0/pyLDAvis/js/ldavis.v1.0.0.css\">\n",
       "\n",
       "\n",
       "<div id=\"ldavis_el320635089279216852131692\" style=\"background-color:white;\"></div>\n",
       "<script type=\"text/javascript\">\n",
       "\n",
       "var ldavis_el320635089279216852131692_data = {\"mdsDat\": {\"x\": [0.23145985906200023, -0.4155250593045777, 0.03181036166782268, 0.062266449720919, -0.0017953069174710757, 0.09178369577130709], \"y\": [0.29949161815396097, 0.15294872333350215, -0.29809211852988504, -0.01605572013141646, -0.18603411986935284, 0.04774161704319104], \"topics\": [1, 2, 3, 4, 5, 6], \"cluster\": [1, 1, 1, 1, 1, 1], \"Freq\": [35.0065696132595, 18.77536919232286, 18.00866997754159, 10.281217219648173, 12.011720225775795, 5.916453771452086]}, \"tinfo\": {\"Term\": [\"hamas\", \"serang\", \"perang\", \"amerika serikat\", \"tewas\", \"indonesia\", \"warga\", \"negara arab\", \"rumah sakit indonesia\", \"fakta\", \"orang tewas\", \"dunia\", \"dukung\", \"panas\", \"rafah\", \"temu\", \"iran\", \"arab\", \"pbb\", \"tepi barat\", \"kena\", \"bantuan\", \"biden\", \"jalur\", \"negara\", \"ribu\", \"kirim\", \"konflik\", \"rudal\", \"lawan\", \"warga\", \"arab\", \"pbb\", \"biden\", \"negara\", \"rumah sakit\", \"senjata\", \"korban\", \"militer\", \"tentara\", \"demo\", \"damai\", \"alas\", \"serbu\", \"rusia\", \"desak\", \"presiden\", \"jokowi\", \"bukti\", \"anak\", \"kapal\", \"tank\", \"bawa\", \"tahan\", \"henti\", \"menang\", \"roket\", \"rencana\", \"pecah\", \"jam\", \"perang\", \"amerika serikat\", \"iran\", \"bantuan\", \"lawan\", \"bela\", \"orang\", \"gempur\", \"setop\", \"luka\", \"negara muslim\", \"amerika\", \"jerman\", \"sasar\", \"ajak\", \"bentuk\", \"mobil\", \"kirim kapal\", \"korban jiwa\", \"jual\", \"kerah\", \"tambah\", \"kutuk serang\", \"hati\", \"dagang\", \"imbau\", \"kapal induk\", \"orang tewas akibat\", \"canggih\", \"jebak\", \"desak\", \"hamas\", \"pecah\", \"indonesia\", \"dunia\", \"dukung\", \"rafah\", \"tepi barat\", \"kirim\", \"rudal\", \"kecam\", \"seru\", \"inggris\", \"keras\", \"perintah\", \"menteri luar negeri\", \"erdogan\", \"usul\", \"serang udara\", \"tutup\", \"nyata\", \"sikap\", \"jurnalis\", \"sejarah\", \"mantan\", \"wni\", \"warga sipil\", \"uni eropa\", \"australia\", \"rawan\", \"tempur\", \"ubah\", \"unjuk\", \"tewas\", \"orang tewas\", \"panas\", \"jalur\", \"ribu\", \"konflik\", \"aksi\", \"penuh\", \"imbas\", \"hilang\", \"jalan\", \"batas\", \"new york\", \"jk\", \"politik\", \"selesai\", \"orang tewas akibat\", \"canggih\", \"jebak\", \"tegang\", \"tel aviv\", \"iron dome\", \"sukses\", \"kenal\", \"utama\", \"netizen\", \"balas dendam\", \"intelijen\", \"demo bela\", \"evakuasi wni\", \"desak\", \"hamas\", \"pecah\", \"perang\", \"rusia\", \"tahan\", \"dampak\", \"fakta\", \"kena\", \"rumah sakit indonesia\", \"serang\", \"luka\", \"korban\", \"hamas\", \"serang\", \"buntut\", \"terbang\", \"orang tewas akibat\", \"canggih\", \"jebak\", \"tegang\", \"tel aviv\", \"iron dome\", \"sukses\", \"kenal\", \"utama\", \"netizen\", \"balas dendam\", \"intelijen\", \"demo bela\", \"evakuasi wni\", \"buruh\", \"serikat\", \"kantor\", \"kirim pasu\", \"komunikasi\", \"teroris\", \"desa\", \"labuh\", \"akibat\", \"ribu orang\", \"anggap\", \"salah\", \"desak\", \"pecah\", \"perang\", \"rusia\", \"tahan\", \"dampak\", \"fakta\", \"kena\", \"orang tewas\", \"rumah sakit indonesia\", \"luka\", \"ribu\", \"korban\", \"wni\", \"amerika\", \"hati\", \"militer\", \"tentara\", \"tewas akibat serang\", \"remaja\", \"tewas tembak\", \"drone\", \"tank\", \"orang\", \"negara arab\", \"rumah sakit indonesia\", \"fakta\", \"temu\", \"kena\", \"dubes\", \"dampak\", \"wakil\", \"solidaritas\", \"orang tewas akibat\", \"canggih\", \"jebak\", \"tegang\", \"tel aviv\", \"iron dome\", \"sukses\", \"kenal\", \"utama\", \"netizen\", \"balas dendam\", \"intelijen\", \"demo bela\", \"evakuasi wni\", \"buruh\", \"serikat\", \"kantor\", \"kirim pasu\", \"komunikasi\", \"teroris\", \"desa\", \"desak\", \"hamas\", \"pecah\", \"perang\", \"rusia\", \"tahan\", \"orang tewas\", \"serang\", \"luka\", \"ribu\", \"korban\", \"wni\", \"amerika\", \"hati\", \"militer\", \"tentara\", \"tewas akibat serang\", \"remaja\", \"tewas tembak\"], \"Freq\": [4734.0, 3781.0, 4395.0, 4055.0, 2471.0, 2300.0, 3108.0, 816.0, 796.0, 758.0, 897.0, 1185.0, 1148.0, 858.0, 1098.0, 653.0, 1084.0, 1700.0, 1683.0, 989.0, 523.0, 845.0, 1289.0, 590.0, 1194.0, 434.0, 570.0, 411.0, 521.0, 511.0, 3107.9157707411423, 1700.1348586912175, 1683.2539752808734, 1289.1671926962897, 1194.5030932329341, 752.8312526796601, 674.4436228117542, 655.0926968873808, 613.0582787382701, 585.1085683883242, 547.3897924209192, 533.797543708919, 519.2818338271362, 503.080473099657, 399.76491852658603, 381.0376323977762, 369.41951871807345, 365.4361033718622, 361.1964675854801, 353.20252211933746, 318.783410989063, 308.7124691321288, 295.36848120982586, 273.83143846383604, 269.2120068922449, 258.77740112331674, 257.6697342738796, 254.4433360117315, 237.82141286189952, 226.59013347138543, 4395.406219213389, 4054.933237029614, 1084.4707036611856, 845.3025446522784, 511.28180688964744, 471.30120032870485, 432.1933075201898, 427.06525914457745, 322.1675540691844, 129.87773644083688, 112.35577705188066, 96.83656093878608, 94.67491211060414, 88.20953112554481, 68.43140805462303, 68.37226184736988, 58.29366072324472, 48.23241455819791, 45.08522890876248, 44.48714788285984, 43.2359471752475, 42.69495066346662, 42.1283840897152, 27.32487635472911, 15.526856412141393, 11.437473042957487, 4.717938499782065, 0.018216456609513116, 0.018216456609513116, 0.018216456609513116, 0.018216456609513116, 0.018216456609513116, 0.018216456609513116, 2300.3587751605623, 1185.6236310685117, 1148.500666650253, 1098.32654614223, 989.8483189567752, 570.4872572762453, 521.3573556211944, 478.74122166979816, 445.6504924350616, 415.7358215481965, 415.0467391699122, 414.2791155923539, 354.8825523513809, 314.39174519642944, 222.42325719575135, 208.12217332607977, 191.10133311929445, 185.42746050515387, 185.04841173464752, 145.41576195610816, 140.50756883043496, 132.44607534981117, 129.91844361710972, 121.81981803484895, 120.5524785070209, 113.28382100935359, 101.75190371609777, 77.82333830193528, 69.72909907068596, 66.60570731134382, 2471.5024857585513, 897.1716044717582, 858.758777834913, 590.02853774135, 434.6943916371563, 411.73256212098454, 364.6868065713445, 229.88250394108704, 219.35910322026936, 218.94590588378765, 214.04895625948464, 202.27564157312798, 161.98616123077264, 97.34097109167207, 45.154541504182994, 8.121287134007975, 0.025525067643176108, 0.025525067643176108, 0.025525067643176108, 0.025525067643176108, 0.025525067643176108, 0.025525067643176108, 0.025525067643176108, 0.025525067643176108, 0.025525067643176108, 0.025525067643176108, 0.025525067643176108, 0.025525067643176108, 0.025525067643176108, 0.025525067643176108, 0.025525067643176108, 0.025525067643176108, 0.025525067643176108, 0.025525067643176108, 0.025525067643176108, 0.025525067643176108, 0.025525067643176108, 0.025525067643176108, 0.025525067643176108, 0.025525067643176108, 0.025525067643176108, 0.025525067643176108, 0.025525067643176108, 4734.262410323011, 3781.4273144871054, 117.96448984637036, 47.568669500818544, 0.023122333812347122, 0.023122333812347122, 0.023122333812347122, 0.023122333812347122, 0.023122333812347122, 0.023122333812347122, 0.023122333812347122, 0.023122333812347122, 0.023122333812347122, 0.023122333812347122, 0.023122333812347122, 0.023122333812347122, 0.023122333812347122, 0.023122333812347122, 0.023122333812347122, 0.023122333812347122, 0.023122333812347122, 0.023122333812347122, 0.023122333812347122, 0.023122333812347122, 0.023122333812347122, 0.023122333812347122, 0.023122333812347122, 0.023122333812347122, 0.023122333812347122, 0.023122333812347122, 0.023122333812347122, 0.023122333812347122, 0.023122333812347122, 0.023122333812347122, 0.023122333812347122, 0.023122333812347122, 0.023122333812347122, 0.023122333812347122, 0.023122333812347122, 0.023122333812347122, 0.023122333812347122, 0.023122333812347122, 0.023122333812347122, 0.023122333812347122, 0.023122333812347122, 0.023122333812347122, 0.023122333812347122, 0.023122333812347122, 0.023122333812347122, 0.023122333812347122, 0.023122333812347122, 0.023122333812347122, 0.023122333812347122, 0.023122333812347122, 816.0441263924911, 796.8360308800359, 758.3804321483137, 653.4002172974767, 523.1513912326982, 296.3577392153037, 180.67129031241163, 124.10870456008695, 101.76024753306318, 0.03973703190585101, 0.03973703190585101, 0.03973703190585101, 0.03973703190585101, 0.03973703190585101, 0.03973703190585101, 0.03973703190585101, 0.03973703190585101, 0.03973703190585101, 0.03973703190585101, 0.03973703190585101, 0.03973703190585101, 0.03973703190585101, 0.03973703190585101, 0.03973703190585101, 0.03973703190585101, 0.03973703190585101, 0.03973703190585101, 0.03973703190585101, 0.03973703190585101, 0.03973703190585101, 0.03973703190585101, 0.03973703190585101, 0.03973703190585101, 0.03973703190585101, 0.03973703190585101, 0.03973703190585101, 0.03973703190585101, 0.03973703190585101, 0.03973703190585101, 0.03973703190585101, 0.03973703190585101, 0.03973703190585101, 0.03973703190585101, 0.03973703190585101, 0.03973703190585101, 0.03973703190585101, 0.03973703190585101, 0.03973703190585101, 0.03973703190585101], \"Total\": [4734.0, 3781.0, 4395.0, 4055.0, 2471.0, 2300.0, 3108.0, 816.0, 796.0, 758.0, 897.0, 1185.0, 1148.0, 858.0, 1098.0, 653.0, 1084.0, 1700.0, 1683.0, 989.0, 523.0, 845.0, 1289.0, 590.0, 1194.0, 434.0, 570.0, 411.0, 521.0, 511.0, 3108.0489925933703, 1700.2680805434454, 1683.3871971331014, 1289.3004145485177, 1194.636315085162, 752.9644745318881, 674.5768446639821, 655.2259187396088, 613.1915005904981, 585.2417902405522, 547.5230142731472, 533.9307655611469, 519.4150556793642, 503.213694951885, 399.898140378814, 381.17085425000414, 369.5527405703014, 365.56932522409016, 361.32968943770805, 353.3357439715654, 318.91663284129095, 308.84569098435674, 295.5017030620538, 273.964660316064, 269.3452287444729, 258.9106229755447, 257.8029561261076, 254.57655786395944, 237.95463471412745, 226.72335532361336, 4395.541715264638, 4055.068733080863, 1084.6061997124348, 845.4380407035276, 511.41730294089655, 471.43669637995396, 432.3288035714389, 427.20075519582656, 322.3030501204335, 130.013232492086, 112.49127310312979, 96.9720569900352, 94.81040816185326, 88.34502717679393, 68.56690410587215, 68.507757898619, 58.429156774493826, 48.367910609447016, 45.22072496001159, 44.62264393410894, 43.37144322649661, 42.83044671471573, 42.263880140964304, 27.46037240597822, 15.662352463390505, 11.572969094206599, 4.853434551031177, 0.1537125078586245, 0.1537125078586245, 0.1537125078586245, 381.17085425000414, 4734.393000497057, 237.95463471412745, 2300.485866706164, 1185.7507226141133, 1148.6277581958545, 1098.4536376878316, 989.9754105023768, 570.6143488218469, 521.484447166796, 478.8683132153998, 445.7775839806632, 415.8629130937981, 415.1738307155138, 414.4062071379555, 355.00964389698254, 314.51883674203106, 222.5503487413529, 208.24926487168133, 191.228424664896, 185.55455205075543, 185.17550328024907, 145.54285350170971, 140.63466037603652, 132.57316689541273, 130.04553516271127, 121.94690958045052, 120.67957005262247, 113.41091255495516, 101.87899526169934, 77.95042984753685, 69.85619061628753, 66.7327988569454, 2471.630673198767, 897.2997919119737, 858.8869652751284, 590.1567251815654, 434.82257907737176, 411.8607495612, 364.81499401156, 230.01069138130248, 219.4872906604848, 219.0740933240031, 214.17714369970008, 202.40382901334343, 162.11434867098808, 97.46915853188753, 45.28272894439844, 8.249474574223424, 0.1537125078586245, 0.1537125078586245, 0.1537125078586245, 0.1537125078586245, 0.1537125078586245, 0.1537125078586245, 0.1537125078586245, 0.1537125078586245, 0.1537125078586245, 0.1537125078586245, 0.1537125078586245, 0.1537125078586245, 0.1537125078586245, 0.1537125078586245, 381.17085425000414, 4734.393000497057, 237.95463471412745, 4395.541715264638, 399.898140378814, 273.964660316064, 180.7852657883644, 758.4944076242665, 523.265366708651, 796.9500063559886, 3781.557904661152, 130.013232492086, 655.2259187396088, 4734.393000497057, 3781.557904661152, 118.09508002041665, 47.69925967486482, 0.1537125078586245, 0.1537125078586245, 0.1537125078586245, 0.1537125078586245, 0.1537125078586245, 0.1537125078586245, 0.1537125078586245, 0.1537125078586245, 0.1537125078586245, 0.1537125078586245, 0.1537125078586245, 0.1537125078586245, 0.1537125078586245, 0.1537125078586245, 0.1537125078586245, 0.1537125078586245, 0.1537125078586245, 0.1537125078586245, 0.1537125078586245, 0.1537125078586245, 0.1537125078586245, 0.1537125078586245, 0.1537125078586245, 0.1537125078586245, 0.1537125078586245, 0.1537125078586245, 381.17085425000414, 237.95463471412745, 4395.541715264638, 399.898140378814, 273.964660316064, 180.7852657883644, 758.4944076242665, 523.265366708651, 897.2997919119737, 796.9500063559886, 130.013232492086, 434.82257907737176, 655.2259187396088, 130.04553516271127, 96.9720569900352, 27.46037240597822, 613.1915005904981, 585.2417902405522, 34.91563079781294, 53.64490093445598, 21.201030507510964, 73.09877088431644, 308.84569098435674, 432.3288035714389, 816.1581018684439, 796.9500063559886, 758.4944076242665, 653.5141927734295, 523.265366708651, 296.47171469125647, 180.7852657883644, 124.22268003603972, 101.87422300901595, 0.1537125078586245, 0.1537125078586245, 0.1537125078586245, 0.1537125078586245, 0.1537125078586245, 0.1537125078586245, 0.1537125078586245, 0.1537125078586245, 0.1537125078586245, 0.1537125078586245, 0.1537125078586245, 0.1537125078586245, 0.1537125078586245, 0.1537125078586245, 0.1537125078586245, 0.1537125078586245, 0.1537125078586245, 0.1537125078586245, 0.1537125078586245, 0.1537125078586245, 0.1537125078586245, 381.17085425000414, 4734.393000497057, 237.95463471412745, 4395.541715264638, 399.898140378814, 273.964660316064, 897.2997919119737, 3781.557904661152, 130.013232492086, 434.82257907737176, 655.2259187396088, 130.04553516271127, 96.9720569900352, 27.46037240597822, 613.1915005904981, 585.2417902405522, 34.91563079781294, 53.64490093445598, 21.201030507510964], \"Category\": [\"Default\", \"Default\", \"Default\", \"Default\", \"Default\", \"Default\", \"Default\", \"Default\", \"Default\", \"Default\", \"Default\", \"Default\", \"Default\", \"Default\", \"Default\", \"Default\", \"Default\", \"Default\", \"Default\", \"Default\", \"Default\", \"Default\", \"Default\", \"Default\", \"Default\", \"Default\", \"Default\", \"Default\", \"Default\", \"Default\", \"Topic1\", \"Topic1\", \"Topic1\", \"Topic1\", \"Topic1\", \"Topic1\", \"Topic1\", \"Topic1\", \"Topic1\", \"Topic1\", \"Topic1\", \"Topic1\", \"Topic1\", \"Topic1\", \"Topic1\", \"Topic1\", \"Topic1\", \"Topic1\", \"Topic1\", \"Topic1\", \"Topic1\", \"Topic1\", \"Topic1\", \"Topic1\", \"Topic1\", \"Topic1\", \"Topic1\", \"Topic1\", \"Topic1\", \"Topic1\", \"Topic2\", \"Topic2\", \"Topic2\", \"Topic2\", \"Topic2\", \"Topic2\", \"Topic2\", \"Topic2\", \"Topic2\", \"Topic2\", \"Topic2\", \"Topic2\", \"Topic2\", \"Topic2\", \"Topic2\", \"Topic2\", \"Topic2\", \"Topic2\", \"Topic2\", \"Topic2\", \"Topic2\", \"Topic2\", \"Topic2\", \"Topic2\", \"Topic2\", \"Topic2\", \"Topic2\", \"Topic2\", \"Topic2\", \"Topic2\", \"Topic2\", \"Topic2\", \"Topic2\", \"Topic3\", \"Topic3\", \"Topic3\", \"Topic3\", \"Topic3\", \"Topic3\", \"Topic3\", \"Topic3\", \"Topic3\", \"Topic3\", \"Topic3\", \"Topic3\", \"Topic3\", \"Topic3\", \"Topic3\", \"Topic3\", \"Topic3\", \"Topic3\", \"Topic3\", \"Topic3\", \"Topic3\", \"Topic3\", \"Topic3\", \"Topic3\", \"Topic3\", \"Topic3\", \"Topic3\", \"Topic3\", \"Topic3\", \"Topic3\", \"Topic4\", \"Topic4\", \"Topic4\", \"Topic4\", \"Topic4\", \"Topic4\", \"Topic4\", \"Topic4\", \"Topic4\", \"Topic4\", \"Topic4\", \"Topic4\", \"Topic4\", \"Topic4\", \"Topic4\", \"Topic4\", \"Topic4\", \"Topic4\", \"Topic4\", \"Topic4\", \"Topic4\", \"Topic4\", \"Topic4\", \"Topic4\", \"Topic4\", \"Topic4\", \"Topic4\", \"Topic4\", \"Topic4\", \"Topic4\", \"Topic4\", \"Topic4\", \"Topic4\", \"Topic4\", \"Topic4\", \"Topic4\", \"Topic4\", \"Topic4\", \"Topic4\", \"Topic4\", \"Topic4\", \"Topic4\", \"Topic4\", \"Topic5\", \"Topic5\", \"Topic5\", \"Topic5\", \"Topic5\", \"Topic5\", \"Topic5\", \"Topic5\", \"Topic5\", \"Topic5\", \"Topic5\", \"Topic5\", \"Topic5\", \"Topic5\", \"Topic5\", \"Topic5\", \"Topic5\", \"Topic5\", \"Topic5\", \"Topic5\", \"Topic5\", \"Topic5\", \"Topic5\", \"Topic5\", \"Topic5\", \"Topic5\", \"Topic5\", \"Topic5\", \"Topic5\", \"Topic5\", \"Topic5\", \"Topic5\", \"Topic5\", \"Topic5\", \"Topic5\", \"Topic5\", \"Topic5\", \"Topic5\", \"Topic5\", \"Topic5\", \"Topic5\", \"Topic5\", \"Topic5\", \"Topic5\", \"Topic5\", \"Topic5\", \"Topic5\", \"Topic5\", \"Topic5\", \"Topic5\", \"Topic5\", \"Topic5\", \"Topic5\", \"Topic5\", \"Topic6\", \"Topic6\", \"Topic6\", \"Topic6\", \"Topic6\", \"Topic6\", \"Topic6\", \"Topic6\", \"Topic6\", \"Topic6\", \"Topic6\", \"Topic6\", \"Topic6\", \"Topic6\", \"Topic6\", \"Topic6\", \"Topic6\", \"Topic6\", \"Topic6\", \"Topic6\", \"Topic6\", \"Topic6\", \"Topic6\", \"Topic6\", \"Topic6\", \"Topic6\", \"Topic6\", \"Topic6\", \"Topic6\", \"Topic6\", \"Topic6\", \"Topic6\", \"Topic6\", \"Topic6\", \"Topic6\", \"Topic6\", \"Topic6\", \"Topic6\", \"Topic6\", \"Topic6\", \"Topic6\", \"Topic6\", \"Topic6\", \"Topic6\", \"Topic6\", \"Topic6\", \"Topic6\", \"Topic6\", \"Topic6\"], \"logprob\": [30.0, 29.0, 28.0, 27.0, 26.0, 25.0, 24.0, 23.0, 22.0, 21.0, 20.0, 19.0, 18.0, 17.0, 16.0, 15.0, 14.0, 13.0, 12.0, 11.0, 10.0, 9.0, 8.0, 7.0, 6.0, 5.0, 4.0, 3.0, 2.0, 1.0, -2.0993, -2.7025, -2.7125, -2.9792, -3.0555, -3.5171, -3.6271, -3.6562, -3.7225, -3.7692, -3.8358, -3.8609, -3.8885, -3.9202, -4.1501, -4.1981, -4.229, -4.2399, -4.2515, -4.2739, -4.3765, -4.4086, -4.4527, -4.5284, -4.5455, -4.585, -4.5893, -4.6019, -4.6694, -4.7178, -1.1297, -1.2103, -2.5291, -2.7783, -3.2811, -3.3625, -3.4491, -3.461, -3.7429, -4.6514, -4.7963, -4.9449, -4.9675, -5.0383, -5.2921, -5.293, -5.4525, -5.6419, -5.7094, -5.7228, -5.7513, -5.7639, -5.7773, -6.2102, -6.7754, -7.0811, -7.9666, -13.5234, -13.5234, -13.5234, -13.5234, -13.5234, -13.5234, -1.7355, -2.3983, -2.4301, -2.4747, -2.5787, -3.1298, -3.2198, -3.3051, -3.3767, -3.4462, -3.4479, -3.4497, -3.6045, -3.7256, -4.0717, -4.1382, -4.2235, -4.2536, -4.2557, -4.4967, -4.531, -4.5901, -4.6094, -4.6737, -4.6842, -4.7464, -4.8537, -5.1218, -5.2317, -5.2775, -1.1032, -2.1165, -2.1603, -2.5356, -2.8411, -2.8954, -3.0167, -3.4782, -3.525, -3.5269, -3.5495, -3.6061, -3.8282, -4.3375, -5.1057, -6.8213, -12.5838, -12.5838, -12.5838, -12.5838, -12.5838, -12.5838, -12.5838, -12.5838, -12.5838, -12.5838, -12.5838, -12.5838, -12.5838, -12.5838, -12.5838, -12.5838, -12.5838, -12.5838, -12.5838, -12.5838, -12.5838, -12.5838, -12.5838, -12.5838, -12.5838, -12.5838, -12.5838, -0.6087, -0.8335, -4.3009, -5.2091, -12.8383, -12.8383, -12.8383, -12.8383, -12.8383, -12.8383, -12.8383, -12.8383, -12.8383, -12.8383, -12.8383, -12.8383, -12.8383, -12.8383, -12.8383, -12.8383, -12.8383, -12.8383, -12.8383, -12.8383, -12.8383, -12.8383, -12.8383, -12.8383, -12.8383, -12.8383, -12.8383, -12.8383, -12.8383, -12.8383, -12.8383, -12.8383, -12.8383, -12.8383, -12.8383, -12.8383, -12.8383, -12.8383, -12.8383, -12.8383, -12.8383, -12.8383, -12.8383, -12.8383, -12.8383, -12.8383, -12.8383, -12.8383, -12.8383, -12.8383, -1.6587, -1.6825, -1.732, -1.881, -2.1033, -2.6716, -3.1665, -3.542, -3.7405, -11.5886, -11.5886, -11.5886, -11.5886, -11.5886, -11.5886, -11.5886, -11.5886, -11.5886, -11.5886, -11.5886, -11.5886, -11.5886, -11.5886, -11.5886, -11.5886, -11.5886, -11.5886, -11.5886, -11.5886, -11.5886, -11.5886, -11.5886, -11.5886, -11.5886, -11.5886, -11.5886, -11.5886, -11.5886, -11.5886, -11.5886, -11.5886, -11.5886, -11.5886, -11.5886, -11.5886, -11.5886, -11.5886, -11.5886, -11.5886], \"loglift\": [30.0, 29.0, 28.0, 27.0, 26.0, 25.0, 24.0, 23.0, 22.0, 21.0, 20.0, 19.0, 18.0, 17.0, 16.0, 15.0, 14.0, 13.0, 12.0, 11.0, 10.0, 9.0, 8.0, 7.0, 6.0, 5.0, 4.0, 3.0, 2.0, 1.0, 1.0496, 1.0496, 1.0496, 1.0495, 1.0495, 1.0495, 1.0494, 1.0494, 1.0494, 1.0494, 1.0494, 1.0494, 1.0494, 1.0494, 1.0493, 1.0493, 1.0493, 1.0493, 1.0493, 1.0493, 1.0492, 1.0492, 1.0492, 1.0491, 1.0491, 1.0491, 1.0491, 1.0491, 1.0491, 1.049, 1.6726, 1.6726, 1.6725, 1.6725, 1.6724, 1.6723, 1.6723, 1.6723, 1.6722, 1.6716, 1.6714, 1.6712, 1.6712, 1.6711, 1.6706, 1.6706, 1.6703, 1.6698, 1.6696, 1.6696, 1.6695, 1.6695, 1.6694, 1.6677, 1.6639, 1.6608, 1.6443, -0.4601, -0.4601, -0.4601, -8.2761, -10.7954, -7.8049, 1.7143, 1.7142, 1.7142, 1.7142, 1.7142, 1.7141, 1.7141, 1.7141, 1.714, 1.714, 1.714, 1.714, 1.714, 1.7139, 1.7137, 1.7137, 1.7137, 1.7136, 1.7136, 1.7134, 1.7134, 1.7134, 1.7133, 1.7133, 1.7133, 1.7132, 1.7131, 1.7127, 1.7125, 1.7124, 2.2748, 2.2747, 2.2747, 2.2746, 2.2746, 2.2745, 2.2745, 2.2743, 2.2743, 2.2743, 2.2743, 2.2742, 2.2741, 2.2735, 2.272, 2.2592, 0.4794, 0.4794, 0.4794, 0.4794, 0.4794, 0.4794, 0.4794, 0.4794, 0.4794, 0.4794, 0.4794, 0.4794, 0.4794, 0.4794, -7.3365, -9.8559, -6.8653, -9.7816, -7.3845, -7.0062, -6.5906, -8.0246, -7.6533, -8.074, -9.6311, -6.2609, -7.8782, 2.1193, 2.1193, 2.1182, 2.1165, 0.225, 0.225, 0.225, 0.225, 0.225, 0.225, 0.225, 0.225, 0.225, 0.225, 0.225, 0.225, 0.225, 0.225, 0.225, 0.225, 0.225, 0.225, 0.225, 0.225, 0.225, 0.225, 0.225, 0.225, 0.225, 0.225, -7.5909, -7.1197, -10.036, -7.6389, -7.2607, -6.845, -8.279, -7.9078, -8.4471, -8.3285, -6.5153, -7.7226, -8.1326, -6.5156, -6.2221, -4.9604, -8.0663, -8.0197, -5.2006, -5.6301, -4.7017, -5.9395, -7.3805, -7.7169, 2.8273, 2.8273, 2.8273, 2.8273, 2.8272, 2.827, 2.8268, 2.8265, 2.8263, 1.4746, 1.4746, 1.4746, 1.4746, 1.4746, 1.4746, 1.4746, 1.4746, 1.4746, 1.4746, 1.4746, 1.4746, 1.4746, 1.4746, 1.4746, 1.4746, 1.4746, 1.4746, 1.4746, 1.4746, 1.4746, -6.3413, -8.8606, -5.8701, -8.7864, -6.3892, -6.011, -7.1974, -8.6359, -5.2657, -6.473, -6.883, -5.2659, -4.9725, -3.7108, -6.8167, -6.7701, -3.951, -4.3804, -3.4521]}, \"token.table\": {\"Topic\": [2, 4, 1, 2, 2, 1, 1, 3, 2, 4, 1, 2, 2, 1, 1, 5, 2, 1, 6, 1, 1, 1, 6, 3, 3, 3, 6, 2, 5, 2, 1, 4, 4, 2, 3, 3, 2, 4, 4, 1, 2, 4, 1, 2, 3, 1, 2, 3, 6, 2, 3, 3, 2, 4, 1, 2, 2, 2, 2, 3, 1, 3, 1, 2, 1, 6, 2, 4, 3, 2, 4, 4, 1, 1, 4, 2, 3, 4, 1, 3, 3, 1, 1, 4, 1, 3, 1, 6, 1, 2, 3, 4, 1, 5, 3, 1, 3, 2, 3, 6, 1, 2, 1, 3, 6, 1, 3, 5, 4, 1, 1, 3, 3, 3, 3, 3, 6, 1, 3, 3], \"Freq\": [0.9917321029253878, 1.0005071227648998, 0.9992009171185434, 1.0002881552772225, 0.9999830500824062, 0.9990497876954322, 0.9998423304262939, 0.9963767811606661, 0.9994818772252511, 0.9980048351095334, 0.998302199084286, 0.9990736903102638, 0.9925883153354631, 0.9997669941426158, 0.9990875661553826, 0.9991948858462164, 1.021557906923543, 1.000129669319168, 1.0011877860217158, 0.9990447629423551, 0.9995517646533066, 0.9986488023926866, 0.9984089049043087, 1.000324075229324, 1.0002102274796318, 0.9983503794322608, 0.9993481723539465, 0.9995300682562358, 0.9999169903096309, 0.9832350268535326, 0.9987182667163546, 0.9996617887451735, 0.9977798684424122, 0.9504907435989416, 0.9997887982216298, 1.000329644461878, 0.9994410877306478, 0.9991729103458936, 0.9997344346427346, 1.0012201860544616, 1.0019996943565845, 0.9951865950321707, 0.9984426340373576, 0.98604645804878, 0.9962701466362047, 1.0002614073714697, 1.0301982951305448, 1.000274995820283, 0.999492863993044, 0.9914357651287544, 0.999581306183932, 0.9989233554622043, 0.9923934979863456, 1.0003381007754402, 0.9996552048184489, 0.9951189424714714, 0.9937563673736493, 0.9991840265503399, 0.9998982219591626, 0.9956765995047482, 1.0003452041612975, 0.9999728348309734, 0.9996876985569537, 0.9926550921118005, 1.0003044314911957, 0.9998062852429181, 0.9956327891970838, 0.9992946418874978, 0.9970113799708684, 0.999239459483794, 0.9996658954847912, 1.0001316060546284, 0.9997699892610798, 1.000190646784111, 0.9999535178941541, 0.9998767580198917, 0.9990197851022529, 0.9937563625031168, 0.9985042985489746, 0.9995870215434978, 1.0011877299927214, 1.0066194374368942, 0.997735227984866, 1.0004080306110246, 1.0007643196837357, 0.9990710227899835, 1.000047180802433, 1.0000627312172816, 1.0002547139156224, 0.9960945489766676, 1.0025977922013436, 0.9697587316648093, 0.9991448792401562, 0.9998524669791611, 0.9988030456105815, 0.9995753395544901, 1.0004989394427388, 0.9990597354870819, 0.9990522327352152, 1.0012346301868031, 1.0001289935858706, 1.0039587092428344, 1.0004996314345571, 1.0006359189110323, 0.9992131880544975, 0.999586854109559, 1.0000248384933226, 1.0063049264744386, 1.0001494263707105, 1.0024163734195617, 0.9905178898054157, 0.9988054879116622, 1.0020586490967192, 1.0026552128685726, 1.0040040452016317, 0.9975270820986557, 0.9982074123986447, 0.9999842368658001, 1.000435356826443, 0.999649852164057], \"Term\": [\"ajak\", \"aksi\", \"alas\", \"amerika\", \"amerika serikat\", \"anak\", \"arab\", \"australia\", \"bantuan\", \"batas\", \"bawa\", \"bela\", \"bentuk\", \"biden\", \"bukti\", \"buntut\", \"dagang\", \"damai\", \"dampak\", \"demo\", \"desak\", \"drone\", \"dubes\", \"dukung\", \"dunia\", \"erdogan\", \"fakta\", \"gempur\", \"hamas\", \"hati\", \"henti\", \"hilang\", \"imbas\", \"imbau\", \"indonesia\", \"inggris\", \"iran\", \"jalan\", \"jalur\", \"jam\", \"jerman\", \"jk\", \"jokowi\", \"jual\", \"jurnalis\", \"kapal\", \"kapal induk\", \"kecam\", \"kena\", \"kerah\", \"keras\", \"kirim\", \"kirim kapal\", \"konflik\", \"korban\", \"korban jiwa\", \"kutuk serang\", \"lawan\", \"luka\", \"mantan\", \"menang\", \"menteri luar negeri\", \"militer\", \"mobil\", \"negara\", \"negara arab\", \"negara muslim\", \"new york\", \"nyata\", \"orang\", \"orang tewas\", \"panas\", \"pbb\", \"pecah\", \"penuh\", \"perang\", \"perintah\", \"politik\", \"presiden\", \"rafah\", \"rawan\", \"remaja\", \"rencana\", \"ribu\", \"roket\", \"rudal\", \"rumah sakit\", \"rumah sakit indonesia\", \"rusia\", \"sasar\", \"sejarah\", \"selesai\", \"senjata\", \"serang\", \"serang udara\", \"serbu\", \"seru\", \"setop\", \"sikap\", \"solidaritas\", \"tahan\", \"tambah\", \"tank\", \"tempur\", \"temu\", \"tentara\", \"tepi barat\", \"terbang\", \"tewas\", \"tewas akibat serang\", \"tewas tembak\", \"tutup\", \"ubah\", \"uni eropa\", \"unjuk\", \"usul\", \"wakil\", \"warga\", \"warga sipil\", \"wni\"]}, \"R\": 30, \"lambda.step\": 0.01, \"plot.opts\": {\"xlab\": \"PC1\", \"ylab\": \"PC2\"}, \"topic.order\": [1, 2, 3, 4, 5, 6]};\n",
       "\n",
       "function LDAvis_load_lib(url, callback){\n",
       "  var s = document.createElement('script');\n",
       "  s.src = url;\n",
       "  s.async = true;\n",
       "  s.onreadystatechange = s.onload = callback;\n",
       "  s.onerror = function(){console.warn(\"failed to load library \" + url);};\n",
       "  document.getElementsByTagName(\"head\")[0].appendChild(s);\n",
       "}\n",
       "\n",
       "if(typeof(LDAvis) !== \"undefined\"){\n",
       "   // already loaded: just create the visualization\n",
       "   !function(LDAvis){\n",
       "       new LDAvis(\"#\" + \"ldavis_el320635089279216852131692\", ldavis_el320635089279216852131692_data);\n",
       "   }(LDAvis);\n",
       "}else if(typeof define === \"function\" && define.amd){\n",
       "   // require.js is available: use it to load d3/LDAvis\n",
       "   require.config({paths: {d3: \"https://d3js.org/d3.v5\"}});\n",
       "   require([\"d3\"], function(d3){\n",
       "      window.d3 = d3;\n",
       "      LDAvis_load_lib(\"https://cdn.jsdelivr.net/gh/bmabey/pyLDAvis@3.4.0/pyLDAvis/js/ldavis.v3.0.0.js\", function(){\n",
       "        new LDAvis(\"#\" + \"ldavis_el320635089279216852131692\", ldavis_el320635089279216852131692_data);\n",
       "      });\n",
       "    });\n",
       "}else{\n",
       "    // require.js not available: dynamically load d3 & LDAvis\n",
       "    LDAvis_load_lib(\"https://d3js.org/d3.v5.js\", function(){\n",
       "         LDAvis_load_lib(\"https://cdn.jsdelivr.net/gh/bmabey/pyLDAvis@3.4.0/pyLDAvis/js/ldavis.v3.0.0.js\", function(){\n",
       "                 new LDAvis(\"#\" + \"ldavis_el320635089279216852131692\", ldavis_el320635089279216852131692_data);\n",
       "            })\n",
       "         });\n",
       "}\n",
       "</script>"
      ],
      "text/plain": [
       "<IPython.core.display.HTML object>"
      ]
     },
     "execution_count": 21,
     "metadata": {},
     "output_type": "execute_result"
    }
   ],
   "source": [
    "pyLDAvis.enable_notebook()\n",
    "\n",
    "lda_display = gensimvis.prepare(lda_model, corpus, dictionary, sort_topics=False)\n",
    "pyLDAvis.display(lda_display)"
   ]
  }
 ],
 "metadata": {
  "kernelspec": {
   "display_name": "skripsienv",
   "language": "python",
   "name": "python3"
  },
  "language_info": {
   "codemirror_mode": {
    "name": "ipython",
    "version": 3
   },
   "file_extension": ".py",
   "mimetype": "text/x-python",
   "name": "python",
   "nbconvert_exporter": "python",
   "pygments_lexer": "ipython3",
   "version": "3.9.7"
  }
 },
 "nbformat": 4,
 "nbformat_minor": 5
}
