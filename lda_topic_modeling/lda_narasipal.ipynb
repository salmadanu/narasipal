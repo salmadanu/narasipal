{
 "cells": [
  {
   "cell_type": "markdown",
   "metadata": {},
   "source": [
    "# Latent Dirichlet Allocation - Narasipal Topic Modelling\n",
    "With NLTK"
   ]
  },
  {
   "cell_type": "markdown",
   "metadata": {},
   "source": [
    "# 0. Installing Libraries & Packages"
   ]
  },
  {
   "cell_type": "code",
   "execution_count": 39,
   "metadata": {},
   "outputs": [
    {
     "ename": "ModuleNotFoundError",
     "evalue": "No module named 'spacy'",
     "output_type": "error",
     "traceback": [
      "\u001b[0;31m---------------------------------------------------------------------------\u001b[0m",
      "\u001b[0;31mModuleNotFoundError\u001b[0m                       Traceback (most recent call last)",
      "Cell \u001b[0;32mIn[39], line 4\u001b[0m\n\u001b[1;32m      2\u001b[0m \u001b[38;5;28;01mimport\u001b[39;00m\u001b[38;5;250m \u001b[39m\u001b[38;5;21;01mnumpy\u001b[39;00m\u001b[38;5;250m \u001b[39m\u001b[38;5;28;01mas\u001b[39;00m\u001b[38;5;250m \u001b[39m\u001b[38;5;21;01mnp\u001b[39;00m\n\u001b[1;32m      3\u001b[0m \u001b[38;5;28;01mimport\u001b[39;00m\u001b[38;5;250m \u001b[39m\u001b[38;5;21;01mnltk\u001b[39;00m\n\u001b[0;32m----> 4\u001b[0m \u001b[38;5;28;01mimport\u001b[39;00m\u001b[38;5;250m \u001b[39m\u001b[38;5;21;01mspacy\u001b[39;00m\n\u001b[1;32m      5\u001b[0m \u001b[38;5;28;01mimport\u001b[39;00m\u001b[38;5;250m \u001b[39m\u001b[38;5;21;01mgensim\u001b[39;00m\n\u001b[1;32m      6\u001b[0m \u001b[38;5;28;01mimport\u001b[39;00m\u001b[38;5;250m \u001b[39m\u001b[38;5;21;01mpyLDAvis\u001b[39;00m\n",
      "\u001b[0;31mModuleNotFoundError\u001b[0m: No module named 'spacy'"
     ]
    }
   ],
   "source": [
    "import pandas as pd\n",
    "import numpy as np\n",
    "import nltk\n",
    "import spacy\n",
    "import gensim\n",
    "import pyLDAvis\n",
    "import Sastrawi\n",
    "import swifter\n",
    "import string\n",
    "import re"
   ]
  },
  {
   "cell_type": "code",
   "execution_count": 33,
   "metadata": {},
   "outputs": [
    {
     "data": {
      "application/vnd.microsoft.datawrangler.viewer.v0+json": {
       "columns": [
        {
         "name": "index",
         "rawType": "int64",
         "type": "integer"
        },
        {
         "name": "judul_berita",
         "rawType": "object",
         "type": "string"
        }
       ],
       "conversionMethod": "pd.DataFrame",
       "ref": "301335d0-6a97-460a-88cc-79a0149d6ede",
       "rows": [
        [
         "0",
         "Panas! 5.000 Roket Ditembakkan dari Gaza ke Israel"
        ],
        [
         "1",
         "Militer Israel Mulai Operasi Skala Besar Perangi Hamas!"
        ],
        [
         "2",
         "Perang Hamas Vs Israel Pecah, Rusia Desak Semua Pihak Menahan Diri"
        ],
        [
         "3",
         "Perang Hamas Vs Israel, Rusia Serukan Gencatan Senjata!"
        ],
        [
         "4",
         "6 Fakta Dampak Hamas Vs Israel: 40 Orang Tewas-RS Indonesia Kena Serang"
        ]
       ],
       "shape": {
        "columns": 1,
        "rows": 5
       }
      },
      "text/html": [
       "<div>\n",
       "<style scoped>\n",
       "    .dataframe tbody tr th:only-of-type {\n",
       "        vertical-align: middle;\n",
       "    }\n",
       "\n",
       "    .dataframe tbody tr th {\n",
       "        vertical-align: top;\n",
       "    }\n",
       "\n",
       "    .dataframe thead th {\n",
       "        text-align: right;\n",
       "    }\n",
       "</style>\n",
       "<table border=\"1\" class=\"dataframe\">\n",
       "  <thead>\n",
       "    <tr style=\"text-align: right;\">\n",
       "      <th></th>\n",
       "      <th>judul_berita</th>\n",
       "    </tr>\n",
       "  </thead>\n",
       "  <tbody>\n",
       "    <tr>\n",
       "      <th>0</th>\n",
       "      <td>Panas! 5.000 Roket Ditembakkan dari Gaza ke Is...</td>\n",
       "    </tr>\n",
       "    <tr>\n",
       "      <th>1</th>\n",
       "      <td>Militer Israel Mulai Operasi Skala Besar Peran...</td>\n",
       "    </tr>\n",
       "    <tr>\n",
       "      <th>2</th>\n",
       "      <td>Perang Hamas Vs Israel Pecah, Rusia Desak Semu...</td>\n",
       "    </tr>\n",
       "    <tr>\n",
       "      <th>3</th>\n",
       "      <td>Perang Hamas Vs Israel, Rusia Serukan Gencatan...</td>\n",
       "    </tr>\n",
       "    <tr>\n",
       "      <th>4</th>\n",
       "      <td>6 Fakta Dampak Hamas Vs Israel: 40 Orang Tewas...</td>\n",
       "    </tr>\n",
       "  </tbody>\n",
       "</table>\n",
       "</div>"
      ],
      "text/plain": [
       "                                        judul_berita\n",
       "0  Panas! 5.000 Roket Ditembakkan dari Gaza ke Is...\n",
       "1  Militer Israel Mulai Operasi Skala Besar Peran...\n",
       "2  Perang Hamas Vs Israel Pecah, Rusia Desak Semu...\n",
       "3  Perang Hamas Vs Israel, Rusia Serukan Gencatan...\n",
       "4  6 Fakta Dampak Hamas Vs Israel: 40 Orang Tewas..."
      ]
     },
     "execution_count": 33,
     "metadata": {},
     "output_type": "execute_result"
    }
   ],
   "source": [
    "df_titles = pd.read_excel('/Users/salmadanu/Desktop/Skripsi/skripsi-env/narasipal/cleaning/merged_titles.xlsx')\n",
    "df_titles.head()"
   ]
  },
  {
   "cell_type": "markdown",
   "metadata": {},
   "source": [
    "# 1. Data pre-processing"
   ]
  },
  {
   "cell_type": "markdown",
   "metadata": {},
   "source": [
    "## 1. Case folding & punctuation removal"
   ]
  },
  {
   "cell_type": "code",
   "execution_count": 34,
   "metadata": {},
   "outputs": [
    {
     "data": {
      "application/vnd.microsoft.datawrangler.viewer.v0+json": {
       "columns": [
        {
         "name": "index",
         "rawType": "int64",
         "type": "integer"
        },
        {
         "name": "judul_berita",
         "rawType": "object",
         "type": "string"
        }
       ],
       "conversionMethod": "pd.DataFrame",
       "ref": "f580f8ad-a06a-414d-813e-55c9cb423375",
       "rows": [
        [
         "0",
         "panas roket ditembakkan dari gaza ke israel"
        ],
        [
         "1",
         "militer israel mulai operasi skala besar perangi hamas"
        ],
        [
         "2",
         "perang hamas vs israel pecah rusia desak semua pihak menahan diri"
        ],
        [
         "3",
         "perang hamas vs israel rusia serukan gencatan senjata"
        ],
        [
         "4",
         "fakta dampak hamas vs israel orang tewas rs indonesia kena serang"
        ]
       ],
       "shape": {
        "columns": 1,
        "rows": 5
       }
      },
      "text/html": [
       "<div>\n",
       "<style scoped>\n",
       "    .dataframe tbody tr th:only-of-type {\n",
       "        vertical-align: middle;\n",
       "    }\n",
       "\n",
       "    .dataframe tbody tr th {\n",
       "        vertical-align: top;\n",
       "    }\n",
       "\n",
       "    .dataframe thead th {\n",
       "        text-align: right;\n",
       "    }\n",
       "</style>\n",
       "<table border=\"1\" class=\"dataframe\">\n",
       "  <thead>\n",
       "    <tr style=\"text-align: right;\">\n",
       "      <th></th>\n",
       "      <th>judul_berita</th>\n",
       "    </tr>\n",
       "  </thead>\n",
       "  <tbody>\n",
       "    <tr>\n",
       "      <th>0</th>\n",
       "      <td>panas roket ditembakkan dari gaza ke israel</td>\n",
       "    </tr>\n",
       "    <tr>\n",
       "      <th>1</th>\n",
       "      <td>militer israel mulai operasi skala besar peran...</td>\n",
       "    </tr>\n",
       "    <tr>\n",
       "      <th>2</th>\n",
       "      <td>perang hamas vs israel pecah rusia desak semua...</td>\n",
       "    </tr>\n",
       "    <tr>\n",
       "      <th>3</th>\n",
       "      <td>perang hamas vs israel rusia serukan gencatan ...</td>\n",
       "    </tr>\n",
       "    <tr>\n",
       "      <th>4</th>\n",
       "      <td>fakta dampak hamas vs israel orang tewas rs in...</td>\n",
       "    </tr>\n",
       "  </tbody>\n",
       "</table>\n",
       "</div>"
      ],
      "text/plain": [
       "                                        judul_berita\n",
       "0        panas roket ditembakkan dari gaza ke israel\n",
       "1  militer israel mulai operasi skala besar peran...\n",
       "2  perang hamas vs israel pecah rusia desak semua...\n",
       "3  perang hamas vs israel rusia serukan gencatan ...\n",
       "4  fakta dampak hamas vs israel orang tewas rs in..."
      ]
     },
     "execution_count": 34,
     "metadata": {},
     "output_type": "execute_result"
    }
   ],
   "source": [
    "# Replace '-' with ' '\n",
    "df_titles['judul_berita'] = df_titles['judul_berita'].str.replace('-', ' ')\n",
    "\n",
    "# Lowercase\n",
    "df_titles['judul_berita'] = df_titles['judul_berita'].str.lower()\n",
    "\n",
    "# Remove punctuation\n",
    "df_titles['judul_berita'] = df_titles['judul_berita'].str.translate(str.maketrans('', '', string.punctuation))\n",
    "\n",
    "# Remove number\n",
    "df_titles['judul_berita'] = df_titles['judul_berita'].str.replace(r'\\d+', '', regex=True)\n",
    "\n",
    "# Remove whitespaces\n",
    "df_titles['judul_berita'] = df_titles['judul_berita'].str.strip()\n",
    "\n",
    "# Remove multiple whitespaces into a single whitespace\n",
    "df_titles['judul_berita'] = df_titles['judul_berita'].str.replace(r'\\s+', ' ', regex=True)\n",
    "\n",
    "# Remove single characters\n",
    "df_titles['judul_berita'] = df_titles['judul_berita'].str.replace(r'\\b[a-zA-Z]\\b', '', regex=True)\n",
    "\n",
    "df_titles['judul_berita'] = df_titles['judul_berita'].astype(str)\n",
    "df_titles.head()"
   ]
  },
  {
   "cell_type": "markdown",
   "metadata": {},
   "source": [
    "## 2. Normalization"
   ]
  },
  {
   "cell_type": "code",
   "execution_count": 35,
   "metadata": {},
   "outputs": [
    {
     "data": {
      "application/vnd.microsoft.datawrangler.viewer.v0+json": {
       "columns": [
        {
         "name": "index",
         "rawType": "int64",
         "type": "integer"
        },
        {
         "name": "judul_berita",
         "rawType": "object",
         "type": "string"
        },
        {
         "name": "textdata_normalized",
         "rawType": "object",
         "type": "string"
        }
       ],
       "conversionMethod": "pd.DataFrame",
       "ref": "2ffe0d34-ae8a-4069-9e89-3c71286aedba",
       "rows": [
        [
         "0",
         "panas roket ditembakkan dari gaza ke israel",
         "panas roket ditembakkan dari gaza ke israel"
        ],
        [
         "1",
         "militer israel mulai operasi skala besar perangi hamas",
         "militer israel mulai operasi skala besar perangi hamas"
        ],
        [
         "2",
         "perang hamas vs israel pecah rusia desak semua pihak menahan diri",
         "perang hamas versus israel pecah rusia desak semua pihak menahan diri"
        ],
        [
         "3",
         "perang hamas vs israel rusia serukan gencatan senjata",
         "perang hamas versus israel rusia serukan gencatan senjata"
        ],
        [
         "4",
         "fakta dampak hamas vs israel orang tewas rs indonesia kena serang",
         "fakta dampak hamas versus israel orang tewas rumah sakit indonesia kena serang"
        ],
        [
         "5",
         "orang di gaza tewas akibat serangan balik israel ribuan terluka",
         "orang di gaza tewas akibat serangan balik israel ribuan terluka"
        ],
        [
         "6",
         "kbri amman soal hamas vs israel sejauh ini tak ada wni jadi korban",
         "kbri amman soal hamas versus israel sejauh ini tak ada wni jadi korban"
        ],
        [
         "7",
         "korban serangan hamas di israel lebih dari orang tewas terluka",
         "korban serangan hamas di israel lebih dari orang tewas terluka"
        ],
        [
         "8",
         "kemlu indonesia prihatin meningkatnya eskalasi konflik palestina israel",
         "kementerian luar negeri indonesia prihatin meningkatnya eskalasi konflik palestina israel"
        ],
        [
         "9",
         "prihatin ketegangan palestina israel china minta hentikan tembakan",
         "prihatin ketegangan palestina israel cina minta hentikan tembakan"
        ]
       ],
       "shape": {
        "columns": 2,
        "rows": 10
       }
      },
      "text/html": [
       "<div>\n",
       "<style scoped>\n",
       "    .dataframe tbody tr th:only-of-type {\n",
       "        vertical-align: middle;\n",
       "    }\n",
       "\n",
       "    .dataframe tbody tr th {\n",
       "        vertical-align: top;\n",
       "    }\n",
       "\n",
       "    .dataframe thead th {\n",
       "        text-align: right;\n",
       "    }\n",
       "</style>\n",
       "<table border=\"1\" class=\"dataframe\">\n",
       "  <thead>\n",
       "    <tr style=\"text-align: right;\">\n",
       "      <th></th>\n",
       "      <th>judul_berita</th>\n",
       "      <th>textdata_normalized</th>\n",
       "    </tr>\n",
       "  </thead>\n",
       "  <tbody>\n",
       "    <tr>\n",
       "      <th>0</th>\n",
       "      <td>panas roket ditembakkan dari gaza ke israel</td>\n",
       "      <td>panas roket ditembakkan dari gaza ke israel</td>\n",
       "    </tr>\n",
       "    <tr>\n",
       "      <th>1</th>\n",
       "      <td>militer israel mulai operasi skala besar peran...</td>\n",
       "      <td>militer israel mulai operasi skala besar peran...</td>\n",
       "    </tr>\n",
       "    <tr>\n",
       "      <th>2</th>\n",
       "      <td>perang hamas vs israel pecah rusia desak semua...</td>\n",
       "      <td>perang hamas versus israel pecah rusia desak s...</td>\n",
       "    </tr>\n",
       "    <tr>\n",
       "      <th>3</th>\n",
       "      <td>perang hamas vs israel rusia serukan gencatan ...</td>\n",
       "      <td>perang hamas versus israel rusia serukan genca...</td>\n",
       "    </tr>\n",
       "    <tr>\n",
       "      <th>4</th>\n",
       "      <td>fakta dampak hamas vs israel orang tewas rs in...</td>\n",
       "      <td>fakta dampak hamas versus israel orang tewas r...</td>\n",
       "    </tr>\n",
       "    <tr>\n",
       "      <th>5</th>\n",
       "      <td>orang di gaza tewas akibat serangan balik isra...</td>\n",
       "      <td>orang di gaza tewas akibat serangan balik isra...</td>\n",
       "    </tr>\n",
       "    <tr>\n",
       "      <th>6</th>\n",
       "      <td>kbri amman soal hamas vs israel sejauh ini tak...</td>\n",
       "      <td>kbri amman soal hamas versus israel sejauh ini...</td>\n",
       "    </tr>\n",
       "    <tr>\n",
       "      <th>7</th>\n",
       "      <td>korban serangan hamas di israel lebih dari ora...</td>\n",
       "      <td>korban serangan hamas di israel lebih dari ora...</td>\n",
       "    </tr>\n",
       "    <tr>\n",
       "      <th>8</th>\n",
       "      <td>kemlu indonesia prihatin meningkatnya eskalasi...</td>\n",
       "      <td>kementerian luar negeri indonesia prihatin men...</td>\n",
       "    </tr>\n",
       "    <tr>\n",
       "      <th>9</th>\n",
       "      <td>prihatin ketegangan palestina israel china min...</td>\n",
       "      <td>prihatin ketegangan palestina israel cina mint...</td>\n",
       "    </tr>\n",
       "  </tbody>\n",
       "</table>\n",
       "</div>"
      ],
      "text/plain": [
       "                                        judul_berita  \\\n",
       "0        panas roket ditembakkan dari gaza ke israel   \n",
       "1  militer israel mulai operasi skala besar peran...   \n",
       "2  perang hamas vs israel pecah rusia desak semua...   \n",
       "3  perang hamas vs israel rusia serukan gencatan ...   \n",
       "4  fakta dampak hamas vs israel orang tewas rs in...   \n",
       "5  orang di gaza tewas akibat serangan balik isra...   \n",
       "6  kbri amman soal hamas vs israel sejauh ini tak...   \n",
       "7  korban serangan hamas di israel lebih dari ora...   \n",
       "8  kemlu indonesia prihatin meningkatnya eskalasi...   \n",
       "9  prihatin ketegangan palestina israel china min...   \n",
       "\n",
       "                                 textdata_normalized  \n",
       "0        panas roket ditembakkan dari gaza ke israel  \n",
       "1  militer israel mulai operasi skala besar peran...  \n",
       "2  perang hamas versus israel pecah rusia desak s...  \n",
       "3  perang hamas versus israel rusia serukan genca...  \n",
       "4  fakta dampak hamas versus israel orang tewas r...  \n",
       "5  orang di gaza tewas akibat serangan balik isra...  \n",
       "6  kbri amman soal hamas versus israel sejauh ini...  \n",
       "7  korban serangan hamas di israel lebih dari ora...  \n",
       "8  kementerian luar negeri indonesia prihatin men...  \n",
       "9  prihatin ketegangan palestina israel cina mint...  "
      ]
     },
     "execution_count": 35,
     "metadata": {},
     "output_type": "execute_result"
    }
   ],
   "source": [
    "# Load normalized word excel\n",
    "normalized_word = pd.read_excel('/Users/salmadanu/Desktop/Skripsi/skripsi-env/narasipal/cleaning/normalisasi.xlsx')\n",
    "\n",
    "# Create normalized word dictionary\n",
    "normalized_word_dict = {}\n",
    "normalized_word_dict = {k.strip(): v for k, v in normalized_word_dict.items()}\n",
    "\n",
    "# If word isn't already in normalized_word_dict, add it\n",
    "for index, row in normalized_word.iterrows():\n",
    "    if row[0] not in normalized_word_dict:\n",
    "        normalized_word_dict[row[0]] = row[1]\n",
    "\n",
    "# Function for normalizing word\n",
    "def normalized_term(title):\n",
    "    for term, replacement in normalized_word_dict.items():\n",
    "        title = re.sub(rf'\\b{re.escape(term)}\\b', f' {replacement} ', title)  # Add spaces around replacement\n",
    "    return ' '.join(title.split()) \n",
    " \n",
    "df_titles['textdata_normalized'] = df_titles['judul_berita'].apply(normalized_term)\n",
    "df_titles.head(10)"
   ]
  },
  {
   "cell_type": "markdown",
   "metadata": {},
   "source": [
    "## 3. Bigram & Trigram Detection\n",
    "Parameters:\n",
    "- `min_count` : **FREQUENCY FILTER** Controls how many times a word pair must appear before being considered a bigram/trigram\n",
    "- `threshold` : **STRENGTH OF ASSOCIATION** How strongly words must be associated before forming a phrase. Based on Pointwise Mutual Information (PMI)\n"
   ]
  },
  {
   "cell_type": "code",
   "execution_count": 36,
   "metadata": {},
   "outputs": [
    {
     "data": {
      "application/vnd.microsoft.datawrangler.viewer.v0+json": {
       "columns": [
        {
         "name": "index",
         "rawType": "int64",
         "type": "integer"
        },
        {
         "name": "textdata_normalized",
         "rawType": "object",
         "type": "string"
        },
        {
         "name": "bigrams",
         "rawType": "object",
         "type": "unknown"
        },
        {
         "name": "trigrams",
         "rawType": "object",
         "type": "unknown"
        }
       ],
       "conversionMethod": "pd.DataFrame",
       "ref": "d6503655-986c-46c2-a9dc-ba8c40717a3a",
       "rows": [
        [
         "0",
         "panas roket ditembakkan dari gaza ke israel",
         "['panas', 'roket', 'ditembakkan', 'dari', 'gaza', 'ke', 'israel']",
         "['panas', 'roket', 'ditembakkan_dari', 'gaza', 'ke', 'israel']"
        ],
        [
         "1",
         "militer israel mulai operasi skala besar perangi hamas",
         "['militer', 'israel', 'mulai', 'operasi', 'skala_besar', 'perangi', 'hamas']",
         "['militer', 'israel', 'mulai', 'operasi', 'skala_besar', 'perangi', 'hamas']"
        ],
        [
         "2",
         "perang hamas versus israel pecah rusia desak semua pihak menahan diri",
         "['perang', 'hamas_versus', 'israel', 'pecah', 'rusia', 'desak', 'semua_pihak', 'menahan', 'diri']",
         "['perang_hamas_versus', 'israel', 'pecah', 'rusia', 'desak', 'semua_pihak', 'menahan', 'diri']"
        ],
        [
         "3",
         "perang hamas versus israel rusia serukan gencatan senjata",
         "['perang', 'hamas_versus', 'israel', 'rusia', 'serukan_gencatan', 'senjata']",
         "['perang_hamas_versus', 'israel', 'rusia', 'serukan_gencatan_senjata']"
        ],
        [
         "4",
         "fakta dampak hamas versus israel orang tewas rumah sakit indonesia kena serang",
         "['fakta', 'dampak', 'hamas_versus', 'israel', 'orang_tewas', 'rumah_sakit', 'indonesia', 'kena', 'serang']",
         "['fakta', 'dampak', 'hamas_versus', 'israel', 'orang_tewas', 'rumah_sakit_indonesia', 'kena', 'serang']"
        ],
        [
         "5",
         "orang di gaza tewas akibat serangan balik israel ribuan terluka",
         "['orang', 'di', 'gaza', 'tewas_akibat', 'serangan', 'balik', 'israel', 'ribuan', 'terluka']",
         "['orang', 'di', 'gaza', 'tewas_akibat', 'serangan', 'balik', 'israel', 'ribuan', 'terluka']"
        ],
        [
         "6",
         "kbri amman soal hamas versus israel sejauh ini tak ada wni jadi korban",
         "['kbri', 'amman', 'soal', 'hamas_versus', 'israel', 'sejauh', 'ini', 'tak_ada', 'wni', 'jadi_korban']",
         "['kbri', 'amman', 'soal', 'hamas_versus', 'israel', 'sejauh', 'ini', 'tak_ada', 'wni', 'jadi_korban']"
        ],
        [
         "7",
         "korban serangan hamas di israel lebih dari orang tewas terluka",
         "['korban', 'serangan', 'hamas', 'di', 'israel', 'lebih_dari', 'orang_tewas', 'terluka']",
         "['korban', 'serangan', 'hamas', 'di', 'israel', 'lebih_dari', 'orang_tewas', 'terluka']"
        ],
        [
         "8",
         "kementerian luar negeri indonesia prihatin meningkatnya eskalasi konflik palestina israel",
         "['kementerian_luar', 'negeri_indonesia', 'prihatin', 'meningkatnya', 'eskalasi_konflik', 'palestina', 'israel']",
         "['kementerian_luar_negeri_indonesia', 'prihatin', 'meningkatnya', 'eskalasi_konflik', 'palestina', 'israel']"
        ],
        [
         "9",
         "prihatin ketegangan palestina israel cina minta hentikan tembakan",
         "['prihatin', 'ketegangan', 'palestina', 'israel', 'cina', 'minta', 'hentikan', 'tembakan']",
         "['prihatin', 'ketegangan', 'palestina', 'israel', 'cina', 'minta', 'hentikan', 'tembakan']"
        ]
       ],
       "shape": {
        "columns": 3,
        "rows": 10
       }
      },
      "text/html": [
       "<div>\n",
       "<style scoped>\n",
       "    .dataframe tbody tr th:only-of-type {\n",
       "        vertical-align: middle;\n",
       "    }\n",
       "\n",
       "    .dataframe tbody tr th {\n",
       "        vertical-align: top;\n",
       "    }\n",
       "\n",
       "    .dataframe thead th {\n",
       "        text-align: right;\n",
       "    }\n",
       "</style>\n",
       "<table border=\"1\" class=\"dataframe\">\n",
       "  <thead>\n",
       "    <tr style=\"text-align: right;\">\n",
       "      <th></th>\n",
       "      <th>textdata_normalized</th>\n",
       "      <th>bigrams</th>\n",
       "      <th>trigrams</th>\n",
       "    </tr>\n",
       "  </thead>\n",
       "  <tbody>\n",
       "    <tr>\n",
       "      <th>0</th>\n",
       "      <td>panas roket ditembakkan dari gaza ke israel</td>\n",
       "      <td>[panas, roket, ditembakkan, dari, gaza, ke, is...</td>\n",
       "      <td>[panas, roket, ditembakkan_dari, gaza, ke, isr...</td>\n",
       "    </tr>\n",
       "    <tr>\n",
       "      <th>1</th>\n",
       "      <td>militer israel mulai operasi skala besar peran...</td>\n",
       "      <td>[militer, israel, mulai, operasi, skala_besar,...</td>\n",
       "      <td>[militer, israel, mulai, operasi, skala_besar,...</td>\n",
       "    </tr>\n",
       "    <tr>\n",
       "      <th>2</th>\n",
       "      <td>perang hamas versus israel pecah rusia desak s...</td>\n",
       "      <td>[perang, hamas_versus, israel, pecah, rusia, d...</td>\n",
       "      <td>[perang_hamas_versus, israel, pecah, rusia, de...</td>\n",
       "    </tr>\n",
       "    <tr>\n",
       "      <th>3</th>\n",
       "      <td>perang hamas versus israel rusia serukan genca...</td>\n",
       "      <td>[perang, hamas_versus, israel, rusia, serukan_...</td>\n",
       "      <td>[perang_hamas_versus, israel, rusia, serukan_g...</td>\n",
       "    </tr>\n",
       "    <tr>\n",
       "      <th>4</th>\n",
       "      <td>fakta dampak hamas versus israel orang tewas r...</td>\n",
       "      <td>[fakta, dampak, hamas_versus, israel, orang_te...</td>\n",
       "      <td>[fakta, dampak, hamas_versus, israel, orang_te...</td>\n",
       "    </tr>\n",
       "    <tr>\n",
       "      <th>5</th>\n",
       "      <td>orang di gaza tewas akibat serangan balik isra...</td>\n",
       "      <td>[orang, di, gaza, tewas_akibat, serangan, bali...</td>\n",
       "      <td>[orang, di, gaza, tewas_akibat, serangan, bali...</td>\n",
       "    </tr>\n",
       "    <tr>\n",
       "      <th>6</th>\n",
       "      <td>kbri amman soal hamas versus israel sejauh ini...</td>\n",
       "      <td>[kbri, amman, soal, hamas_versus, israel, seja...</td>\n",
       "      <td>[kbri, amman, soal, hamas_versus, israel, seja...</td>\n",
       "    </tr>\n",
       "    <tr>\n",
       "      <th>7</th>\n",
       "      <td>korban serangan hamas di israel lebih dari ora...</td>\n",
       "      <td>[korban, serangan, hamas, di, israel, lebih_da...</td>\n",
       "      <td>[korban, serangan, hamas, di, israel, lebih_da...</td>\n",
       "    </tr>\n",
       "    <tr>\n",
       "      <th>8</th>\n",
       "      <td>kementerian luar negeri indonesia prihatin men...</td>\n",
       "      <td>[kementerian_luar, negeri_indonesia, prihatin,...</td>\n",
       "      <td>[kementerian_luar_negeri_indonesia, prihatin, ...</td>\n",
       "    </tr>\n",
       "    <tr>\n",
       "      <th>9</th>\n",
       "      <td>prihatin ketegangan palestina israel cina mint...</td>\n",
       "      <td>[prihatin, ketegangan, palestina, israel, cina...</td>\n",
       "      <td>[prihatin, ketegangan, palestina, israel, cina...</td>\n",
       "    </tr>\n",
       "  </tbody>\n",
       "</table>\n",
       "</div>"
      ],
      "text/plain": [
       "                                 textdata_normalized  \\\n",
       "0        panas roket ditembakkan dari gaza ke israel   \n",
       "1  militer israel mulai operasi skala besar peran...   \n",
       "2  perang hamas versus israel pecah rusia desak s...   \n",
       "3  perang hamas versus israel rusia serukan genca...   \n",
       "4  fakta dampak hamas versus israel orang tewas r...   \n",
       "5  orang di gaza tewas akibat serangan balik isra...   \n",
       "6  kbri amman soal hamas versus israel sejauh ini...   \n",
       "7  korban serangan hamas di israel lebih dari ora...   \n",
       "8  kementerian luar negeri indonesia prihatin men...   \n",
       "9  prihatin ketegangan palestina israel cina mint...   \n",
       "\n",
       "                                             bigrams  \\\n",
       "0  [panas, roket, ditembakkan, dari, gaza, ke, is...   \n",
       "1  [militer, israel, mulai, operasi, skala_besar,...   \n",
       "2  [perang, hamas_versus, israel, pecah, rusia, d...   \n",
       "3  [perang, hamas_versus, israel, rusia, serukan_...   \n",
       "4  [fakta, dampak, hamas_versus, israel, orang_te...   \n",
       "5  [orang, di, gaza, tewas_akibat, serangan, bali...   \n",
       "6  [kbri, amman, soal, hamas_versus, israel, seja...   \n",
       "7  [korban, serangan, hamas, di, israel, lebih_da...   \n",
       "8  [kementerian_luar, negeri_indonesia, prihatin,...   \n",
       "9  [prihatin, ketegangan, palestina, israel, cina...   \n",
       "\n",
       "                                            trigrams  \n",
       "0  [panas, roket, ditembakkan_dari, gaza, ke, isr...  \n",
       "1  [militer, israel, mulai, operasi, skala_besar,...  \n",
       "2  [perang_hamas_versus, israel, pecah, rusia, de...  \n",
       "3  [perang_hamas_versus, israel, rusia, serukan_g...  \n",
       "4  [fakta, dampak, hamas_versus, israel, orang_te...  \n",
       "5  [orang, di, gaza, tewas_akibat, serangan, bali...  \n",
       "6  [kbri, amman, soal, hamas_versus, israel, seja...  \n",
       "7  [korban, serangan, hamas, di, israel, lebih_da...  \n",
       "8  [kementerian_luar_negeri_indonesia, prihatin, ...  \n",
       "9  [prihatin, ketegangan, palestina, israel, cina...  "
      ]
     },
     "execution_count": 36,
     "metadata": {},
     "output_type": "execute_result"
    }
   ],
   "source": [
    "from gensim.models import Phrases\n",
    "from gensim.models.phrases import Phraser\n",
    "\n",
    "# Convert normalized text into tokenized lists\n",
    "df_titles['tokenized'] = df_titles['textdata_normalized'].apply(lambda x: x.split())\n",
    "\n",
    "# Train bigram model\n",
    "bigram = Phrases(df_titles['tokenized'], min_count=5, threshold=10)\n",
    "bigram_phraser = Phraser(bigram)  # Optimized for faster processing\n",
    "\n",
    "# Train trigram model on bigram-transformed data\n",
    "trigram = Phrases(bigram_phraser[df_titles['tokenized']], min_count=5, threshold=10)\n",
    "trigram_phraser = Phraser(trigram)\n",
    "\n",
    "# Apply the models to detect bigrams and trigrams\n",
    "df_titles['bigrams'] = df_titles['tokenized'].apply(lambda x: bigram_phraser[x])\n",
    "df_titles['trigrams'] = df_titles['bigrams'].apply(lambda x: trigram_phraser[x])\n",
    "\n",
    "# View the processed output\n",
    "df_titles[['textdata_normalized', 'bigrams', 'trigrams']].head(10)"
   ]
  },
  {
   "cell_type": "markdown",
   "metadata": {},
   "source": [
    "# 4. Tokenization"
   ]
  },
  {
   "cell_type": "markdown",
   "metadata": {},
   "source": [
    "### With `punkt`"
   ]
  },
  {
   "cell_type": "code",
   "execution_count": 37,
   "metadata": {},
   "outputs": [],
   "source": [
    "from nltk.tokenize import word_tokenize"
   ]
  },
  {
   "cell_type": "code",
   "execution_count": 38,
   "metadata": {},
   "outputs": [
    {
     "name": "stderr",
     "output_type": "stream",
     "text": [
      "[nltk_data] Downloading package punkt to /Users/salmadanu/nltk_data...\n",
      "[nltk_data]   Unzipping tokenizers/punkt.zip.\n"
     ]
    },
    {
     "data": {
      "application/vnd.microsoft.datawrangler.viewer.v0+json": {
       "columns": [
        {
         "name": "index",
         "rawType": "int64",
         "type": "integer"
        },
        {
         "name": "textdata_normalized",
         "rawType": "object",
         "type": "string"
        },
        {
         "name": "trigrams",
         "rawType": "object",
         "type": "unknown"
        },
        {
         "name": "tokens",
         "rawType": "object",
         "type": "unknown"
        }
       ],
       "conversionMethod": "pd.DataFrame",
       "ref": "dee6ebce-af52-49d2-a27c-1146e94a5e84",
       "rows": [
        [
         "0",
         "panas roket ditembakkan dari gaza ke israel",
         "['panas', 'roket', 'ditembakkan_dari', 'gaza', 'ke', 'israel']",
         "['panas', 'roket', 'ditembakkan_dari', 'gaza', 'ke', 'israel']"
        ],
        [
         "1",
         "militer israel mulai operasi skala besar perangi hamas",
         "['militer', 'israel', 'mulai', 'operasi', 'skala_besar', 'perangi', 'hamas']",
         "['militer', 'israel', 'mulai', 'operasi', 'skala_besar', 'perangi', 'hamas']"
        ],
        [
         "2",
         "perang hamas versus israel pecah rusia desak semua pihak menahan diri",
         "['perang_hamas_versus', 'israel', 'pecah', 'rusia', 'desak', 'semua_pihak', 'menahan', 'diri']",
         "['perang_hamas_versus', 'israel', 'pecah', 'rusia', 'desak', 'semua_pihak', 'menahan', 'diri']"
        ],
        [
         "3",
         "perang hamas versus israel rusia serukan gencatan senjata",
         "['perang_hamas_versus', 'israel', 'rusia', 'serukan_gencatan_senjata']",
         "['perang_hamas_versus', 'israel', 'rusia', 'serukan_gencatan_senjata']"
        ],
        [
         "4",
         "fakta dampak hamas versus israel orang tewas rumah sakit indonesia kena serang",
         "['fakta', 'dampak', 'hamas_versus', 'israel', 'orang_tewas', 'rumah_sakit_indonesia', 'kena', 'serang']",
         "['fakta', 'dampak', 'hamas_versus', 'israel', 'orang_tewas', 'rumah_sakit_indonesia', 'kena', 'serang']"
        ],
        [
         "5",
         "orang di gaza tewas akibat serangan balik israel ribuan terluka",
         "['orang', 'di', 'gaza', 'tewas_akibat', 'serangan', 'balik', 'israel', 'ribuan', 'terluka']",
         "['orang', 'di', 'gaza', 'tewas_akibat', 'serangan', 'balik', 'israel', 'ribuan', 'terluka']"
        ],
        [
         "6",
         "kbri amman soal hamas versus israel sejauh ini tak ada wni jadi korban",
         "['kbri', 'amman', 'soal', 'hamas_versus', 'israel', 'sejauh', 'ini', 'tak_ada', 'wni', 'jadi_korban']",
         "['kbri', 'amman', 'soal', 'hamas_versus', 'israel', 'sejauh', 'ini', 'tak_ada', 'wni', 'jadi_korban']"
        ],
        [
         "7",
         "korban serangan hamas di israel lebih dari orang tewas terluka",
         "['korban', 'serangan', 'hamas', 'di', 'israel', 'lebih_dari', 'orang_tewas', 'terluka']",
         "['korban', 'serangan', 'hamas', 'di', 'israel', 'lebih_dari', 'orang_tewas', 'terluka']"
        ],
        [
         "8",
         "kementerian luar negeri indonesia prihatin meningkatnya eskalasi konflik palestina israel",
         "['kementerian_luar_negeri_indonesia', 'prihatin', 'meningkatnya', 'eskalasi_konflik', 'palestina', 'israel']",
         "['kementerian_luar_negeri_indonesia', 'prihatin', 'meningkatnya', 'eskalasi_konflik', 'palestina', 'israel']"
        ],
        [
         "9",
         "prihatin ketegangan palestina israel cina minta hentikan tembakan",
         "['prihatin', 'ketegangan', 'palestina', 'israel', 'cina', 'minta', 'hentikan', 'tembakan']",
         "['prihatin', 'ketegangan', 'palestina', 'israel', 'cina', 'minta', 'hentikan', 'tembakan']"
        ]
       ],
       "shape": {
        "columns": 3,
        "rows": 10
       }
      },
      "text/html": [
       "<div>\n",
       "<style scoped>\n",
       "    .dataframe tbody tr th:only-of-type {\n",
       "        vertical-align: middle;\n",
       "    }\n",
       "\n",
       "    .dataframe tbody tr th {\n",
       "        vertical-align: top;\n",
       "    }\n",
       "\n",
       "    .dataframe thead th {\n",
       "        text-align: right;\n",
       "    }\n",
       "</style>\n",
       "<table border=\"1\" class=\"dataframe\">\n",
       "  <thead>\n",
       "    <tr style=\"text-align: right;\">\n",
       "      <th></th>\n",
       "      <th>textdata_normalized</th>\n",
       "      <th>trigrams</th>\n",
       "      <th>tokens</th>\n",
       "    </tr>\n",
       "  </thead>\n",
       "  <tbody>\n",
       "    <tr>\n",
       "      <th>0</th>\n",
       "      <td>panas roket ditembakkan dari gaza ke israel</td>\n",
       "      <td>[panas, roket, ditembakkan_dari, gaza, ke, isr...</td>\n",
       "      <td>[panas, roket, ditembakkan_dari, gaza, ke, isr...</td>\n",
       "    </tr>\n",
       "    <tr>\n",
       "      <th>1</th>\n",
       "      <td>militer israel mulai operasi skala besar peran...</td>\n",
       "      <td>[militer, israel, mulai, operasi, skala_besar,...</td>\n",
       "      <td>[militer, israel, mulai, operasi, skala_besar,...</td>\n",
       "    </tr>\n",
       "    <tr>\n",
       "      <th>2</th>\n",
       "      <td>perang hamas versus israel pecah rusia desak s...</td>\n",
       "      <td>[perang_hamas_versus, israel, pecah, rusia, de...</td>\n",
       "      <td>[perang_hamas_versus, israel, pecah, rusia, de...</td>\n",
       "    </tr>\n",
       "    <tr>\n",
       "      <th>3</th>\n",
       "      <td>perang hamas versus israel rusia serukan genca...</td>\n",
       "      <td>[perang_hamas_versus, israel, rusia, serukan_g...</td>\n",
       "      <td>[perang_hamas_versus, israel, rusia, serukan_g...</td>\n",
       "    </tr>\n",
       "    <tr>\n",
       "      <th>4</th>\n",
       "      <td>fakta dampak hamas versus israel orang tewas r...</td>\n",
       "      <td>[fakta, dampak, hamas_versus, israel, orang_te...</td>\n",
       "      <td>[fakta, dampak, hamas_versus, israel, orang_te...</td>\n",
       "    </tr>\n",
       "    <tr>\n",
       "      <th>5</th>\n",
       "      <td>orang di gaza tewas akibat serangan balik isra...</td>\n",
       "      <td>[orang, di, gaza, tewas_akibat, serangan, bali...</td>\n",
       "      <td>[orang, di, gaza, tewas_akibat, serangan, bali...</td>\n",
       "    </tr>\n",
       "    <tr>\n",
       "      <th>6</th>\n",
       "      <td>kbri amman soal hamas versus israel sejauh ini...</td>\n",
       "      <td>[kbri, amman, soal, hamas_versus, israel, seja...</td>\n",
       "      <td>[kbri, amman, soal, hamas_versus, israel, seja...</td>\n",
       "    </tr>\n",
       "    <tr>\n",
       "      <th>7</th>\n",
       "      <td>korban serangan hamas di israel lebih dari ora...</td>\n",
       "      <td>[korban, serangan, hamas, di, israel, lebih_da...</td>\n",
       "      <td>[korban, serangan, hamas, di, israel, lebih_da...</td>\n",
       "    </tr>\n",
       "    <tr>\n",
       "      <th>8</th>\n",
       "      <td>kementerian luar negeri indonesia prihatin men...</td>\n",
       "      <td>[kementerian_luar_negeri_indonesia, prihatin, ...</td>\n",
       "      <td>[kementerian_luar_negeri_indonesia, prihatin, ...</td>\n",
       "    </tr>\n",
       "    <tr>\n",
       "      <th>9</th>\n",
       "      <td>prihatin ketegangan palestina israel cina mint...</td>\n",
       "      <td>[prihatin, ketegangan, palestina, israel, cina...</td>\n",
       "      <td>[prihatin, ketegangan, palestina, israel, cina...</td>\n",
       "    </tr>\n",
       "  </tbody>\n",
       "</table>\n",
       "</div>"
      ],
      "text/plain": [
       "                                 textdata_normalized  \\\n",
       "0        panas roket ditembakkan dari gaza ke israel   \n",
       "1  militer israel mulai operasi skala besar peran...   \n",
       "2  perang hamas versus israel pecah rusia desak s...   \n",
       "3  perang hamas versus israel rusia serukan genca...   \n",
       "4  fakta dampak hamas versus israel orang tewas r...   \n",
       "5  orang di gaza tewas akibat serangan balik isra...   \n",
       "6  kbri amman soal hamas versus israel sejauh ini...   \n",
       "7  korban serangan hamas di israel lebih dari ora...   \n",
       "8  kementerian luar negeri indonesia prihatin men...   \n",
       "9  prihatin ketegangan palestina israel cina mint...   \n",
       "\n",
       "                                            trigrams  \\\n",
       "0  [panas, roket, ditembakkan_dari, gaza, ke, isr...   \n",
       "1  [militer, israel, mulai, operasi, skala_besar,...   \n",
       "2  [perang_hamas_versus, israel, pecah, rusia, de...   \n",
       "3  [perang_hamas_versus, israel, rusia, serukan_g...   \n",
       "4  [fakta, dampak, hamas_versus, israel, orang_te...   \n",
       "5  [orang, di, gaza, tewas_akibat, serangan, bali...   \n",
       "6  [kbri, amman, soal, hamas_versus, israel, seja...   \n",
       "7  [korban, serangan, hamas, di, israel, lebih_da...   \n",
       "8  [kementerian_luar_negeri_indonesia, prihatin, ...   \n",
       "9  [prihatin, ketegangan, palestina, israel, cina...   \n",
       "\n",
       "                                              tokens  \n",
       "0  [panas, roket, ditembakkan_dari, gaza, ke, isr...  \n",
       "1  [militer, israel, mulai, operasi, skala_besar,...  \n",
       "2  [perang_hamas_versus, israel, pecah, rusia, de...  \n",
       "3  [perang_hamas_versus, israel, rusia, serukan_g...  \n",
       "4  [fakta, dampak, hamas_versus, israel, orang_te...  \n",
       "5  [orang, di, gaza, tewas_akibat, serangan, bali...  \n",
       "6  [kbri, amman, soal, hamas_versus, israel, seja...  \n",
       "7  [korban, serangan, hamas, di, israel, lebih_da...  \n",
       "8  [kementerian_luar_negeri_indonesia, prihatin, ...  \n",
       "9  [prihatin, ketegangan, palestina, israel, cina...  "
      ]
     },
     "execution_count": 38,
     "metadata": {},
     "output_type": "execute_result"
    }
   ],
   "source": [
    "nltk.download('punkt')\n",
    "df_titles['tokens'] = df_titles['trigrams'].apply(lambda x: word_tokenize(\" \".join(x)))\n",
    "df_titles[['textdata_normalized', 'trigrams', 'tokens']].head(10)"
   ]
  },
  {
   "cell_type": "markdown",
   "metadata": {},
   "source": [
    "## 5. Stop Word Removal"
   ]
  },
  {
   "cell_type": "code",
   "execution_count": 40,
   "metadata": {},
   "outputs": [
    {
     "name": "stderr",
     "output_type": "stream",
     "text": [
      "[nltk_data] Downloading package stopwords to\n",
      "[nltk_data]     /Users/salmadanu/nltk_data...\n",
      "[nltk_data]   Unzipping corpora/stopwords.zip.\n"
     ]
    },
    {
     "data": {
      "text/plain": [
       "True"
      ]
     },
     "execution_count": 40,
     "metadata": {},
     "output_type": "execute_result"
    }
   ],
   "source": [
    "nltk.download('stopwords')"
   ]
  },
  {
   "cell_type": "code",
   "execution_count": null,
   "metadata": {},
   "outputs": [
    {
     "data": {
      "application/vnd.microsoft.datawrangler.viewer.v0+json": {
       "columns": [
        {
         "name": "index",
         "rawType": "int64",
         "type": "integer"
        },
        {
         "name": "judul_berita",
         "rawType": "object",
         "type": "string"
        },
        {
         "name": "textdata_normalized",
         "rawType": "object",
         "type": "string"
        },
        {
         "name": "tokenized",
         "rawType": "object",
         "type": "unknown"
        },
        {
         "name": "bigrams",
         "rawType": "object",
         "type": "unknown"
        },
        {
         "name": "trigrams",
         "rawType": "object",
         "type": "unknown"
        },
        {
         "name": "tokens",
         "rawType": "object",
         "type": "unknown"
        },
        {
         "name": "textdata_tokens_nsw",
         "rawType": "object",
         "type": "unknown"
        }
       ],
       "conversionMethod": "pd.DataFrame",
       "ref": "af08796a-1649-4f08-a185-5ec1c867941f",
       "rows": [
        [
         "0",
         "panas roket ditembakkan dari gaza ke israel",
         "panas roket ditembakkan dari gaza ke israel",
         "['panas', 'roket', 'ditembakkan', 'dari', 'gaza', 'ke', 'israel']",
         "['panas', 'roket', 'ditembakkan', 'dari', 'gaza', 'ke', 'israel']",
         "['panas', 'roket', 'ditembakkan_dari', 'gaza', 'ke', 'israel']",
         "['panas', 'roket', 'ditembakkan_dari', 'gaza', 'ke', 'israel']",
         "['panas', 'roket', 'ditembakkan_dari', 'gaza', 'israel']"
        ],
        [
         "1",
         "militer israel mulai operasi skala besar perangi hamas",
         "militer israel mulai operasi skala besar perangi hamas",
         "['militer', 'israel', 'mulai', 'operasi', 'skala', 'besar', 'perangi', 'hamas']",
         "['militer', 'israel', 'mulai', 'operasi', 'skala_besar', 'perangi', 'hamas']",
         "['militer', 'israel', 'mulai', 'operasi', 'skala_besar', 'perangi', 'hamas']",
         "['militer', 'israel', 'mulai', 'operasi', 'skala_besar', 'perangi', 'hamas']",
         "['militer', 'israel', 'operasi', 'skala_besar', 'perangi', 'hamas']"
        ],
        [
         "2",
         "perang hamas vs israel pecah rusia desak semua pihak menahan diri",
         "perang hamas versus israel pecah rusia desak semua pihak menahan diri",
         "['perang', 'hamas', 'versus', 'israel', 'pecah', 'rusia', 'desak', 'semua', 'pihak', 'menahan', 'diri']",
         "['perang', 'hamas_versus', 'israel', 'pecah', 'rusia', 'desak', 'semua_pihak', 'menahan', 'diri']",
         "['perang_hamas_versus', 'israel', 'pecah', 'rusia', 'desak', 'semua_pihak', 'menahan', 'diri']",
         "['perang_hamas_versus', 'israel', 'pecah', 'rusia', 'desak', 'semua_pihak', 'menahan', 'diri']",
         "['perang_hamas_versus', 'israel', 'pecah', 'rusia', 'desak', 'semua_pihak', 'menahan']"
        ],
        [
         "3",
         "perang hamas vs israel rusia serukan gencatan senjata",
         "perang hamas versus israel rusia serukan gencatan senjata",
         "['perang', 'hamas', 'versus', 'israel', 'rusia', 'serukan', 'gencatan', 'senjata']",
         "['perang', 'hamas_versus', 'israel', 'rusia', 'serukan_gencatan', 'senjata']",
         "['perang_hamas_versus', 'israel', 'rusia', 'serukan_gencatan_senjata']",
         "['perang_hamas_versus', 'israel', 'rusia', 'serukan_gencatan_senjata']",
         "['perang_hamas_versus', 'israel', 'rusia', 'serukan_gencatan_senjata']"
        ],
        [
         "4",
         "fakta dampak hamas vs israel orang tewas rs indonesia kena serang",
         "fakta dampak hamas versus israel orang tewas rumah sakit indonesia kena serang",
         "['fakta', 'dampak', 'hamas', 'versus', 'israel', 'orang', 'tewas', 'rumah', 'sakit', 'indonesia', 'kena', 'serang']",
         "['fakta', 'dampak', 'hamas_versus', 'israel', 'orang_tewas', 'rumah_sakit', 'indonesia', 'kena', 'serang']",
         "['fakta', 'dampak', 'hamas_versus', 'israel', 'orang_tewas', 'rumah_sakit_indonesia', 'kena', 'serang']",
         "['fakta', 'dampak', 'hamas_versus', 'israel', 'orang_tewas', 'rumah_sakit_indonesia', 'kena', 'serang']",
         "['fakta', 'dampak', 'hamas_versus', 'israel', 'orang_tewas', 'rumah_sakit_indonesia', 'kena', 'serang']"
        ]
       ],
       "shape": {
        "columns": 7,
        "rows": 5
       }
      },
      "text/html": [
       "<div>\n",
       "<style scoped>\n",
       "    .dataframe tbody tr th:only-of-type {\n",
       "        vertical-align: middle;\n",
       "    }\n",
       "\n",
       "    .dataframe tbody tr th {\n",
       "        vertical-align: top;\n",
       "    }\n",
       "\n",
       "    .dataframe thead th {\n",
       "        text-align: right;\n",
       "    }\n",
       "</style>\n",
       "<table border=\"1\" class=\"dataframe\">\n",
       "  <thead>\n",
       "    <tr style=\"text-align: right;\">\n",
       "      <th></th>\n",
       "      <th>judul_berita</th>\n",
       "      <th>textdata_normalized</th>\n",
       "      <th>tokenized</th>\n",
       "      <th>bigrams</th>\n",
       "      <th>trigrams</th>\n",
       "      <th>tokens</th>\n",
       "      <th>textdata_tokens_nsw</th>\n",
       "    </tr>\n",
       "  </thead>\n",
       "  <tbody>\n",
       "    <tr>\n",
       "      <th>0</th>\n",
       "      <td>panas roket ditembakkan dari gaza ke israel</td>\n",
       "      <td>panas roket ditembakkan dari gaza ke israel</td>\n",
       "      <td>[panas, roket, ditembakkan, dari, gaza, ke, is...</td>\n",
       "      <td>[panas, roket, ditembakkan, dari, gaza, ke, is...</td>\n",
       "      <td>[panas, roket, ditembakkan_dari, gaza, ke, isr...</td>\n",
       "      <td>[panas, roket, ditembakkan_dari, gaza, ke, isr...</td>\n",
       "      <td>[panas, roket, ditembakkan_dari, gaza, israel]</td>\n",
       "    </tr>\n",
       "    <tr>\n",
       "      <th>1</th>\n",
       "      <td>militer israel mulai operasi skala besar peran...</td>\n",
       "      <td>militer israel mulai operasi skala besar peran...</td>\n",
       "      <td>[militer, israel, mulai, operasi, skala, besar...</td>\n",
       "      <td>[militer, israel, mulai, operasi, skala_besar,...</td>\n",
       "      <td>[militer, israel, mulai, operasi, skala_besar,...</td>\n",
       "      <td>[militer, israel, mulai, operasi, skala_besar,...</td>\n",
       "      <td>[militer, israel, operasi, skala_besar, perang...</td>\n",
       "    </tr>\n",
       "    <tr>\n",
       "      <th>2</th>\n",
       "      <td>perang hamas vs israel pecah rusia desak semua...</td>\n",
       "      <td>perang hamas versus israel pecah rusia desak s...</td>\n",
       "      <td>[perang, hamas, versus, israel, pecah, rusia, ...</td>\n",
       "      <td>[perang, hamas_versus, israel, pecah, rusia, d...</td>\n",
       "      <td>[perang_hamas_versus, israel, pecah, rusia, de...</td>\n",
       "      <td>[perang_hamas_versus, israel, pecah, rusia, de...</td>\n",
       "      <td>[perang_hamas_versus, israel, pecah, rusia, de...</td>\n",
       "    </tr>\n",
       "    <tr>\n",
       "      <th>3</th>\n",
       "      <td>perang hamas vs israel rusia serukan gencatan ...</td>\n",
       "      <td>perang hamas versus israel rusia serukan genca...</td>\n",
       "      <td>[perang, hamas, versus, israel, rusia, serukan...</td>\n",
       "      <td>[perang, hamas_versus, israel, rusia, serukan_...</td>\n",
       "      <td>[perang_hamas_versus, israel, rusia, serukan_g...</td>\n",
       "      <td>[perang_hamas_versus, israel, rusia, serukan_g...</td>\n",
       "      <td>[perang_hamas_versus, israel, rusia, serukan_g...</td>\n",
       "    </tr>\n",
       "    <tr>\n",
       "      <th>4</th>\n",
       "      <td>fakta dampak hamas vs israel orang tewas rs in...</td>\n",
       "      <td>fakta dampak hamas versus israel orang tewas r...</td>\n",
       "      <td>[fakta, dampak, hamas, versus, israel, orang, ...</td>\n",
       "      <td>[fakta, dampak, hamas_versus, israel, orang_te...</td>\n",
       "      <td>[fakta, dampak, hamas_versus, israel, orang_te...</td>\n",
       "      <td>[fakta, dampak, hamas_versus, israel, orang_te...</td>\n",
       "      <td>[fakta, dampak, hamas_versus, israel, orang_te...</td>\n",
       "    </tr>\n",
       "  </tbody>\n",
       "</table>\n",
       "</div>"
      ],
      "text/plain": [
       "                                        judul_berita  \\\n",
       "0        panas roket ditembakkan dari gaza ke israel   \n",
       "1  militer israel mulai operasi skala besar peran...   \n",
       "2  perang hamas vs israel pecah rusia desak semua...   \n",
       "3  perang hamas vs israel rusia serukan gencatan ...   \n",
       "4  fakta dampak hamas vs israel orang tewas rs in...   \n",
       "\n",
       "                                 textdata_normalized  \\\n",
       "0        panas roket ditembakkan dari gaza ke israel   \n",
       "1  militer israel mulai operasi skala besar peran...   \n",
       "2  perang hamas versus israel pecah rusia desak s...   \n",
       "3  perang hamas versus israel rusia serukan genca...   \n",
       "4  fakta dampak hamas versus israel orang tewas r...   \n",
       "\n",
       "                                           tokenized  \\\n",
       "0  [panas, roket, ditembakkan, dari, gaza, ke, is...   \n",
       "1  [militer, israel, mulai, operasi, skala, besar...   \n",
       "2  [perang, hamas, versus, israel, pecah, rusia, ...   \n",
       "3  [perang, hamas, versus, israel, rusia, serukan...   \n",
       "4  [fakta, dampak, hamas, versus, israel, orang, ...   \n",
       "\n",
       "                                             bigrams  \\\n",
       "0  [panas, roket, ditembakkan, dari, gaza, ke, is...   \n",
       "1  [militer, israel, mulai, operasi, skala_besar,...   \n",
       "2  [perang, hamas_versus, israel, pecah, rusia, d...   \n",
       "3  [perang, hamas_versus, israel, rusia, serukan_...   \n",
       "4  [fakta, dampak, hamas_versus, israel, orang_te...   \n",
       "\n",
       "                                            trigrams  \\\n",
       "0  [panas, roket, ditembakkan_dari, gaza, ke, isr...   \n",
       "1  [militer, israel, mulai, operasi, skala_besar,...   \n",
       "2  [perang_hamas_versus, israel, pecah, rusia, de...   \n",
       "3  [perang_hamas_versus, israel, rusia, serukan_g...   \n",
       "4  [fakta, dampak, hamas_versus, israel, orang_te...   \n",
       "\n",
       "                                              tokens  \\\n",
       "0  [panas, roket, ditembakkan_dari, gaza, ke, isr...   \n",
       "1  [militer, israel, mulai, operasi, skala_besar,...   \n",
       "2  [perang_hamas_versus, israel, pecah, rusia, de...   \n",
       "3  [perang_hamas_versus, israel, rusia, serukan_g...   \n",
       "4  [fakta, dampak, hamas_versus, israel, orang_te...   \n",
       "\n",
       "                                 textdata_tokens_nsw  \n",
       "0     [panas, roket, ditembakkan_dari, gaza, israel]  \n",
       "1  [militer, israel, operasi, skala_besar, perang...  \n",
       "2  [perang_hamas_versus, israel, pecah, rusia, de...  \n",
       "3  [perang_hamas_versus, israel, rusia, serukan_g...  \n",
       "4  [fakta, dampak, hamas_versus, israel, orang_te...  "
      ]
     },
     "execution_count": 42,
     "metadata": {},
     "output_type": "execute_result"
    }
   ],
   "source": [
    "from nltk.corpus import stopwords\n",
    "\n",
    "list_stopwords = stopwords.words('indonesian')\n",
    "list_stopwords = set(list_stopwords)\n",
    "\n",
    "def stopwords_removal(words):\n",
    "    return [word for word in words if word not in list_stopwords]\n",
    "\n",
    "# nsw = no stop words\n",
    "df_titles['textdata_tokens_nsw'] = df_titles['tokens'].apply(stopwords_removal)\n",
    "df_titles.head()"
   ]
  },
  {
   "cell_type": "markdown",
   "metadata": {},
   "source": [
    "# 6. Stemming"
   ]
  },
  {
   "cell_type": "code",
   "execution_count": 43,
   "metadata": {},
   "outputs": [
    {
     "data": {
      "application/vnd.microsoft.datawrangler.viewer.v0+json": {
       "columns": [
        {
         "name": "index",
         "rawType": "int64",
         "type": "integer"
        },
        {
         "name": "textdata_tokens_nsw",
         "rawType": "object",
         "type": "unknown"
        },
        {
         "name": "textdata_tokens_stemmed",
         "rawType": "object",
         "type": "unknown"
        }
       ],
       "conversionMethod": "pd.DataFrame",
       "ref": "bb8e5cf1-d6d4-450b-b70a-374134d0ec58",
       "rows": [
        [
         "0",
         "['panas', 'roket', 'ditembakkan_dari', 'gaza', 'israel']",
         "['panas', 'roket', 'tembak dari', 'gaza', 'israel']"
        ],
        [
         "1",
         "['militer', 'israel', 'operasi', 'skala_besar', 'perangi', 'hamas']",
         "['militer', 'israel', 'operasi', 'skala besar', 'rang', 'hamas']"
        ],
        [
         "2",
         "['perang_hamas_versus', 'israel', 'pecah', 'rusia', 'desak', 'semua_pihak', 'menahan']",
         "['perang hamas versus', 'israel', 'pecah', 'rusia', 'desak', 'semua pihak', 'tahan']"
        ],
        [
         "3",
         "['perang_hamas_versus', 'israel', 'rusia', 'serukan_gencatan_senjata']",
         "['perang hamas versus', 'israel', 'rusia', 'seru gencat senjata']"
        ],
        [
         "4",
         "['fakta', 'dampak', 'hamas_versus', 'israel', 'orang_tewas', 'rumah_sakit_indonesia', 'kena', 'serang']",
         "['fakta', 'dampak', 'hamas versus', 'israel', 'orang tewas', 'rumah sakit indonesia', 'kena', 'serang']"
        ]
       ],
       "shape": {
        "columns": 2,
        "rows": 5
       }
      },
      "text/html": [
       "<div>\n",
       "<style scoped>\n",
       "    .dataframe tbody tr th:only-of-type {\n",
       "        vertical-align: middle;\n",
       "    }\n",
       "\n",
       "    .dataframe tbody tr th {\n",
       "        vertical-align: top;\n",
       "    }\n",
       "\n",
       "    .dataframe thead th {\n",
       "        text-align: right;\n",
       "    }\n",
       "</style>\n",
       "<table border=\"1\" class=\"dataframe\">\n",
       "  <thead>\n",
       "    <tr style=\"text-align: right;\">\n",
       "      <th></th>\n",
       "      <th>textdata_tokens_nsw</th>\n",
       "      <th>textdata_tokens_stemmed</th>\n",
       "    </tr>\n",
       "  </thead>\n",
       "  <tbody>\n",
       "    <tr>\n",
       "      <th>0</th>\n",
       "      <td>[panas, roket, ditembakkan_dari, gaza, israel]</td>\n",
       "      <td>[panas, roket, tembak dari, gaza, israel]</td>\n",
       "    </tr>\n",
       "    <tr>\n",
       "      <th>1</th>\n",
       "      <td>[militer, israel, operasi, skala_besar, perang...</td>\n",
       "      <td>[militer, israel, operasi, skala besar, rang, ...</td>\n",
       "    </tr>\n",
       "    <tr>\n",
       "      <th>2</th>\n",
       "      <td>[perang_hamas_versus, israel, pecah, rusia, de...</td>\n",
       "      <td>[perang hamas versus, israel, pecah, rusia, de...</td>\n",
       "    </tr>\n",
       "    <tr>\n",
       "      <th>3</th>\n",
       "      <td>[perang_hamas_versus, israel, rusia, serukan_g...</td>\n",
       "      <td>[perang hamas versus, israel, rusia, seru genc...</td>\n",
       "    </tr>\n",
       "    <tr>\n",
       "      <th>4</th>\n",
       "      <td>[fakta, dampak, hamas_versus, israel, orang_te...</td>\n",
       "      <td>[fakta, dampak, hamas versus, israel, orang te...</td>\n",
       "    </tr>\n",
       "  </tbody>\n",
       "</table>\n",
       "</div>"
      ],
      "text/plain": [
       "                                 textdata_tokens_nsw  \\\n",
       "0     [panas, roket, ditembakkan_dari, gaza, israel]   \n",
       "1  [militer, israel, operasi, skala_besar, perang...   \n",
       "2  [perang_hamas_versus, israel, pecah, rusia, de...   \n",
       "3  [perang_hamas_versus, israel, rusia, serukan_g...   \n",
       "4  [fakta, dampak, hamas_versus, israel, orang_te...   \n",
       "\n",
       "                             textdata_tokens_stemmed  \n",
       "0          [panas, roket, tembak dari, gaza, israel]  \n",
       "1  [militer, israel, operasi, skala besar, rang, ...  \n",
       "2  [perang hamas versus, israel, pecah, rusia, de...  \n",
       "3  [perang hamas versus, israel, rusia, seru genc...  \n",
       "4  [fakta, dampak, hamas versus, israel, orang te...  "
      ]
     },
     "execution_count": 43,
     "metadata": {},
     "output_type": "execute_result"
    }
   ],
   "source": [
    "from Sastrawi.Stemmer.StemmerFactory import StemmerFactory\n",
    "\n",
    "factory = StemmerFactory()\n",
    "stemmer = factory.create_stemmer()\n",
    "\n",
    "def stem_words(words):\n",
    "    return [stemmer.stem(word) for word in words]\n",
    "\n",
    "df_titles['textdata_tokens_stemmed'] = df_titles['textdata_tokens_nsw'].apply(stem_words)\n",
    "df_titles[['textdata_tokens_nsw', 'textdata_tokens_stemmed']].head()\n"
   ]
  },
  {
   "cell_type": "markdown",
   "metadata": {},
   "source": [
    "# 7. POS Tagging"
   ]
  },
  {
   "cell_type": "code",
   "execution_count": null,
   "metadata": {},
   "outputs": [
    {
     "name": "stderr",
     "output_type": "stream",
     "text": [
      "Downloading https://raw.githubusercontent.com/stanfordnlp/stanza-resources/main/resources_1.10.0.json: 424kB [00:00, 36.3MB/s]                    \n",
      "2025-02-28 14:14:42 INFO: Downloaded file to /Users/salmadanu/stanza_resources/resources.json\n",
      "2025-02-28 14:14:42 INFO: Downloading default packages for language: id (Indonesian) ...\n",
      "Downloading https://huggingface.co/stanfordnlp/stanza-id/resolve/v1.10.0/models/default.zip: 100%|██████████| 396M/396M [02:23<00:00, 2.75MB/s] \n",
      "2025-02-28 14:17:10 INFO: Downloaded file to /Users/salmadanu/stanza_resources/id/default.zip\n",
      "2025-02-28 14:17:22 INFO: Finished downloading models and saved to /Users/salmadanu/stanza_resources\n",
      "2025-02-28 14:17:22 INFO: Checking for updates to resources.json in case models have been updated.  Note: this behavior can be turned off with download_method=None or download_method=DownloadMethod.REUSE_RESOURCES\n",
      "Downloading https://raw.githubusercontent.com/stanfordnlp/stanza-resources/main/resources_1.10.0.json: 424kB [00:00, 52.2MB/s]                    \n",
      "2025-02-28 14:17:22 INFO: Downloaded file to /Users/salmadanu/stanza_resources/resources.json\n",
      "2025-02-28 14:17:22 WARNING: Language id package default expects mwt, which has been added\n",
      "2025-02-28 14:17:23 INFO: Loading these models for language: id (Indonesian):\n",
      "==========================\n",
      "| Processor | Package    |\n",
      "--------------------------\n",
      "| tokenize  | gsd        |\n",
      "| mwt       | gsd        |\n",
      "| pos       | gsd_charlm |\n",
      "==========================\n",
      "\n",
      "2025-02-28 14:17:23 INFO: Using device: cpu\n",
      "2025-02-28 14:17:23 INFO: Loading: tokenize\n",
      "2025-02-28 14:17:31 INFO: Loading: mwt\n",
      "2025-02-28 14:17:32 INFO: Loading: pos\n",
      "2025-02-28 14:17:53 INFO: Done loading processors!\n"
     ]
    },
    {
     "ename": "",
     "evalue": "",
     "output_type": "error",
     "traceback": [
      "\u001b[1;31mCannot execute code, session has been disposed. Please try restarting the Kernel."
     ]
    },
    {
     "ename": "",
     "evalue": "",
     "output_type": "error",
     "traceback": [
      "\u001b[1;31mCannot execute code, session has been disposed. Please try restarting the Kernel. \n",
      "\u001b[1;31mView Jupyter <a href='command:jupyter.viewOutput'>log</a> for further details."
     ]
    }
   ],
   "source": [
    "import stanza\n",
    "\n",
    "# Download and load Indonesian Stanza model\n",
    "stanza.download('id')\n",
    "nlp = stanza.Pipeline('id', processors='tokenize,pos')\n",
    "\n",
    "# Function to filter nouns & verbs\n",
    "def pos_filtering_stanza(words):\n",
    "    doc = nlp(\" \".join(words))\n",
    "    filtered_words = [word.text for sentence in doc.sentences for word in sentence.words if word.upos in {\"NOUN\", \"VERB\"}]\n",
    "    return filtered_words\n",
    "\n",
    "# Apply POS filtering\n",
    "df_titles['textdata_tokens_pos'] = df_titles['textdata_tokens_stemmed'].apply(pos_filtering_stanza)"
   ]
  },
  {
   "cell_type": "code",
   "execution_count": null,
   "metadata": {},
   "outputs": [],
   "source": []
  }
 ],
 "metadata": {
  "kernelspec": {
   "display_name": "venv",
   "language": "python",
   "name": "python3"
  },
  "language_info": {
   "codemirror_mode": {
    "name": "ipython",
    "version": 3
   },
   "file_extension": ".py",
   "mimetype": "text/x-python",
   "name": "python",
   "nbconvert_exporter": "python",
   "pygments_lexer": "ipython3",
   "version": "3.9.7"
  }
 },
 "nbformat": 4,
 "nbformat_minor": 2
}
