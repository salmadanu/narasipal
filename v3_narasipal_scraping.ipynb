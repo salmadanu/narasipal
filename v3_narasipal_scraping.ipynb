{
 "cells": [
  {
   "cell_type": "markdown",
   "metadata": {},
   "source": [
    "# V3 Narasipal Scraping\n",
    "Adjustments:\n",
    "- Asynchronous requests\n",
    "- Reduce unnecessary wait times\n",
    "- Headless & optimized selenium\n",
    "- Parallel processing\n",
    "- Session reuse"
   ]
  },
  {
   "cell_type": "code",
   "execution_count": null,
   "metadata": {},
   "outputs": [],
   "source": [
    "import asyncio\n",
    "import aiohttp\n",
    "from bs4 import BeautifulSoup\n",
    "from selenium.webdriver.common.by import By\n",
    "from selenium.webdriver.support.ui import WebDriverWait\n",
    "from selenium.webdriver.support import expected_conditions as EC\n",
    "from seleniumbase import Driver\n",
    "from concurrent.futures import ThreadPoolExecutor\n",
    "import csv\n",
    "import json\n",
    "import sys\n",
    "sys.path.append(\"/Users/salmadanu/Desktop/Skripsi/skripsi-env/skripsienv/lib/python3.9/site-packages\")\n",
    "import undetected_chromedriver as uc"
   ]
  },
  {
   "cell_type": "markdown",
   "metadata": {},
   "source": [
    "# Kompas"
   ]
  },
  {
   "cell_type": "code",
   "execution_count": null,
   "metadata": {},
   "outputs": [],
   "source": [
    "def configure_driver():\n",
    "    options = uc.ChromeOptions()\n",
    "    options.add_argument(\"--headless\")  # Run without UI\n",
    "    options.add_argument(\"--no-sandbox\")\n",
    "    options.add_argument(\"--disable-dev-shm-usage\")\n",
    "    options.add_argument(\"--blink-settings=imagesEnabled=false\")  # Disable images for faster loading\n",
    "\n",
    "    driver = uc.Chrome(options=options)  # ✅ Correct way to initialize\n",
    "    return driver\n"
   ]
  },
  {
   "cell_type": "code",
   "execution_count": null,
   "metadata": {},
   "outputs": [],
   "source": [
    "async def fetch_page(session, url):\n",
    "    async with session.get(url) as response:\n",
    "        return await response.text()\n",
    "\n",
    "async def scrape_links_kompas(page_num):\n",
    "    url = f\"https://www.kompas.com/tag/palestina?page={page_num}\"\n",
    "    async with aiohttp.ClientSession() as session:\n",
    "        html = await fetch_page(session, url)\n",
    "        soup = BeautifulSoup(html, \"lxml\")\n",
    "        return [a['href'] for a in soup.select('div.article__list a[href]')]"
   ]
  },
  {
   "cell_type": "code",
   "execution_count": null,
   "metadata": {},
   "outputs": [],
   "source": [
    "def scrape_article_details(driver, link):\n",
    "    driver.get(link)\n",
    "    details = {'url': link}\n",
    "    try:\n",
    "        title_element = WebDriverWait(driver, 3).until(\n",
    "            EC.presence_of_element_located((By.CLASS_NAME, 'read__title'))\n",
    "        )\n",
    "        title = title_element.text.strip()\n",
    "        details['content_title'] = title\n",
    "    except:\n",
    "        details['content_title'] = \"unknown\"\n",
    "    return details"
   ]
  },
  {
   "cell_type": "code",
   "execution_count": null,
   "metadata": {},
   "outputs": [],
   "source": [
    "from concurrent.futures import ThreadPoolExecutor, as_completed\n",
    "\n",
    "def scrape_articles_parallel(links):\n",
    "    driver = configure_driver()\n",
    "    results = []\n",
    "\n",
    "    with ThreadPoolExecutor(max_workers=5) as executor:\n",
    "        future_to_url = {executor.submit(scrape_article_details, driver, link): link for link in links}\n",
    "\n",
    "        for future in as_completed(future_to_url):\n",
    "            url = future_to_url[future]\n",
    "            try:\n",
    "                data = future.result()\n",
    "                if data:  # Check if scraping was successful\n",
    "                    results.append(data)\n",
    "                    print(f\"Done scraping: {url}\")\n",
    "            except Exception as e:\n",
    "                print(f\"Failed scraping {url}: {e}\")\n",
    "\n",
    "    driver.quit()\n",
    "    return results"
   ]
  },
  {
   "cell_type": "code",
   "execution_count": null,
   "metadata": {},
   "outputs": [],
   "source": [
    "async def main():\n",
    "    page_numbers = range(194, 195)  # Adjust range as needed\n",
    "    tasks = [scrape_links_kompas(page) for page in page_numbers]\n",
    "    all_links = await asyncio.gather(*tasks)\n",
    "    flat_links = [link for sublist in all_links for link in sublist]\n",
    "    \n",
    "    print(f\"Total articles found: {len(flat_links)}\")\n",
    "    articles_data = scrape_articles_parallel(flat_links)\n",
    "    \n",
    "    with open(\"kompas_194.csv\", \"w\", newline=\"\", encoding=\"utf-8\") as csvfile:\n",
    "        fieldnames = sorted(set(key for data in articles_data for key in data.keys()))\n",
    "        writer = csv.DictWriter(csvfile, fieldnames=fieldnames)\n",
    "        writer.writeheader()\n",
    "        writer.writerows(articles_data)\n",
    "    print(\"Scraping completed successfully!\")\n",
    "\n",
    "if __name__ == \"__main__\":\n",
    "    import nest_asyncio\n",
    "    nest_asyncio.apply()\n",
    "    asyncio.get_event_loop().run_until_complete(main())\n"
   ]
  },
  {
   "cell_type": "code",
   "execution_count": null,
   "metadata": {},
   "outputs": [],
   "source": []
  }
 ],
 "metadata": {
  "kernelspec": {
   "display_name": "venv",
   "language": "python",
   "name": "python3"
  },
  "language_info": {
   "codemirror_mode": {
    "name": "ipython",
    "version": 3
   },
   "file_extension": ".py",
   "mimetype": "text/x-python",
   "name": "python",
   "nbconvert_exporter": "python",
   "pygments_lexer": "ipython3",
   "version": "3.9.7"
  }
 },
 "nbformat": 4,
 "nbformat_minor": 2
}
